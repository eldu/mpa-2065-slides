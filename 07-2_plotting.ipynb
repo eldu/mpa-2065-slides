{
 "cells": [
  {
   "cell_type": "markdown",
   "id": "08e95bda-b04a-4665-a2dc-443bfb2f0778",
   "metadata": {
    "tags": []
   },
   "source": [
    "<center><h1>Introduction to ggplot2</h1></center>\n",
    "<center><h3>Ellen Duong</h3></center>\n",
    "<center><h3>August Guang</h3></center>"
   ]
  },
  {
   "cell_type": "markdown",
   "id": "3c9be8a7-3438-4b86-9631-91e007c784b4",
   "metadata": {},
   "source": [
    "> [ggplot2](https://ggplot2.tidyverse.org/) is a system for declaratively creating graphics, based on The Grammar of Graphics. You provide the data, tell ggplot2 how to map variables to aesthetics, what graphical primitives to use, and it takes care of the details. [(Source: ggplot2 Tidyverse Documentation)](https://ggplot2.tidyverse.org/)"
   ]
  },
  {
   "cell_type": "code",
   "execution_count": 1,
   "id": "b0420f8c-f6a7-4853-af5b-a701b2639922",
   "metadata": {
    "tags": []
   },
   "outputs": [],
   "source": [
    "# import the library\n",
    "library(ggplot2)"
   ]
  },
  {
   "cell_type": "markdown",
   "id": "4953bd57-ee74-4d0e-96cc-2dcd24ab760e",
   "metadata": {
    "tags": []
   },
   "source": [
    "## Basic template for creating plots in ggplot2\n",
    "\n",
    "```R\n",
    "ggplot(data = <DATA>, mapping = aes(<MAPPINGS>)) +  <GEOM_FUNCTION>()\n",
    "```\n",
    "\n",
    "- [Official Documentation](https://ggplot2.tidyverse.org/reference/)\n",
    "- [ggplot2 Cheatsheet](https://github.com/rstudio/cheatsheets/blob/master/data-visualization.pdf)"
   ]
  },
  {
   "cell_type": "markdown",
   "id": "d059bab4-053a-40f7-82a2-2100cc55354c",
   "metadata": {},
   "source": [
    "### Arguments of `ggplot`\n",
    "\n",
    "| Argument | Description |\n",
    "| --- | --- |\n",
    "| `data` | the data frame to plot |\n",
    "| `mapping` | an aesthetic mapping function |"
   ]
  },
  {
   "cell_type": "markdown",
   "id": "746e8d9d-47a9-4931-967e-a7574647126f",
   "metadata": {
    "tags": []
   },
   "source": [
    "### Aesthetic mapping `mapping = aes(<MAPPINGS>)`\n",
    "Describes how variables in the data are mapped to visual properties of geoms. Such as x/y positions or characteristics such as size, shape, color, etc.\n",
    "\n",
    "[Offical Documentation](https://ggplot2.tidyverse.org/reference/aes.html)\n",
    "\n",
    "| Argument | Description |\n",
    "| --- | --- |\n",
    "| x, y | [\\<data-masking\\>](https://rlang.r-lib.org/reference/topic-data-mask.html) List of name-value pairs in the form `aesthetic = variable` describing which variables in the layer data should be mapped to which aesthetics used by the paired geom/stat. The expression variable is evaluated within the layer data, so there is no need to refer to the original dataset (i.e., use `ggplot(df, aes(variable)`) instead of `ggplot(df, aes(df$variable))`). The names for x and y aesthetics are typically omitted because they are so common; all other aesthetics must be named. |\n",
    "\n",
    "Data-masking is a distinctive feature of R whereby programming is performed directly on a data set, with columns defined as normal objects"
   ]
  },
  {
   "cell_type": "markdown",
   "id": "f07b739c-67d1-4796-883d-f6c4c60221cf",
   "metadata": {
    "tags": []
   },
   "source": [
    "### Basic Aesthetics\n",
    "\n",
    "- Color and fill of various objects\n",
    "- Lines size/type\n",
    "- Point shape, color, and fill\n",
    "- Text size, font, font face, and justification\n",
    "\n",
    "[Basic Aesthetics Documentation](https://bookdown.org/yih_huynh/Guide-to-R-Book/basic-aesthetics.html)"
   ]
  },
  {
   "cell_type": "markdown",
   "id": "49f2d2c4-41fa-46c7-9cd1-abc3b8ca995d",
   "metadata": {
    "tags": []
   },
   "source": [
    "## Basic Geoms\n",
    "Geoms are layers that combine data, aesthetic mapping, a geometric object, a statistical transformation, and a position adjustment. Overrides the default position and stat if needed\n",
    "\n",
    "| Geom | Description |\n",
    "| --- | --- |\n",
    "| `geom_point()` | scatterplots, dot plots |\n",
    "| `geom_boxplot()` | box plots |\n",
    "| `geom_line()` | trend lines, time series, etc. |\n",
    "| `geom_bar()` | bar chart |\n",
    "| `geom_histogram()` | histogram |"
   ]
  },
  {
   "cell_type": "markdown",
   "id": "75953766-0095-4a58-8e19-3a538f878540",
   "metadata": {
    "tags": []
   },
   "source": [
    "## Additional Resources\n",
    "\n",
    "[Data Visualization with ggplot2](https://datacarpentry.org/R-ecology-lesson/04-visualization-ggplot2.html): This has great examples and challenge questions !"
   ]
  }
 ],
 "metadata": {
  "kernelspec": {
   "display_name": "R",
   "language": "R",
   "name": "ir"
  },
  "language_info": {
   "codemirror_mode": "r",
   "file_extension": ".r",
   "mimetype": "text/x-r-source",
   "name": "R",
   "pygments_lexer": "r",
   "version": "4.3.1"
  }
 },
 "nbformat": 4,
 "nbformat_minor": 5
}
