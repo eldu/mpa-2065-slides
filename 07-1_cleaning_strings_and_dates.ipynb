{
 "cells": [
  {
   "cell_type": "markdown",
   "metadata": {
    "slideshow": {
     "slide_type": "slide"
    }
   },
   "source": [
    "<center><h1>Cleaning Strings and Dates in R</h1></center>\n",
    "<center><h3>Ellen Duong</h3></center>\n",
    "<center><h3>August Guang</h3></center>\n",
    "<center><h3>Paul Stey</h3></center>"
   ]
  },
  {
   "cell_type": "markdown",
   "metadata": {
    "slideshow": {
     "slide_type": "slide"
    }
   },
   "source": [
    "# 1. What is Data Cleaning?\n",
    "  - No uniform definition \"data cleaning\"\n",
    "  - Roughly speaking, refers to exploring the idiosyncrasies of a data set, and then addressing them in a principled manner so as to allow for data analysis"
   ]
  },
  {
   "cell_type": "markdown",
   "metadata": {
    "slideshow": {
     "slide_type": "subslide"
    }
   },
   "source": [
    "## 1.1 Examples of Data Cleaning\n",
    "\n",
    "  - Recoding `\"NULL\"`, `\" \"`, `\"\"`, to be `NA`\n",
    "  - Eliminating duplicate entries\n",
    "  - Ensure numeric data is being treated as numerics (e.g., `\"2\" + 2 != 4`)\n",
    "  - Treating dates or timestamps as `Date` or `POSIXct` data type "
   ]
  },
  {
   "cell_type": "markdown",
   "metadata": {
    "slideshow": {
     "slide_type": "slide"
    }
   },
   "source": [
    "# 2. Cleaning Strings\n",
    "\n",
    "  - Parsing/cleaning/extracting info from strings is extremely common\n",
    "  - Parsing timestamp strings is a great example"
   ]
  },
  {
   "cell_type": "markdown",
   "metadata": {
    "tags": []
   },
   "source": [
    "## `stringr` package\n"
   ]
  },
  {
   "cell_type": "code",
   "execution_count": 1,
   "metadata": {
    "tags": []
   },
   "outputs": [],
   "source": [
    "# Load stringr package\n",
    "library(stringr)"
   ]
  },
  {
   "cell_type": "markdown",
   "metadata": {
    "slideshow": {
     "slide_type": "slide"
    }
   },
   "source": [
    "Common `stringr` functions\n",
    "\n",
    "[Source with examples](https://appsilon.com/stringr-examples/)\n",
    "\n",
    "| Function | Description | Format |\n",
    "| --- | --- | --- |\n",
    "| `str_length` | Returns the number of characters in a given string | `str_length(x)`\n",
    "| `str_sub` | Returns a substring of a given string | `str_sub(x, start = <int: starting index>, end = <int: ending index>)` |\n",
    "| `str_detect` | Returns a boolean or a vector of booleans that determin if the pattern exists in the given string. | `str_detect(x, <str: pattern>)` |\n",
    "| `str_replace` | Replaces the first occurance of the pattern with the replacement string | `str_replace(x, <str: pattern>, <str: replacement string>)` |\n",
    "| `str_replace_all` | Replaces all occurances of the pattern with the replacement string | `str_replace_all(x, <str: pattern>, <str: replacement string>)` |"
   ]
  },
  {
   "cell_type": "code",
   "execution_count": 6,
   "metadata": {},
   "outputs": [
    {
     "data": {
      "text/html": [
       "'Hello, Ellen~!'"
      ],
      "text/latex": [
       "'Hello, Ellen\\textasciitilde{}!'"
      ],
      "text/markdown": [
       "'Hello, Ellen~!'"
      ],
      "text/plain": [
       "[1] \"Hello, Ellen~!\""
      ]
     },
     "metadata": {},
     "output_type": "display_data"
    }
   ],
   "source": []
  },
  {
   "cell_type": "markdown",
   "metadata": {
    "slideshow": {
     "slide_type": "slide"
    },
    "tags": []
   },
   "source": [
    "| Function | Description | Format |\n",
    "| --- | --- | --- |\n",
    "| `str_count` | Counts the number of times a patter appears in a string | `str_count(x, <str: pattern>)` |\n",
    "| `str_subset` | Returns a subset of vectors of strings that match a pattern | `str_subset(x, <str: pattern>)` |\n",
    "| `str_trim` | Removes leading and trailing whitespaces | `str_trim(x)` |\n",
    "| `str_split` | Splits a string or a vector of strings into a vector of substrings or a list of vectors of substrings, depending on the format of data passed in. | `str_split(x, <str: delimiter>)`"
   ]
  },
  {
   "cell_type": "markdown",
   "metadata": {
    "slideshow": {
     "slide_type": "slide"
    }
   },
   "source": [
    "More common `stringr` functions\n",
    "\n",
    "| Function | Description | Format |\n",
    "| --- | --- | --- |\n",
    "| `str_to_title` | Capitalizes the first letter of each word in a string | `str_to_title(x)` |\n",
    "| `str_to_sentence` | Capitalizes the first letter of a string | `str_to_sentence(x)` |\n",
    "| `str_to_upper` | Uppercase the entire string | `str_to_upper(x)` |\n",
    "| `str_to_lower` | Lowercase the entire string | `str_to_lower(x)` |"
   ]
  },
  {
   "cell_type": "markdown",
   "metadata": {
    "slideshow": {
     "slide_type": "subslide"
    }
   },
   "source": [
    "## 2.1 Errors in our `officer_cnt`"
   ]
  },
  {
   "cell_type": "code",
   "execution_count": 7,
   "metadata": {
    "slideshow": {
     "slide_type": "fragment"
    },
    "tags": []
   },
   "outputs": [
    {
     "name": "stderr",
     "output_type": "stream",
     "text": [
      "\n",
      "Attaching package: ‘dplyr’\n",
      "\n",
      "\n",
      "The following objects are masked from ‘package:stats’:\n",
      "\n",
      "    filter, lag\n",
      "\n",
      "\n",
      "The following objects are masked from ‘package:base’:\n",
      "\n",
      "    intersect, setdiff, setequal, union\n",
      "\n",
      "\n"
     ]
    }
   ],
   "source": [
    "# Load necessary packages and arrests data\n",
    "library(stringr)\n",
    "library(dplyr)\n",
    "\n",
    "arrests_df <- read.csv(\"data/pvd_arrests_2021-10-03.csv\")"
   ]
  },
  {
   "cell_type": "code",
   "execution_count": 8,
   "metadata": {},
   "outputs": [
    {
     "data": {
      "text/html": [
       "<table class=\"dataframe\">\n",
       "<caption>A data.frame: 6 × 18</caption>\n",
       "<thead>\n",
       "\t<tr><th></th><th scope=col>arrest_date</th><th scope=col>year</th><th scope=col>month</th><th scope=col>gender</th><th scope=col>race</th><th scope=col>ethnicity</th><th scope=col>year_of_birth</th><th scope=col>age</th><th scope=col>from_address</th><th scope=col>from_city</th><th scope=col>from_state</th><th scope=col>statute_type</th><th scope=col>statute_code</th><th scope=col>statute_desc</th><th scope=col>counts</th><th scope=col>case_number</th><th scope=col>arresting_officers</th><th scope=col>id</th></tr>\n",
       "\t<tr><th></th><th scope=col>&lt;chr&gt;</th><th scope=col>&lt;int&gt;</th><th scope=col>&lt;int&gt;</th><th scope=col>&lt;chr&gt;</th><th scope=col>&lt;chr&gt;</th><th scope=col>&lt;chr&gt;</th><th scope=col>&lt;int&gt;</th><th scope=col>&lt;int&gt;</th><th scope=col>&lt;chr&gt;</th><th scope=col>&lt;chr&gt;</th><th scope=col>&lt;chr&gt;</th><th scope=col>&lt;chr&gt;</th><th scope=col>&lt;chr&gt;</th><th scope=col>&lt;chr&gt;</th><th scope=col>&lt;int&gt;</th><th scope=col>&lt;chr&gt;</th><th scope=col>&lt;chr&gt;</th><th scope=col>&lt;chr&gt;</th></tr>\n",
       "</thead>\n",
       "<tbody>\n",
       "\t<tr><th scope=row>1</th><td>2019-08-24T02:23:00.0</td><td>2019</td><td>8</td><td>Male  </td><td>White</td><td>NonHispanic</td><td>1981</td><td>37</td><td>No Permanent Address</td><td>providence</td><td>Rhode Island</td><td>                    </td><td>        </td><td>                                                         </td><td>NA</td><td>2019-00084142</td><td> YGonzalez, LTaveras    </td><td>pvd2218242150382148273 </td></tr>\n",
       "\t<tr><th scope=row>2</th><td>2019-08-24T02:02:00.0</td><td>2019</td><td>8</td><td>      </td><td>     </td><td>           </td><td>1994</td><td>25</td><td>SUMMER AVE          </td><td>Cranston  </td><td>Rhode Island</td><td>RI Statute Violation</td><td>31-11-18</td><td>Driving after Denial, Suspension or Revocation of License</td><td> 1</td><td>2019-00084127</td><td> NManfredi              </td><td>pvd15166785558364246202</td></tr>\n",
       "\t<tr><th scope=row>3</th><td>2019-08-24T02:02:00.0</td><td>2019</td><td>8</td><td>Female</td><td>Black</td><td>NonHispanic</td><td>1984</td><td>34</td><td>DOUGLAS AVE         </td><td>Providence</td><td>Rhode Island</td><td>RI Statute Violation</td><td>12-7-10 </td><td>RESISTING LEGAL OR ILLEGAL ARREST                        </td><td> 1</td><td>2019-00084126</td><td> MPlace, JPerez, ASantos</td><td>pvd3142917706201385905 </td></tr>\n",
       "\t<tr><th scope=row>4</th><td>2019-08-24T02:02:00.0</td><td>2019</td><td>8</td><td>Female</td><td>Black</td><td>NonHispanic</td><td>1984</td><td>34</td><td>DOUGLAS AVE         </td><td>Providence</td><td>Rhode Island</td><td>RI Statute Violation</td><td>11-45-1 </td><td>DISORDERLY CONDUCT                                       </td><td> 1</td><td>2019-00084126</td><td> MPlace, JPerez, ASantos</td><td>pvd3142917706201385905 </td></tr>\n",
       "\t<tr><th scope=row>5</th><td>2019-08-24T02:02:00.0</td><td>2019</td><td>8</td><td>Female</td><td>Black</td><td>Unknown    </td><td>2001</td><td>18</td><td>TRASH ST            </td><td>          </td><td>            </td><td>RI Statute Violation</td><td>12-7-10 </td><td>RESISTING LEGAL OR ILLEGAL ARREST                        </td><td> 1</td><td>2019-00084126</td><td> MPlace, JPerez, ASantos</td><td>pvd460449304532374599  </td></tr>\n",
       "\t<tr><th scope=row>6</th><td>2019-08-24T02:02:00.0</td><td>2019</td><td>8</td><td>Female</td><td>Black</td><td>Unknown    </td><td>2001</td><td>18</td><td>TRASH ST            </td><td>          </td><td>            </td><td>RI Statute Violation</td><td>11-45-1 </td><td>DISORDERLY CONDUCT                                       </td><td> 1</td><td>2019-00084126</td><td> MPlace, JPerez, ASantos</td><td>pvd460449304532374599  </td></tr>\n",
       "</tbody>\n",
       "</table>\n"
      ],
      "text/latex": [
       "A data.frame: 6 × 18\n",
       "\\begin{tabular}{r|llllllllllllllllll}\n",
       "  & arrest\\_date & year & month & gender & race & ethnicity & year\\_of\\_birth & age & from\\_address & from\\_city & from\\_state & statute\\_type & statute\\_code & statute\\_desc & counts & case\\_number & arresting\\_officers & id\\\\\n",
       "  & <chr> & <int> & <int> & <chr> & <chr> & <chr> & <int> & <int> & <chr> & <chr> & <chr> & <chr> & <chr> & <chr> & <int> & <chr> & <chr> & <chr>\\\\\n",
       "\\hline\n",
       "\t1 & 2019-08-24T02:23:00.0 & 2019 & 8 & Male   & White & NonHispanic & 1981 & 37 & No Permanent Address & providence & Rhode Island &                      &          &                                                           & NA & 2019-00084142 &  YGonzalez, LTaveras     & pvd2218242150382148273 \\\\\n",
       "\t2 & 2019-08-24T02:02:00.0 & 2019 & 8 &        &       &             & 1994 & 25 & SUMMER AVE           & Cranston   & Rhode Island & RI Statute Violation & 31-11-18 & Driving after Denial, Suspension or Revocation of License &  1 & 2019-00084127 &  NManfredi               & pvd15166785558364246202\\\\\n",
       "\t3 & 2019-08-24T02:02:00.0 & 2019 & 8 & Female & Black & NonHispanic & 1984 & 34 & DOUGLAS AVE          & Providence & Rhode Island & RI Statute Violation & 12-7-10  & RESISTING LEGAL OR ILLEGAL ARREST                         &  1 & 2019-00084126 &  MPlace, JPerez, ASantos & pvd3142917706201385905 \\\\\n",
       "\t4 & 2019-08-24T02:02:00.0 & 2019 & 8 & Female & Black & NonHispanic & 1984 & 34 & DOUGLAS AVE          & Providence & Rhode Island & RI Statute Violation & 11-45-1  & DISORDERLY CONDUCT                                        &  1 & 2019-00084126 &  MPlace, JPerez, ASantos & pvd3142917706201385905 \\\\\n",
       "\t5 & 2019-08-24T02:02:00.0 & 2019 & 8 & Female & Black & Unknown     & 2001 & 18 & TRASH ST             &            &              & RI Statute Violation & 12-7-10  & RESISTING LEGAL OR ILLEGAL ARREST                         &  1 & 2019-00084126 &  MPlace, JPerez, ASantos & pvd460449304532374599  \\\\\n",
       "\t6 & 2019-08-24T02:02:00.0 & 2019 & 8 & Female & Black & Unknown     & 2001 & 18 & TRASH ST             &            &              & RI Statute Violation & 11-45-1  & DISORDERLY CONDUCT                                        &  1 & 2019-00084126 &  MPlace, JPerez, ASantos & pvd460449304532374599  \\\\\n",
       "\\end{tabular}\n"
      ],
      "text/markdown": [
       "\n",
       "A data.frame: 6 × 18\n",
       "\n",
       "| <!--/--> | arrest_date &lt;chr&gt; | year &lt;int&gt; | month &lt;int&gt; | gender &lt;chr&gt; | race &lt;chr&gt; | ethnicity &lt;chr&gt; | year_of_birth &lt;int&gt; | age &lt;int&gt; | from_address &lt;chr&gt; | from_city &lt;chr&gt; | from_state &lt;chr&gt; | statute_type &lt;chr&gt; | statute_code &lt;chr&gt; | statute_desc &lt;chr&gt; | counts &lt;int&gt; | case_number &lt;chr&gt; | arresting_officers &lt;chr&gt; | id &lt;chr&gt; |\n",
       "|---|---|---|---|---|---|---|---|---|---|---|---|---|---|---|---|---|---|---|\n",
       "| 1 | 2019-08-24T02:23:00.0 | 2019 | 8 | Male   | White | NonHispanic | 1981 | 37 | No Permanent Address | providence | Rhode Island | <!----> | <!----> | <!----> | NA | 2019-00084142 |  YGonzalez, LTaveras     | pvd2218242150382148273  |\n",
       "| 2 | 2019-08-24T02:02:00.0 | 2019 | 8 | <!----> | <!----> | <!----> | 1994 | 25 | SUMMER AVE           | Cranston   | Rhode Island | RI Statute Violation | 31-11-18 | Driving after Denial, Suspension or Revocation of License |  1 | 2019-00084127 |  NManfredi               | pvd15166785558364246202 |\n",
       "| 3 | 2019-08-24T02:02:00.0 | 2019 | 8 | Female | Black | NonHispanic | 1984 | 34 | DOUGLAS AVE          | Providence | Rhode Island | RI Statute Violation | 12-7-10  | RESISTING LEGAL OR ILLEGAL ARREST                         |  1 | 2019-00084126 |  MPlace, JPerez, ASantos | pvd3142917706201385905  |\n",
       "| 4 | 2019-08-24T02:02:00.0 | 2019 | 8 | Female | Black | NonHispanic | 1984 | 34 | DOUGLAS AVE          | Providence | Rhode Island | RI Statute Violation | 11-45-1  | DISORDERLY CONDUCT                                        |  1 | 2019-00084126 |  MPlace, JPerez, ASantos | pvd3142917706201385905  |\n",
       "| 5 | 2019-08-24T02:02:00.0 | 2019 | 8 | Female | Black | Unknown     | 2001 | 18 | TRASH ST             | <!----> | <!----> | RI Statute Violation | 12-7-10  | RESISTING LEGAL OR ILLEGAL ARREST                         |  1 | 2019-00084126 |  MPlace, JPerez, ASantos | pvd460449304532374599   |\n",
       "| 6 | 2019-08-24T02:02:00.0 | 2019 | 8 | Female | Black | Unknown     | 2001 | 18 | TRASH ST             | <!----> | <!----> | RI Statute Violation | 11-45-1  | DISORDERLY CONDUCT                                        |  1 | 2019-00084126 |  MPlace, JPerez, ASantos | pvd460449304532374599   |\n",
       "\n"
      ],
      "text/plain": [
       "  arrest_date           year month gender race  ethnicity   year_of_birth age\n",
       "1 2019-08-24T02:23:00.0 2019 8     Male   White NonHispanic 1981          37 \n",
       "2 2019-08-24T02:02:00.0 2019 8                              1994          25 \n",
       "3 2019-08-24T02:02:00.0 2019 8     Female Black NonHispanic 1984          34 \n",
       "4 2019-08-24T02:02:00.0 2019 8     Female Black NonHispanic 1984          34 \n",
       "5 2019-08-24T02:02:00.0 2019 8     Female Black Unknown     2001          18 \n",
       "6 2019-08-24T02:02:00.0 2019 8     Female Black Unknown     2001          18 \n",
       "  from_address         from_city  from_state   statute_type        \n",
       "1 No Permanent Address providence Rhode Island                     \n",
       "2 SUMMER AVE           Cranston   Rhode Island RI Statute Violation\n",
       "3 DOUGLAS AVE          Providence Rhode Island RI Statute Violation\n",
       "4 DOUGLAS AVE          Providence Rhode Island RI Statute Violation\n",
       "5 TRASH ST                                     RI Statute Violation\n",
       "6 TRASH ST                                     RI Statute Violation\n",
       "  statute_code statute_desc                                              counts\n",
       "1                                                                        NA    \n",
       "2 31-11-18     Driving after Denial, Suspension or Revocation of License  1    \n",
       "3 12-7-10      RESISTING LEGAL OR ILLEGAL ARREST                          1    \n",
       "4 11-45-1      DISORDERLY CONDUCT                                         1    \n",
       "5 12-7-10      RESISTING LEGAL OR ILLEGAL ARREST                          1    \n",
       "6 11-45-1      DISORDERLY CONDUCT                                         1    \n",
       "  case_number   arresting_officers       id                     \n",
       "1 2019-00084142  YGonzalez, LTaveras     pvd2218242150382148273 \n",
       "2 2019-00084127  NManfredi               pvd15166785558364246202\n",
       "3 2019-00084126  MPlace, JPerez, ASantos pvd3142917706201385905 \n",
       "4 2019-00084126  MPlace, JPerez, ASantos pvd3142917706201385905 \n",
       "5 2019-00084126  MPlace, JPerez, ASantos pvd460449304532374599  \n",
       "6 2019-00084126  MPlace, JPerez, ASantos pvd460449304532374599  "
      ]
     },
     "metadata": {},
     "output_type": "display_data"
    }
   ],
   "source": [
    "head(arrests_df)"
   ]
  },
  {
   "cell_type": "code",
   "execution_count": 9,
   "metadata": {
    "slideshow": {
     "slide_type": "fragment"
    },
    "tags": []
   },
   "outputs": [],
   "source": [
    "count_names <- function(names_str) {\n",
    "    # This function should return the number of names in \n",
    "    # the string `names_str` that we pass to the function. \n",
    "    \n",
    "    name_list <- str_split(names_str, \", \")\n",
    "    name_vec <- unlist(name_list)\n",
    "    k <- length(name_vec)\n",
    "    \n",
    "    return(k)\n",
    "}"
   ]
  },
  {
   "cell_type": "code",
   "execution_count": 10,
   "metadata": {},
   "outputs": [
    {
     "data": {
      "text/html": [
       "2"
      ],
      "text/latex": [
       "2"
      ],
      "text/markdown": [
       "2"
      ],
      "text/plain": [
       "[1] 2"
      ]
     },
     "metadata": {},
     "output_type": "display_data"
    }
   ],
   "source": [
    "count_names(\"Ellen, Jeremy\")"
   ]
  },
  {
   "cell_type": "markdown",
   "metadata": {
    "slideshow": {
     "slide_type": "subslide"
    }
   },
   "source": [
    "### 2.1.1 Inconsistencies in `arresting_officers` Column"
   ]
  },
  {
   "cell_type": "code",
   "execution_count": 11,
   "metadata": {
    "slideshow": {
     "slide_type": "fragment"
    },
    "tags": []
   },
   "outputs": [
    {
     "data": {
      "text/html": [
       "<style>\n",
       ".list-inline {list-style: none; margin:0; padding: 0}\n",
       ".list-inline>li {display: inline-block}\n",
       ".list-inline>li:not(:last-child)::after {content: \"\\00b7\"; padding: 0 .5ex}\n",
       "</style>\n",
       "<ol class=list-inline><li>' YGonzalez, LTaveras'</li><li>' NManfredi'</li><li>' MPlace, JPerez, ASantos'</li><li>' MPlace, JPerez, ASantos'</li><li>' MPlace, JPerez, ASantos'</li><li>' MPlace, JPerez, ASantos'</li><li>' MPlace, JPerez, ASantos'</li><li>' CVingi, SCooney'</li><li>' CVingi, SCooney'</li><li>' CVingi, SCooney'</li></ol>\n"
      ],
      "text/latex": [
       "\\begin{enumerate*}\n",
       "\\item ' YGonzalez, LTaveras'\n",
       "\\item ' NManfredi'\n",
       "\\item ' MPlace, JPerez, ASantos'\n",
       "\\item ' MPlace, JPerez, ASantos'\n",
       "\\item ' MPlace, JPerez, ASantos'\n",
       "\\item ' MPlace, JPerez, ASantos'\n",
       "\\item ' MPlace, JPerez, ASantos'\n",
       "\\item ' CVingi, SCooney'\n",
       "\\item ' CVingi, SCooney'\n",
       "\\item ' CVingi, SCooney'\n",
       "\\end{enumerate*}\n"
      ],
      "text/markdown": [
       "1. ' YGonzalez, LTaveras'\n",
       "2. ' NManfredi'\n",
       "3. ' MPlace, JPerez, ASantos'\n",
       "4. ' MPlace, JPerez, ASantos'\n",
       "5. ' MPlace, JPerez, ASantos'\n",
       "6. ' MPlace, JPerez, ASantos'\n",
       "7. ' MPlace, JPerez, ASantos'\n",
       "8. ' CVingi, SCooney'\n",
       "9. ' CVingi, SCooney'\n",
       "10. ' CVingi, SCooney'\n",
       "\n",
       "\n"
      ],
      "text/plain": [
       " [1] \" YGonzalez, LTaveras\"     \" NManfredi\"              \n",
       " [3] \" MPlace, JPerez, ASantos\" \" MPlace, JPerez, ASantos\"\n",
       " [5] \" MPlace, JPerez, ASantos\" \" MPlace, JPerez, ASantos\"\n",
       " [7] \" MPlace, JPerez, ASantos\" \" CVingi, SCooney\"        \n",
       " [9] \" CVingi, SCooney\"         \" CVingi, SCooney\"        "
      ]
     },
     "metadata": {},
     "output_type": "display_data"
    }
   ],
   "source": [
    "head(arrests_df$arresting_officers, 10)"
   ]
  },
  {
   "cell_type": "code",
   "execution_count": 12,
   "metadata": {
    "slideshow": {
     "slide_type": "fragment"
    },
    "tags": []
   },
   "outputs": [
    {
     "data": {
      "text/html": [
       "<style>\n",
       ".list-inline {list-style: none; margin:0; padding: 0}\n",
       ".list-inline>li {display: inline-block}\n",
       ".list-inline>li:not(:last-child)::after {content: \"\\00b7\"; padding: 0 .5ex}\n",
       "</style>\n",
       "<ol class=list-inline><li>'Dyer, Brian/ Georges, Wilkens'</li><li>'Morgan, Glen/ Bass, Khari'</li><li>'Levesque, Alexa/ Georges, Wilkens'</li><li>'Bustamante, Genifer'</li><li>'Colicci, Nathaniel/ Heeder, Jenna/ Prete, Louis/ Wagoner, Alexander'</li><li>'Colicci, Nathaniel/ Heeder, Jenna/ Prete, Louis/ Wagoner, Alexander'</li><li>'Colicci, Nathaniel/ Heeder, Jenna/ Prete, Louis/ Wagoner, Alexander'</li><li>'Colicci, Nathaniel/ Heeder, Jenna/ Prete, Louis/ Wagoner, Alexander'</li><li>'Silva, Eric'</li><li>'Cooney, Sean'</li></ol>\n"
      ],
      "text/latex": [
       "\\begin{enumerate*}\n",
       "\\item 'Dyer, Brian/ Georges, Wilkens'\n",
       "\\item 'Morgan, Glen/ Bass, Khari'\n",
       "\\item 'Levesque, Alexa/ Georges, Wilkens'\n",
       "\\item 'Bustamante, Genifer'\n",
       "\\item 'Colicci, Nathaniel/ Heeder, Jenna/ Prete, Louis/ Wagoner, Alexander'\n",
       "\\item 'Colicci, Nathaniel/ Heeder, Jenna/ Prete, Louis/ Wagoner, Alexander'\n",
       "\\item 'Colicci, Nathaniel/ Heeder, Jenna/ Prete, Louis/ Wagoner, Alexander'\n",
       "\\item 'Colicci, Nathaniel/ Heeder, Jenna/ Prete, Louis/ Wagoner, Alexander'\n",
       "\\item 'Silva, Eric'\n",
       "\\item 'Cooney, Sean'\n",
       "\\end{enumerate*}\n"
      ],
      "text/markdown": [
       "1. 'Dyer, Brian/ Georges, Wilkens'\n",
       "2. 'Morgan, Glen/ Bass, Khari'\n",
       "3. 'Levesque, Alexa/ Georges, Wilkens'\n",
       "4. 'Bustamante, Genifer'\n",
       "5. 'Colicci, Nathaniel/ Heeder, Jenna/ Prete, Louis/ Wagoner, Alexander'\n",
       "6. 'Colicci, Nathaniel/ Heeder, Jenna/ Prete, Louis/ Wagoner, Alexander'\n",
       "7. 'Colicci, Nathaniel/ Heeder, Jenna/ Prete, Louis/ Wagoner, Alexander'\n",
       "8. 'Colicci, Nathaniel/ Heeder, Jenna/ Prete, Louis/ Wagoner, Alexander'\n",
       "9. 'Silva, Eric'\n",
       "10. 'Cooney, Sean'\n",
       "\n",
       "\n"
      ],
      "text/plain": [
       " [1] \"Dyer, Brian/ Georges, Wilkens\"                                      \n",
       " [2] \"Morgan, Glen/ Bass, Khari\"                                          \n",
       " [3] \"Levesque, Alexa/ Georges, Wilkens\"                                  \n",
       " [4] \"Bustamante, Genifer\"                                                \n",
       " [5] \"Colicci, Nathaniel/ Heeder, Jenna/ Prete, Louis/ Wagoner, Alexander\"\n",
       " [6] \"Colicci, Nathaniel/ Heeder, Jenna/ Prete, Louis/ Wagoner, Alexander\"\n",
       " [7] \"Colicci, Nathaniel/ Heeder, Jenna/ Prete, Louis/ Wagoner, Alexander\"\n",
       " [8] \"Colicci, Nathaniel/ Heeder, Jenna/ Prete, Louis/ Wagoner, Alexander\"\n",
       " [9] \"Silva, Eric\"                                                        \n",
       "[10] \"Cooney, Sean\"                                                       "
      ]
     },
     "metadata": {},
     "output_type": "display_data"
    }
   ],
   "source": [
    "tail(arrests_df$arresting_officers, 10)"
   ]
  },
  {
   "cell_type": "markdown",
   "metadata": {
    "slideshow": {
     "slide_type": "subslide"
    }
   },
   "source": [
    "## 2.2 Addressing the Inconsistency\n",
    "  - Use different criteria for counting names with full-name format\n",
    "    + Define function to identify full-name vs. first-initial format\n",
    "    + Note: first-inital format always starts with two capital letters"
   ]
  },
  {
   "cell_type": "code",
   "execution_count": 13,
   "metadata": {
    "slideshow": {
     "slide_type": "fragment"
    },
    "tags": []
   },
   "outputs": [
    {
     "data": {
      "text/html": [
       "<style>\n",
       ".list-inline {list-style: none; margin:0; padding: 0}\n",
       ".list-inline>li {display: inline-block}\n",
       ".list-inline>li:not(:last-child)::after {content: \"\\00b7\"; padding: 0 .5ex}\n",
       "</style>\n",
       "<ol class=list-inline><li>'A'</li><li>'B'</li><li>'C'</li><li>'D'</li><li>'E'</li><li>'F'</li><li>'G'</li><li>'H'</li><li>'I'</li><li>'J'</li><li>'K'</li><li>'L'</li><li>'M'</li><li>'N'</li><li>'O'</li><li>'P'</li><li>'Q'</li><li>'R'</li><li>'S'</li><li>'T'</li><li>'U'</li><li>'V'</li><li>'W'</li><li>'X'</li><li>'Y'</li><li>'Z'</li></ol>\n"
      ],
      "text/latex": [
       "\\begin{enumerate*}\n",
       "\\item 'A'\n",
       "\\item 'B'\n",
       "\\item 'C'\n",
       "\\item 'D'\n",
       "\\item 'E'\n",
       "\\item 'F'\n",
       "\\item 'G'\n",
       "\\item 'H'\n",
       "\\item 'I'\n",
       "\\item 'J'\n",
       "\\item 'K'\n",
       "\\item 'L'\n",
       "\\item 'M'\n",
       "\\item 'N'\n",
       "\\item 'O'\n",
       "\\item 'P'\n",
       "\\item 'Q'\n",
       "\\item 'R'\n",
       "\\item 'S'\n",
       "\\item 'T'\n",
       "\\item 'U'\n",
       "\\item 'V'\n",
       "\\item 'W'\n",
       "\\item 'X'\n",
       "\\item 'Y'\n",
       "\\item 'Z'\n",
       "\\end{enumerate*}\n"
      ],
      "text/markdown": [
       "1. 'A'\n",
       "2. 'B'\n",
       "3. 'C'\n",
       "4. 'D'\n",
       "5. 'E'\n",
       "6. 'F'\n",
       "7. 'G'\n",
       "8. 'H'\n",
       "9. 'I'\n",
       "10. 'J'\n",
       "11. 'K'\n",
       "12. 'L'\n",
       "13. 'M'\n",
       "14. 'N'\n",
       "15. 'O'\n",
       "16. 'P'\n",
       "17. 'Q'\n",
       "18. 'R'\n",
       "19. 'S'\n",
       "20. 'T'\n",
       "21. 'U'\n",
       "22. 'V'\n",
       "23. 'W'\n",
       "24. 'X'\n",
       "25. 'Y'\n",
       "26. 'Z'\n",
       "\n",
       "\n"
      ],
      "text/plain": [
       " [1] \"A\" \"B\" \"C\" \"D\" \"E\" \"F\" \"G\" \"H\" \"I\" \"J\" \"K\" \"L\" \"M\" \"N\" \"O\" \"P\" \"Q\" \"R\" \"S\"\n",
       "[20] \"T\" \"U\" \"V\" \"W\" \"X\" \"Y\" \"Z\""
      ]
     },
     "metadata": {},
     "output_type": "display_data"
    }
   ],
   "source": [
    "LETTERS               # This is a built-in object in R"
   ]
  },
  {
   "cell_type": "code",
   "execution_count": 14,
   "metadata": {
    "slideshow": {
     "slide_type": "fragment"
    },
    "tags": []
   },
   "outputs": [
    {
     "data": {
      "text/html": [
       "TRUE"
      ],
      "text/latex": [
       "TRUE"
      ],
      "text/markdown": [
       "TRUE"
      ],
      "text/plain": [
       "[1] TRUE"
      ]
     },
     "metadata": {},
     "output_type": "display_data"
    }
   ],
   "source": [
    "\"B\" %in% LETTERS"
   ]
  },
  {
   "cell_type": "markdown",
   "metadata": {
    "slideshow": {
     "slide_type": "subslide"
    }
   },
   "source": [
    "## 2.3 Identifying Full-Name Format \n",
    "  - If the first two characters are uppercase, it's full-name format"
   ]
  },
  {
   "cell_type": "code",
   "execution_count": 16,
   "metadata": {
    "slideshow": {
     "slide_type": "fragment"
    },
    "tags": []
   },
   "outputs": [],
   "source": [
    "is_uppercase <- function(chr) {\n",
    "    res <- chr %in% LETTERS\n",
    "    return(res)\n",
    "}\n",
    "\n",
    "has_full_names <- function(names_str) {\n",
    "    char1 <- str_sub(names_str, 1, 1)\n",
    "    char2 <- str_sub(names_str, 2, 2)\n",
    "    \n",
    "    res <- !(is_uppercase(char1) && is_uppercase(char2))\n",
    "    return(res)\n",
    "}"
   ]
  },
  {
   "cell_type": "markdown",
   "metadata": {
    "slideshow": {
     "slide_type": "subslide"
    }
   },
   "source": [
    "### 2.3.1 Testing our Functions"
   ]
  },
  {
   "cell_type": "code",
   "execution_count": 17,
   "metadata": {
    "slideshow": {
     "slide_type": "fragment"
    },
    "tags": []
   },
   "outputs": [
    {
     "data": {
      "text/html": [
       "FALSE"
      ],
      "text/latex": [
       "FALSE"
      ],
      "text/markdown": [
       "FALSE"
      ],
      "text/plain": [
       "[1] FALSE"
      ]
     },
     "metadata": {},
     "output_type": "display_data"
    },
    {
     "data": {
      "text/html": [
       "FALSE"
      ],
      "text/latex": [
       "FALSE"
      ],
      "text/markdown": [
       "FALSE"
      ],
      "text/plain": [
       "[1] FALSE"
      ]
     },
     "metadata": {},
     "output_type": "display_data"
    },
    {
     "data": {
      "text/html": [
       "FALSE"
      ],
      "text/latex": [
       "FALSE"
      ],
      "text/markdown": [
       "FALSE"
      ],
      "text/plain": [
       "[1] FALSE"
      ]
     },
     "metadata": {},
     "output_type": "display_data"
    },
    {
     "data": {
      "text/html": [
       "FALSE"
      ],
      "text/latex": [
       "FALSE"
      ],
      "text/markdown": [
       "FALSE"
      ],
      "text/plain": [
       "[1] FALSE"
      ]
     },
     "metadata": {},
     "output_type": "display_data"
    },
    {
     "data": {
      "text/html": [
       "TRUE"
      ],
      "text/latex": [
       "TRUE"
      ],
      "text/markdown": [
       "TRUE"
      ],
      "text/plain": [
       "[1] TRUE"
      ]
     },
     "metadata": {},
     "output_type": "display_data"
    },
    {
     "data": {
      "text/html": [
       "TRUE"
      ],
      "text/latex": [
       "TRUE"
      ],
      "text/markdown": [
       "TRUE"
      ],
      "text/plain": [
       "[1] TRUE"
      ]
     },
     "metadata": {},
     "output_type": "display_data"
    },
    {
     "data": {
      "text/html": [
       "TRUE"
      ],
      "text/latex": [
       "TRUE"
      ],
      "text/markdown": [
       "TRUE"
      ],
      "text/plain": [
       "[1] TRUE"
      ]
     },
     "metadata": {},
     "output_type": "display_data"
    },
    {
     "data": {
      "text/html": [
       "TRUE"
      ],
      "text/latex": [
       "TRUE"
      ],
      "text/markdown": [
       "TRUE"
      ],
      "text/plain": [
       "[1] TRUE"
      ]
     },
     "metadata": {},
     "output_type": "display_data"
    }
   ],
   "source": [
    "is_uppercase(\"a\")                            # false\n",
    "is_uppercase(\"b\")                            # false\n",
    "has_full_names(\"NManfredi\")                  # Not full name\n",
    "has_full_names(\"MPlace, JPerez, ASantos\")    # Not full name\n",
    "\n",
    "is_uppercase(\"A\")\n",
    "is_uppercase(\"B\")\n",
    "has_full_names(\"Newton, Frank\")\n",
    "has_full_names(\"Newton, Frank/ Chin, Rosemarie\")"
   ]
  },
  {
   "cell_type": "markdown",
   "metadata": {
    "slideshow": {
     "slide_type": "subslide"
    }
   },
   "source": [
    "## 2.4 Fixing our `count_names()` Function"
   ]
  },
  {
   "cell_type": "code",
   "execution_count": 22,
   "metadata": {
    "slideshow": {
     "slide_type": "fragment"
    }
   },
   "outputs": [],
   "source": [
    "old_count_names <- function(names_str) {\n",
    "    name_list <- str_split(names_str, \", \")\n",
    "    name_vec <- unlist(name_list)\n",
    "    k <- length(name_vec)\n",
    "    \n",
    "    return(k)\n",
    "}"
   ]
  },
  {
   "cell_type": "code",
   "execution_count": 23,
   "metadata": {
    "slideshow": {
     "slide_type": "fragment"
    }
   },
   "outputs": [],
   "source": [
    "count_names <- function(names_str) {\n",
    "    names_str_trm <- str_trim(names_str)     # remove whitespace\n",
    "    \n",
    "    if (has_full_names(names_str_trm)) {\n",
    "        split_char <- \"/ \"\n",
    "    } else {\n",
    "        split_char <- \", \"\n",
    "    }\n",
    "    \n",
    "    name_list <- str_split(names_str_trm, split_char)\n",
    "    name_vec <- unlist(name_list)\n",
    "    k <- length(name_vec)\n",
    "    \n",
    "    return(k)\n",
    "}"
   ]
  },
  {
   "cell_type": "markdown",
   "metadata": {
    "slideshow": {
     "slide_type": "subslide"
    }
   },
   "source": [
    "### 2.4.1 Testing New `count_names()`"
   ]
  },
  {
   "cell_type": "code",
   "execution_count": 24,
   "metadata": {
    "slideshow": {
     "slide_type": "fragment"
    }
   },
   "outputs": [
    {
     "data": {
      "text/html": [
       "TRUE"
      ],
      "text/latex": [
       "TRUE"
      ],
      "text/markdown": [
       "TRUE"
      ],
      "text/plain": [
       "[1] TRUE"
      ]
     },
     "metadata": {},
     "output_type": "display_data"
    },
    {
     "data": {
      "text/html": [
       "FALSE"
      ],
      "text/latex": [
       "FALSE"
      ],
      "text/markdown": [
       "FALSE"
      ],
      "text/plain": [
       "[1] FALSE"
      ]
     },
     "metadata": {},
     "output_type": "display_data"
    },
    {
     "data": {
      "text/html": [
       "TRUE"
      ],
      "text/latex": [
       "TRUE"
      ],
      "text/markdown": [
       "TRUE"
      ],
      "text/plain": [
       "[1] TRUE"
      ]
     },
     "metadata": {},
     "output_type": "display_data"
    },
    {
     "data": {
      "text/html": [
       "TRUE"
      ],
      "text/latex": [
       "TRUE"
      ],
      "text/markdown": [
       "TRUE"
      ],
      "text/plain": [
       "[1] TRUE"
      ]
     },
     "metadata": {},
     "output_type": "display_data"
    }
   ],
   "source": [
    "old_count_names(\"YGonzalez, LTaveras\") == 2\n",
    "old_count_names(\"Newton, Frank/ Chin, Rosemarie\") == 2     # function is wrong\n",
    "count_names(\"YGonzalez, LTaveras\") == 2\n",
    "count_names(\"Newton, Frank/ Chin, Rosemarie\") == 2"
   ]
  },
  {
   "cell_type": "markdown",
   "metadata": {
    "slideshow": {
     "slide_type": "subslide"
    }
   },
   "source": [
    "## 2.5 Re-Counting Officers\n",
    "  - Let's compare how the \"old\" (i.e., incorrect) method did relative to our new `count_names()`"
   ]
  },
  {
   "cell_type": "code",
   "execution_count": 25,
   "metadata": {
    "slideshow": {
     "slide_type": "fragment"
    }
   },
   "outputs": [],
   "source": [
    "count_all_names <- function(col, old = FALSE) {\n",
    "\n",
    "    n <- length(col)   # get the length of our input column\n",
    "    cnts <- rep(0, n)  # allocate vector of zeros to populate with counts\n",
    "\n",
    "    for (i in 1:n) {\n",
    "        if (old) {\n",
    "            cnts[i] <- old_count_names(col[i])\n",
    "        } else {\n",
    "            cnts[i] <- count_names(col[i])\n",
    "        }\n",
    "    }\n",
    "    return(cnts) \n",
    "}"
   ]
  },
  {
   "cell_type": "code",
   "execution_count": 26,
   "metadata": {
    "slideshow": {
     "slide_type": "fragment"
    }
   },
   "outputs": [],
   "source": [
    "arrests_df$old_officer_cnt <- count_all_names(arrests_df$arresting_officers, old = TRUE)\n",
    "\n",
    "arrests_df$officer_cnt <- count_all_names(arrests_df$arresting_officers)"
   ]
  },
  {
   "cell_type": "code",
   "execution_count": 27,
   "metadata": {
    "slideshow": {
     "slide_type": "subslide"
    }
   },
   "outputs": [
    {
     "data": {
      "text/html": [
       "<table class=\"dataframe\">\n",
       "<caption>A data.frame: 6 × 20</caption>\n",
       "<thead>\n",
       "\t<tr><th></th><th scope=col>arrest_date</th><th scope=col>year</th><th scope=col>month</th><th scope=col>gender</th><th scope=col>race</th><th scope=col>ethnicity</th><th scope=col>year_of_birth</th><th scope=col>age</th><th scope=col>from_address</th><th scope=col>from_city</th><th scope=col>from_state</th><th scope=col>statute_type</th><th scope=col>statute_code</th><th scope=col>statute_desc</th><th scope=col>counts</th><th scope=col>case_number</th><th scope=col>arresting_officers</th><th scope=col>id</th><th scope=col>old_officer_cnt</th><th scope=col>officer_cnt</th></tr>\n",
       "\t<tr><th></th><th scope=col>&lt;chr&gt;</th><th scope=col>&lt;int&gt;</th><th scope=col>&lt;int&gt;</th><th scope=col>&lt;chr&gt;</th><th scope=col>&lt;chr&gt;</th><th scope=col>&lt;chr&gt;</th><th scope=col>&lt;int&gt;</th><th scope=col>&lt;int&gt;</th><th scope=col>&lt;chr&gt;</th><th scope=col>&lt;chr&gt;</th><th scope=col>&lt;chr&gt;</th><th scope=col>&lt;chr&gt;</th><th scope=col>&lt;chr&gt;</th><th scope=col>&lt;chr&gt;</th><th scope=col>&lt;int&gt;</th><th scope=col>&lt;chr&gt;</th><th scope=col>&lt;chr&gt;</th><th scope=col>&lt;chr&gt;</th><th scope=col>&lt;dbl&gt;</th><th scope=col>&lt;dbl&gt;</th></tr>\n",
       "</thead>\n",
       "<tbody>\n",
       "\t<tr><th scope=row>1</th><td>2019-08-24T02:23:00.0</td><td>2019</td><td>8</td><td>Male  </td><td>White</td><td>NonHispanic</td><td>1981</td><td>37</td><td>No Permanent Address</td><td>providence</td><td>Rhode Island</td><td>                    </td><td>        </td><td>                                                         </td><td>NA</td><td>2019-00084142</td><td> YGonzalez, LTaveras    </td><td>pvd2218242150382148273 </td><td>2</td><td>2</td></tr>\n",
       "\t<tr><th scope=row>2</th><td>2019-08-24T02:02:00.0</td><td>2019</td><td>8</td><td>      </td><td>     </td><td>           </td><td>1994</td><td>25</td><td>SUMMER AVE          </td><td>Cranston  </td><td>Rhode Island</td><td>RI Statute Violation</td><td>31-11-18</td><td>Driving after Denial, Suspension or Revocation of License</td><td> 1</td><td>2019-00084127</td><td> NManfredi              </td><td>pvd15166785558364246202</td><td>1</td><td>1</td></tr>\n",
       "\t<tr><th scope=row>3</th><td>2019-08-24T02:02:00.0</td><td>2019</td><td>8</td><td>Female</td><td>Black</td><td>NonHispanic</td><td>1984</td><td>34</td><td>DOUGLAS AVE         </td><td>Providence</td><td>Rhode Island</td><td>RI Statute Violation</td><td>12-7-10 </td><td>RESISTING LEGAL OR ILLEGAL ARREST                        </td><td> 1</td><td>2019-00084126</td><td> MPlace, JPerez, ASantos</td><td>pvd3142917706201385905 </td><td>3</td><td>3</td></tr>\n",
       "\t<tr><th scope=row>4</th><td>2019-08-24T02:02:00.0</td><td>2019</td><td>8</td><td>Female</td><td>Black</td><td>NonHispanic</td><td>1984</td><td>34</td><td>DOUGLAS AVE         </td><td>Providence</td><td>Rhode Island</td><td>RI Statute Violation</td><td>11-45-1 </td><td>DISORDERLY CONDUCT                                       </td><td> 1</td><td>2019-00084126</td><td> MPlace, JPerez, ASantos</td><td>pvd3142917706201385905 </td><td>3</td><td>3</td></tr>\n",
       "\t<tr><th scope=row>5</th><td>2019-08-24T02:02:00.0</td><td>2019</td><td>8</td><td>Female</td><td>Black</td><td>Unknown    </td><td>2001</td><td>18</td><td>TRASH ST            </td><td>          </td><td>            </td><td>RI Statute Violation</td><td>12-7-10 </td><td>RESISTING LEGAL OR ILLEGAL ARREST                        </td><td> 1</td><td>2019-00084126</td><td> MPlace, JPerez, ASantos</td><td>pvd460449304532374599  </td><td>3</td><td>3</td></tr>\n",
       "\t<tr><th scope=row>6</th><td>2019-08-24T02:02:00.0</td><td>2019</td><td>8</td><td>Female</td><td>Black</td><td>Unknown    </td><td>2001</td><td>18</td><td>TRASH ST            </td><td>          </td><td>            </td><td>RI Statute Violation</td><td>11-45-1 </td><td>DISORDERLY CONDUCT                                       </td><td> 1</td><td>2019-00084126</td><td> MPlace, JPerez, ASantos</td><td>pvd460449304532374599  </td><td>3</td><td>3</td></tr>\n",
       "</tbody>\n",
       "</table>\n"
      ],
      "text/latex": [
       "A data.frame: 6 × 20\n",
       "\\begin{tabular}{r|llllllllllllllllllll}\n",
       "  & arrest\\_date & year & month & gender & race & ethnicity & year\\_of\\_birth & age & from\\_address & from\\_city & from\\_state & statute\\_type & statute\\_code & statute\\_desc & counts & case\\_number & arresting\\_officers & id & old\\_officer\\_cnt & officer\\_cnt\\\\\n",
       "  & <chr> & <int> & <int> & <chr> & <chr> & <chr> & <int> & <int> & <chr> & <chr> & <chr> & <chr> & <chr> & <chr> & <int> & <chr> & <chr> & <chr> & <dbl> & <dbl>\\\\\n",
       "\\hline\n",
       "\t1 & 2019-08-24T02:23:00.0 & 2019 & 8 & Male   & White & NonHispanic & 1981 & 37 & No Permanent Address & providence & Rhode Island &                      &          &                                                           & NA & 2019-00084142 &  YGonzalez, LTaveras     & pvd2218242150382148273  & 2 & 2\\\\\n",
       "\t2 & 2019-08-24T02:02:00.0 & 2019 & 8 &        &       &             & 1994 & 25 & SUMMER AVE           & Cranston   & Rhode Island & RI Statute Violation & 31-11-18 & Driving after Denial, Suspension or Revocation of License &  1 & 2019-00084127 &  NManfredi               & pvd15166785558364246202 & 1 & 1\\\\\n",
       "\t3 & 2019-08-24T02:02:00.0 & 2019 & 8 & Female & Black & NonHispanic & 1984 & 34 & DOUGLAS AVE          & Providence & Rhode Island & RI Statute Violation & 12-7-10  & RESISTING LEGAL OR ILLEGAL ARREST                         &  1 & 2019-00084126 &  MPlace, JPerez, ASantos & pvd3142917706201385905  & 3 & 3\\\\\n",
       "\t4 & 2019-08-24T02:02:00.0 & 2019 & 8 & Female & Black & NonHispanic & 1984 & 34 & DOUGLAS AVE          & Providence & Rhode Island & RI Statute Violation & 11-45-1  & DISORDERLY CONDUCT                                        &  1 & 2019-00084126 &  MPlace, JPerez, ASantos & pvd3142917706201385905  & 3 & 3\\\\\n",
       "\t5 & 2019-08-24T02:02:00.0 & 2019 & 8 & Female & Black & Unknown     & 2001 & 18 & TRASH ST             &            &              & RI Statute Violation & 12-7-10  & RESISTING LEGAL OR ILLEGAL ARREST                         &  1 & 2019-00084126 &  MPlace, JPerez, ASantos & pvd460449304532374599   & 3 & 3\\\\\n",
       "\t6 & 2019-08-24T02:02:00.0 & 2019 & 8 & Female & Black & Unknown     & 2001 & 18 & TRASH ST             &            &              & RI Statute Violation & 11-45-1  & DISORDERLY CONDUCT                                        &  1 & 2019-00084126 &  MPlace, JPerez, ASantos & pvd460449304532374599   & 3 & 3\\\\\n",
       "\\end{tabular}\n"
      ],
      "text/markdown": [
       "\n",
       "A data.frame: 6 × 20\n",
       "\n",
       "| <!--/--> | arrest_date &lt;chr&gt; | year &lt;int&gt; | month &lt;int&gt; | gender &lt;chr&gt; | race &lt;chr&gt; | ethnicity &lt;chr&gt; | year_of_birth &lt;int&gt; | age &lt;int&gt; | from_address &lt;chr&gt; | from_city &lt;chr&gt; | from_state &lt;chr&gt; | statute_type &lt;chr&gt; | statute_code &lt;chr&gt; | statute_desc &lt;chr&gt; | counts &lt;int&gt; | case_number &lt;chr&gt; | arresting_officers &lt;chr&gt; | id &lt;chr&gt; | old_officer_cnt &lt;dbl&gt; | officer_cnt &lt;dbl&gt; |\n",
       "|---|---|---|---|---|---|---|---|---|---|---|---|---|---|---|---|---|---|---|---|---|\n",
       "| 1 | 2019-08-24T02:23:00.0 | 2019 | 8 | Male   | White | NonHispanic | 1981 | 37 | No Permanent Address | providence | Rhode Island | <!----> | <!----> | <!----> | NA | 2019-00084142 |  YGonzalez, LTaveras     | pvd2218242150382148273  | 2 | 2 |\n",
       "| 2 | 2019-08-24T02:02:00.0 | 2019 | 8 | <!----> | <!----> | <!----> | 1994 | 25 | SUMMER AVE           | Cranston   | Rhode Island | RI Statute Violation | 31-11-18 | Driving after Denial, Suspension or Revocation of License |  1 | 2019-00084127 |  NManfredi               | pvd15166785558364246202 | 1 | 1 |\n",
       "| 3 | 2019-08-24T02:02:00.0 | 2019 | 8 | Female | Black | NonHispanic | 1984 | 34 | DOUGLAS AVE          | Providence | Rhode Island | RI Statute Violation | 12-7-10  | RESISTING LEGAL OR ILLEGAL ARREST                         |  1 | 2019-00084126 |  MPlace, JPerez, ASantos | pvd3142917706201385905  | 3 | 3 |\n",
       "| 4 | 2019-08-24T02:02:00.0 | 2019 | 8 | Female | Black | NonHispanic | 1984 | 34 | DOUGLAS AVE          | Providence | Rhode Island | RI Statute Violation | 11-45-1  | DISORDERLY CONDUCT                                        |  1 | 2019-00084126 |  MPlace, JPerez, ASantos | pvd3142917706201385905  | 3 | 3 |\n",
       "| 5 | 2019-08-24T02:02:00.0 | 2019 | 8 | Female | Black | Unknown     | 2001 | 18 | TRASH ST             | <!----> | <!----> | RI Statute Violation | 12-7-10  | RESISTING LEGAL OR ILLEGAL ARREST                         |  1 | 2019-00084126 |  MPlace, JPerez, ASantos | pvd460449304532374599   | 3 | 3 |\n",
       "| 6 | 2019-08-24T02:02:00.0 | 2019 | 8 | Female | Black | Unknown     | 2001 | 18 | TRASH ST             | <!----> | <!----> | RI Statute Violation | 11-45-1  | DISORDERLY CONDUCT                                        |  1 | 2019-00084126 |  MPlace, JPerez, ASantos | pvd460449304532374599   | 3 | 3 |\n",
       "\n"
      ],
      "text/plain": [
       "  arrest_date           year month gender race  ethnicity   year_of_birth age\n",
       "1 2019-08-24T02:23:00.0 2019 8     Male   White NonHispanic 1981          37 \n",
       "2 2019-08-24T02:02:00.0 2019 8                              1994          25 \n",
       "3 2019-08-24T02:02:00.0 2019 8     Female Black NonHispanic 1984          34 \n",
       "4 2019-08-24T02:02:00.0 2019 8     Female Black NonHispanic 1984          34 \n",
       "5 2019-08-24T02:02:00.0 2019 8     Female Black Unknown     2001          18 \n",
       "6 2019-08-24T02:02:00.0 2019 8     Female Black Unknown     2001          18 \n",
       "  from_address         from_city  from_state   statute_type        \n",
       "1 No Permanent Address providence Rhode Island                     \n",
       "2 SUMMER AVE           Cranston   Rhode Island RI Statute Violation\n",
       "3 DOUGLAS AVE          Providence Rhode Island RI Statute Violation\n",
       "4 DOUGLAS AVE          Providence Rhode Island RI Statute Violation\n",
       "5 TRASH ST                                     RI Statute Violation\n",
       "6 TRASH ST                                     RI Statute Violation\n",
       "  statute_code statute_desc                                              counts\n",
       "1                                                                        NA    \n",
       "2 31-11-18     Driving after Denial, Suspension or Revocation of License  1    \n",
       "3 12-7-10      RESISTING LEGAL OR ILLEGAL ARREST                          1    \n",
       "4 11-45-1      DISORDERLY CONDUCT                                         1    \n",
       "5 12-7-10      RESISTING LEGAL OR ILLEGAL ARREST                          1    \n",
       "6 11-45-1      DISORDERLY CONDUCT                                         1    \n",
       "  case_number   arresting_officers       id                     \n",
       "1 2019-00084142  YGonzalez, LTaveras     pvd2218242150382148273 \n",
       "2 2019-00084127  NManfredi               pvd15166785558364246202\n",
       "3 2019-00084126  MPlace, JPerez, ASantos pvd3142917706201385905 \n",
       "4 2019-00084126  MPlace, JPerez, ASantos pvd3142917706201385905 \n",
       "5 2019-00084126  MPlace, JPerez, ASantos pvd460449304532374599  \n",
       "6 2019-00084126  MPlace, JPerez, ASantos pvd460449304532374599  \n",
       "  old_officer_cnt officer_cnt\n",
       "1 2               2          \n",
       "2 1               1          \n",
       "3 3               3          \n",
       "4 3               3          \n",
       "5 3               3          \n",
       "6 3               3          "
      ]
     },
     "metadata": {},
     "output_type": "display_data"
    }
   ],
   "source": [
    "head(arrests_df)"
   ]
  },
  {
   "cell_type": "code",
   "execution_count": 28,
   "metadata": {
    "slideshow": {
     "slide_type": "subslide"
    }
   },
   "outputs": [
    {
     "data": {
      "text/html": [
       "<table class=\"dataframe\">\n",
       "<caption>A data.frame: 12 × 20</caption>\n",
       "<thead>\n",
       "\t<tr><th></th><th scope=col>arrest_date</th><th scope=col>year</th><th scope=col>month</th><th scope=col>gender</th><th scope=col>race</th><th scope=col>ethnicity</th><th scope=col>year_of_birth</th><th scope=col>age</th><th scope=col>from_address</th><th scope=col>from_city</th><th scope=col>from_state</th><th scope=col>statute_type</th><th scope=col>statute_code</th><th scope=col>statute_desc</th><th scope=col>counts</th><th scope=col>case_number</th><th scope=col>arresting_officers</th><th scope=col>id</th><th scope=col>old_officer_cnt</th><th scope=col>officer_cnt</th></tr>\n",
       "\t<tr><th></th><th scope=col>&lt;chr&gt;</th><th scope=col>&lt;int&gt;</th><th scope=col>&lt;int&gt;</th><th scope=col>&lt;chr&gt;</th><th scope=col>&lt;chr&gt;</th><th scope=col>&lt;chr&gt;</th><th scope=col>&lt;int&gt;</th><th scope=col>&lt;int&gt;</th><th scope=col>&lt;chr&gt;</th><th scope=col>&lt;chr&gt;</th><th scope=col>&lt;chr&gt;</th><th scope=col>&lt;chr&gt;</th><th scope=col>&lt;chr&gt;</th><th scope=col>&lt;chr&gt;</th><th scope=col>&lt;int&gt;</th><th scope=col>&lt;chr&gt;</th><th scope=col>&lt;chr&gt;</th><th scope=col>&lt;chr&gt;</th><th scope=col>&lt;dbl&gt;</th><th scope=col>&lt;dbl&gt;</th></tr>\n",
       "</thead>\n",
       "<tbody>\n",
       "\t<tr><th scope=row>13001</th><td>2021-09-30T07:00:00.0</td><td>2021</td><td> 9</td><td>Male  </td><td>Black  </td><td>NonHispanic</td><td>1988</td><td>33</td><td>PARK HOLM           </td><td>NEWPORT   </td><td>NULL        </td><td>RI Statute Violation</td><td>11-9-5        </td><td>CRUELTY TO OR NEGLECT OF CHILD                  </td><td> 1</td><td>2021-00075330</td><td>Stanzione, Jared                                                   </td><td>pvd8344990625170182930 </td><td>2</td><td>1</td></tr>\n",
       "\t<tr><th scope=row>13002</th><td>2021-09-30T00:00:00.0</td><td>2021</td><td> 9</td><td><span style=white-space:pre-wrap>Male  </span></td><td><span style=white-space:pre-wrap>Black  </span></td><td>NonHispanic</td><td>1979</td><td>42</td><td>No Permanent Address</td><td>Providence</td><td><span style=white-space:pre-wrap>NULL        </span></td><td>RI Statute Violation</td><td><span style=white-space:pre-wrap>11-8-4        </span></td><td><span style=white-space:pre-wrap>B&amp;E BUS.PLACE PUBLIC BLDG  OR SHIP W/FEL. INTENT</span></td><td> 1</td><td>2021-00074477</td><td><span style=white-space:pre-wrap>NULL                                                               </span></td><td>pvd11832376381973364540</td><td>1</td><td>1</td></tr>\n",
       "\t<tr><th scope=row>13003</th><td>2021-09-30T15:06:00.0</td><td>2021</td><td> 9</td><td>Male  </td><td>White  </td><td>NonHispanic</td><td>1990</td><td>31</td><td>BROAD ST            </td><td>Providence</td><td>Rhode Island</td><td>RI Statute Violation</td><td>11-5-2        </td><td>FELONY ASSAULT/ DANG. WEAPON OR SUBSTANCE       </td><td> 2</td><td>2021-00077542</td><td>Dyer, Brian/ Georges, Wilkens                                      </td><td>pvd14935609672162974356</td><td>3</td><td>2</td></tr>\n",
       "\t<tr><th scope=row>13004</th><td>2021-09-30T18:00:00.0</td><td>2021</td><td> 9</td><td>Male  </td><td>Black  </td><td>NonHispanic</td><td>1987</td><td>34</td><td>GALLATIN ST         </td><td>Providence</td><td>NULL        </td><td>RI Statute Violation</td><td>12-9-16       </td><td>WARRANT OF ARREST ON AFFIDAVIT - ALL OTH OFFENSE</td><td> 1</td><td>2021-00075334</td><td>Morgan, Glen/ Bass, Khari                                          </td><td>pvd8433436421423571594 </td><td>3</td><td>2</td></tr>\n",
       "\t<tr><th scope=row>13005</th><td>2021-09-30T19:49:00.0</td><td>2021</td><td> 9</td><td>Female</td><td>Black  </td><td>NonHispanic</td><td>1964</td><td>57</td><td>CROSSROADS          </td><td>Providence</td><td>NULL        </td><td>RI Statute Violation</td><td>11-44-1       </td><td>VANDALISM/MALICIOUS INJURY TO PROPERTY          </td><td> 1</td><td>2021-00077611</td><td>Levesque, Alexa/ Georges, Wilkens                                  </td><td>pvd10005979167793807438</td><td>3</td><td>2</td></tr>\n",
       "\t<tr><th scope=row>13006</th><td>2021-10-01T00:09:00.0</td><td>2021</td><td>10</td><td>Male  </td><td>Unknown</td><td>Hispanic   </td><td>1986</td><td>35</td><td>BRANCH AVE          </td><td>Providence</td><td>NULL        </td><td>RI Statute Violation</td><td>11-5-3        </td><td>SIMPLE ASSAULT OR BATTERY                       </td><td> 1</td><td>2021-00065218</td><td>Bustamante, Genifer                                                </td><td>pvd1854345170741977353 </td><td>2</td><td>1</td></tr>\n",
       "\t<tr><th scope=row>13007</th><td>2021-10-01T00:00:00.0</td><td>2021</td><td>10</td><td>Female</td><td>White  </td><td>NonHispanic</td><td>1979</td><td>42</td><td>HIGHLAND STREET     </td><td>PAWTUCLKET</td><td>NULL        </td><td>RI Statute Violation</td><td>21-28-4.01-C1A</td><td>POSSESSION OF SCHEDULE I II III                 </td><td> 1</td><td>2021-00077653</td><td>Colicci, Nathaniel/ Heeder, Jenna/ Prete, Louis/ Wagoner, Alexander</td><td>pvd10290435390801352104</td><td>5</td><td>4</td></tr>\n",
       "\t<tr><th scope=row>13008</th><td>2021-10-01T00:00:00.0</td><td>2021</td><td>10</td><td>Female</td><td>White  </td><td>NonHispanic</td><td>1979</td><td>42</td><td>HIGHLAND STREET     </td><td>PAWTUCLKET</td><td>NULL        </td><td>RI Statute Violation</td><td>11-5-3        </td><td>SIMPLE ASSAULT OR BATTERY                       </td><td> 1</td><td>2021-00077653</td><td>Colicci, Nathaniel/ Heeder, Jenna/ Prete, Louis/ Wagoner, Alexander</td><td>pvd10290435390801352104</td><td>5</td><td>4</td></tr>\n",
       "\t<tr><th scope=row>13009</th><td>2021-10-01T00:00:00.0</td><td>2021</td><td>10</td><td>Female</td><td>White  </td><td>NonHispanic</td><td>1979</td><td>42</td><td>HIGHLAND STREET     </td><td>PAWTUCLKET</td><td>NULL        </td><td>RI Statute Violation</td><td>11-45-1       </td><td>DISORDERLY CONDUCT                              </td><td> 1</td><td>2021-00077653</td><td>Colicci, Nathaniel/ Heeder, Jenna/ Prete, Louis/ Wagoner, Alexander</td><td>pvd10290435390801352104</td><td>5</td><td>4</td></tr>\n",
       "\t<tr><th scope=row>13010</th><td>2021-10-01T00:00:00.0</td><td>2021</td><td>10</td><td>Female</td><td>White  </td><td>NonHispanic</td><td>1979</td><td>42</td><td>HIGHLAND STREET     </td><td>PAWTUCLKET</td><td>NULL        </td><td>RI Statute Violation</td><td>11-32-1       </td><td>OBSTRUCTING OFFICER IN EXECUTION OF DUTY        </td><td> 1</td><td>2021-00077653</td><td>Colicci, Nathaniel/ Heeder, Jenna/ Prete, Louis/ Wagoner, Alexander</td><td>pvd10290435390801352104</td><td>5</td><td>4</td></tr>\n",
       "\t<tr><th scope=row>13011</th><td>2021-10-01T00:05:00.0</td><td>2021</td><td>10</td><td>Male  </td><td>Black  </td><td>Hispanic   </td><td>1952</td><td>68</td><td>PHEBE ST            </td><td>Providence</td><td>Rhode Island</td><td>NULL                </td><td>NULL          </td><td>NULL                                            </td><td>NA</td><td>2021-00077654</td><td>Silva, Eric                                                        </td><td>pvd10501230489459422006</td><td>2</td><td>1</td></tr>\n",
       "\t<tr><th scope=row>13012</th><td>2021-10-01T00:00:00.0</td><td>2021</td><td>10</td><td>Male  </td><td>Black  </td><td>Hispanic   </td><td>1980</td><td>40</td><td>No Permanent Address</td><td>Providence</td><td>Rhode Island</td><td>NULL                </td><td>NULL          </td><td>NULL                                            </td><td>NA</td><td>2021-00077676</td><td>Cooney, Sean                                                       </td><td>pvd6857941429842573728 </td><td>2</td><td>1</td></tr>\n",
       "</tbody>\n",
       "</table>\n"
      ],
      "text/latex": [
       "A data.frame: 12 × 20\n",
       "\\begin{tabular}{r|llllllllllllllllllll}\n",
       "  & arrest\\_date & year & month & gender & race & ethnicity & year\\_of\\_birth & age & from\\_address & from\\_city & from\\_state & statute\\_type & statute\\_code & statute\\_desc & counts & case\\_number & arresting\\_officers & id & old\\_officer\\_cnt & officer\\_cnt\\\\\n",
       "  & <chr> & <int> & <int> & <chr> & <chr> & <chr> & <int> & <int> & <chr> & <chr> & <chr> & <chr> & <chr> & <chr> & <int> & <chr> & <chr> & <chr> & <dbl> & <dbl>\\\\\n",
       "\\hline\n",
       "\t13001 & 2021-09-30T07:00:00.0 & 2021 &  9 & Male   & Black   & NonHispanic & 1988 & 33 & PARK HOLM            & NEWPORT    & NULL         & RI Statute Violation & 11-9-5         & CRUELTY TO OR NEGLECT OF CHILD                   &  1 & 2021-00075330 & Stanzione, Jared                                                    & pvd8344990625170182930  & 2 & 1\\\\\n",
       "\t13002 & 2021-09-30T00:00:00.0 & 2021 &  9 & Male   & Black   & NonHispanic & 1979 & 42 & No Permanent Address & Providence & NULL         & RI Statute Violation & 11-8-4         & B\\&E BUS.PLACE PUBLIC BLDG  OR SHIP W/FEL. INTENT &  1 & 2021-00074477 & NULL                                                                & pvd11832376381973364540 & 1 & 1\\\\\n",
       "\t13003 & 2021-09-30T15:06:00.0 & 2021 &  9 & Male   & White   & NonHispanic & 1990 & 31 & BROAD ST             & Providence & Rhode Island & RI Statute Violation & 11-5-2         & FELONY ASSAULT/ DANG. WEAPON OR SUBSTANCE        &  2 & 2021-00077542 & Dyer, Brian/ Georges, Wilkens                                       & pvd14935609672162974356 & 3 & 2\\\\\n",
       "\t13004 & 2021-09-30T18:00:00.0 & 2021 &  9 & Male   & Black   & NonHispanic & 1987 & 34 & GALLATIN ST          & Providence & NULL         & RI Statute Violation & 12-9-16        & WARRANT OF ARREST ON AFFIDAVIT - ALL OTH OFFENSE &  1 & 2021-00075334 & Morgan, Glen/ Bass, Khari                                           & pvd8433436421423571594  & 3 & 2\\\\\n",
       "\t13005 & 2021-09-30T19:49:00.0 & 2021 &  9 & Female & Black   & NonHispanic & 1964 & 57 & CROSSROADS           & Providence & NULL         & RI Statute Violation & 11-44-1        & VANDALISM/MALICIOUS INJURY TO PROPERTY           &  1 & 2021-00077611 & Levesque, Alexa/ Georges, Wilkens                                   & pvd10005979167793807438 & 3 & 2\\\\\n",
       "\t13006 & 2021-10-01T00:09:00.0 & 2021 & 10 & Male   & Unknown & Hispanic    & 1986 & 35 & BRANCH AVE           & Providence & NULL         & RI Statute Violation & 11-5-3         & SIMPLE ASSAULT OR BATTERY                        &  1 & 2021-00065218 & Bustamante, Genifer                                                 & pvd1854345170741977353  & 2 & 1\\\\\n",
       "\t13007 & 2021-10-01T00:00:00.0 & 2021 & 10 & Female & White   & NonHispanic & 1979 & 42 & HIGHLAND STREET      & PAWTUCLKET & NULL         & RI Statute Violation & 21-28-4.01-C1A & POSSESSION OF SCHEDULE I II III                  &  1 & 2021-00077653 & Colicci, Nathaniel/ Heeder, Jenna/ Prete, Louis/ Wagoner, Alexander & pvd10290435390801352104 & 5 & 4\\\\\n",
       "\t13008 & 2021-10-01T00:00:00.0 & 2021 & 10 & Female & White   & NonHispanic & 1979 & 42 & HIGHLAND STREET      & PAWTUCLKET & NULL         & RI Statute Violation & 11-5-3         & SIMPLE ASSAULT OR BATTERY                        &  1 & 2021-00077653 & Colicci, Nathaniel/ Heeder, Jenna/ Prete, Louis/ Wagoner, Alexander & pvd10290435390801352104 & 5 & 4\\\\\n",
       "\t13009 & 2021-10-01T00:00:00.0 & 2021 & 10 & Female & White   & NonHispanic & 1979 & 42 & HIGHLAND STREET      & PAWTUCLKET & NULL         & RI Statute Violation & 11-45-1        & DISORDERLY CONDUCT                               &  1 & 2021-00077653 & Colicci, Nathaniel/ Heeder, Jenna/ Prete, Louis/ Wagoner, Alexander & pvd10290435390801352104 & 5 & 4\\\\\n",
       "\t13010 & 2021-10-01T00:00:00.0 & 2021 & 10 & Female & White   & NonHispanic & 1979 & 42 & HIGHLAND STREET      & PAWTUCLKET & NULL         & RI Statute Violation & 11-32-1        & OBSTRUCTING OFFICER IN EXECUTION OF DUTY         &  1 & 2021-00077653 & Colicci, Nathaniel/ Heeder, Jenna/ Prete, Louis/ Wagoner, Alexander & pvd10290435390801352104 & 5 & 4\\\\\n",
       "\t13011 & 2021-10-01T00:05:00.0 & 2021 & 10 & Male   & Black   & Hispanic    & 1952 & 68 & PHEBE ST             & Providence & Rhode Island & NULL                 & NULL           & NULL                                             & NA & 2021-00077654 & Silva, Eric                                                         & pvd10501230489459422006 & 2 & 1\\\\\n",
       "\t13012 & 2021-10-01T00:00:00.0 & 2021 & 10 & Male   & Black   & Hispanic    & 1980 & 40 & No Permanent Address & Providence & Rhode Island & NULL                 & NULL           & NULL                                             & NA & 2021-00077676 & Cooney, Sean                                                        & pvd6857941429842573728  & 2 & 1\\\\\n",
       "\\end{tabular}\n"
      ],
      "text/markdown": [
       "\n",
       "A data.frame: 12 × 20\n",
       "\n",
       "| <!--/--> | arrest_date &lt;chr&gt; | year &lt;int&gt; | month &lt;int&gt; | gender &lt;chr&gt; | race &lt;chr&gt; | ethnicity &lt;chr&gt; | year_of_birth &lt;int&gt; | age &lt;int&gt; | from_address &lt;chr&gt; | from_city &lt;chr&gt; | from_state &lt;chr&gt; | statute_type &lt;chr&gt; | statute_code &lt;chr&gt; | statute_desc &lt;chr&gt; | counts &lt;int&gt; | case_number &lt;chr&gt; | arresting_officers &lt;chr&gt; | id &lt;chr&gt; | old_officer_cnt &lt;dbl&gt; | officer_cnt &lt;dbl&gt; |\n",
       "|---|---|---|---|---|---|---|---|---|---|---|---|---|---|---|---|---|---|---|---|---|\n",
       "| 13001 | 2021-09-30T07:00:00.0 | 2021 |  9 | Male   | Black   | NonHispanic | 1988 | 33 | PARK HOLM            | NEWPORT    | NULL         | RI Statute Violation | 11-9-5         | CRUELTY TO OR NEGLECT OF CHILD                   |  1 | 2021-00075330 | Stanzione, Jared                                                    | pvd8344990625170182930  | 2 | 1 |\n",
       "| 13002 | 2021-09-30T00:00:00.0 | 2021 |  9 | Male   | Black   | NonHispanic | 1979 | 42 | No Permanent Address | Providence | NULL         | RI Statute Violation | 11-8-4         | B&amp;E BUS.PLACE PUBLIC BLDG  OR SHIP W/FEL. INTENT |  1 | 2021-00074477 | NULL                                                                | pvd11832376381973364540 | 1 | 1 |\n",
       "| 13003 | 2021-09-30T15:06:00.0 | 2021 |  9 | Male   | White   | NonHispanic | 1990 | 31 | BROAD ST             | Providence | Rhode Island | RI Statute Violation | 11-5-2         | FELONY ASSAULT/ DANG. WEAPON OR SUBSTANCE        |  2 | 2021-00077542 | Dyer, Brian/ Georges, Wilkens                                       | pvd14935609672162974356 | 3 | 2 |\n",
       "| 13004 | 2021-09-30T18:00:00.0 | 2021 |  9 | Male   | Black   | NonHispanic | 1987 | 34 | GALLATIN ST          | Providence | NULL         | RI Statute Violation | 12-9-16        | WARRANT OF ARREST ON AFFIDAVIT - ALL OTH OFFENSE |  1 | 2021-00075334 | Morgan, Glen/ Bass, Khari                                           | pvd8433436421423571594  | 3 | 2 |\n",
       "| 13005 | 2021-09-30T19:49:00.0 | 2021 |  9 | Female | Black   | NonHispanic | 1964 | 57 | CROSSROADS           | Providence | NULL         | RI Statute Violation | 11-44-1        | VANDALISM/MALICIOUS INJURY TO PROPERTY           |  1 | 2021-00077611 | Levesque, Alexa/ Georges, Wilkens                                   | pvd10005979167793807438 | 3 | 2 |\n",
       "| 13006 | 2021-10-01T00:09:00.0 | 2021 | 10 | Male   | Unknown | Hispanic    | 1986 | 35 | BRANCH AVE           | Providence | NULL         | RI Statute Violation | 11-5-3         | SIMPLE ASSAULT OR BATTERY                        |  1 | 2021-00065218 | Bustamante, Genifer                                                 | pvd1854345170741977353  | 2 | 1 |\n",
       "| 13007 | 2021-10-01T00:00:00.0 | 2021 | 10 | Female | White   | NonHispanic | 1979 | 42 | HIGHLAND STREET      | PAWTUCLKET | NULL         | RI Statute Violation | 21-28-4.01-C1A | POSSESSION OF SCHEDULE I II III                  |  1 | 2021-00077653 | Colicci, Nathaniel/ Heeder, Jenna/ Prete, Louis/ Wagoner, Alexander | pvd10290435390801352104 | 5 | 4 |\n",
       "| 13008 | 2021-10-01T00:00:00.0 | 2021 | 10 | Female | White   | NonHispanic | 1979 | 42 | HIGHLAND STREET      | PAWTUCLKET | NULL         | RI Statute Violation | 11-5-3         | SIMPLE ASSAULT OR BATTERY                        |  1 | 2021-00077653 | Colicci, Nathaniel/ Heeder, Jenna/ Prete, Louis/ Wagoner, Alexander | pvd10290435390801352104 | 5 | 4 |\n",
       "| 13009 | 2021-10-01T00:00:00.0 | 2021 | 10 | Female | White   | NonHispanic | 1979 | 42 | HIGHLAND STREET      | PAWTUCLKET | NULL         | RI Statute Violation | 11-45-1        | DISORDERLY CONDUCT                               |  1 | 2021-00077653 | Colicci, Nathaniel/ Heeder, Jenna/ Prete, Louis/ Wagoner, Alexander | pvd10290435390801352104 | 5 | 4 |\n",
       "| 13010 | 2021-10-01T00:00:00.0 | 2021 | 10 | Female | White   | NonHispanic | 1979 | 42 | HIGHLAND STREET      | PAWTUCLKET | NULL         | RI Statute Violation | 11-32-1        | OBSTRUCTING OFFICER IN EXECUTION OF DUTY         |  1 | 2021-00077653 | Colicci, Nathaniel/ Heeder, Jenna/ Prete, Louis/ Wagoner, Alexander | pvd10290435390801352104 | 5 | 4 |\n",
       "| 13011 | 2021-10-01T00:05:00.0 | 2021 | 10 | Male   | Black   | Hispanic    | 1952 | 68 | PHEBE ST             | Providence | Rhode Island | NULL                 | NULL           | NULL                                             | NA | 2021-00077654 | Silva, Eric                                                         | pvd10501230489459422006 | 2 | 1 |\n",
       "| 13012 | 2021-10-01T00:00:00.0 | 2021 | 10 | Male   | Black   | Hispanic    | 1980 | 40 | No Permanent Address | Providence | Rhode Island | NULL                 | NULL           | NULL                                             | NA | 2021-00077676 | Cooney, Sean                                                        | pvd6857941429842573728  | 2 | 1 |\n",
       "\n"
      ],
      "text/plain": [
       "      arrest_date           year month gender race    ethnicity   year_of_birth\n",
       "13001 2021-09-30T07:00:00.0 2021  9    Male   Black   NonHispanic 1988         \n",
       "13002 2021-09-30T00:00:00.0 2021  9    Male   Black   NonHispanic 1979         \n",
       "13003 2021-09-30T15:06:00.0 2021  9    Male   White   NonHispanic 1990         \n",
       "13004 2021-09-30T18:00:00.0 2021  9    Male   Black   NonHispanic 1987         \n",
       "13005 2021-09-30T19:49:00.0 2021  9    Female Black   NonHispanic 1964         \n",
       "13006 2021-10-01T00:09:00.0 2021 10    Male   Unknown Hispanic    1986         \n",
       "13007 2021-10-01T00:00:00.0 2021 10    Female White   NonHispanic 1979         \n",
       "13008 2021-10-01T00:00:00.0 2021 10    Female White   NonHispanic 1979         \n",
       "13009 2021-10-01T00:00:00.0 2021 10    Female White   NonHispanic 1979         \n",
       "13010 2021-10-01T00:00:00.0 2021 10    Female White   NonHispanic 1979         \n",
       "13011 2021-10-01T00:05:00.0 2021 10    Male   Black   Hispanic    1952         \n",
       "13012 2021-10-01T00:00:00.0 2021 10    Male   Black   Hispanic    1980         \n",
       "      age from_address         from_city  from_state   statute_type        \n",
       "13001 33  PARK HOLM            NEWPORT    NULL         RI Statute Violation\n",
       "13002 42  No Permanent Address Providence NULL         RI Statute Violation\n",
       "13003 31  BROAD ST             Providence Rhode Island RI Statute Violation\n",
       "13004 34  GALLATIN ST          Providence NULL         RI Statute Violation\n",
       "13005 57  CROSSROADS           Providence NULL         RI Statute Violation\n",
       "13006 35  BRANCH AVE           Providence NULL         RI Statute Violation\n",
       "13007 42  HIGHLAND STREET      PAWTUCLKET NULL         RI Statute Violation\n",
       "13008 42  HIGHLAND STREET      PAWTUCLKET NULL         RI Statute Violation\n",
       "13009 42  HIGHLAND STREET      PAWTUCLKET NULL         RI Statute Violation\n",
       "13010 42  HIGHLAND STREET      PAWTUCLKET NULL         RI Statute Violation\n",
       "13011 68  PHEBE ST             Providence Rhode Island NULL                \n",
       "13012 40  No Permanent Address Providence Rhode Island NULL                \n",
       "      statute_code   statute_desc                                     counts\n",
       "13001 11-9-5         CRUELTY TO OR NEGLECT OF CHILD                    1    \n",
       "13002 11-8-4         B&E BUS.PLACE PUBLIC BLDG  OR SHIP W/FEL. INTENT  1    \n",
       "13003 11-5-2         FELONY ASSAULT/ DANG. WEAPON OR SUBSTANCE         2    \n",
       "13004 12-9-16        WARRANT OF ARREST ON AFFIDAVIT - ALL OTH OFFENSE  1    \n",
       "13005 11-44-1        VANDALISM/MALICIOUS INJURY TO PROPERTY            1    \n",
       "13006 11-5-3         SIMPLE ASSAULT OR BATTERY                         1    \n",
       "13007 21-28-4.01-C1A POSSESSION OF SCHEDULE I II III                   1    \n",
       "13008 11-5-3         SIMPLE ASSAULT OR BATTERY                         1    \n",
       "13009 11-45-1        DISORDERLY CONDUCT                                1    \n",
       "13010 11-32-1        OBSTRUCTING OFFICER IN EXECUTION OF DUTY          1    \n",
       "13011 NULL           NULL                                             NA    \n",
       "13012 NULL           NULL                                             NA    \n",
       "      case_number  \n",
       "13001 2021-00075330\n",
       "13002 2021-00074477\n",
       "13003 2021-00077542\n",
       "13004 2021-00075334\n",
       "13005 2021-00077611\n",
       "13006 2021-00065218\n",
       "13007 2021-00077653\n",
       "13008 2021-00077653\n",
       "13009 2021-00077653\n",
       "13010 2021-00077653\n",
       "13011 2021-00077654\n",
       "13012 2021-00077676\n",
       "      arresting_officers                                                 \n",
       "13001 Stanzione, Jared                                                   \n",
       "13002 NULL                                                               \n",
       "13003 Dyer, Brian/ Georges, Wilkens                                      \n",
       "13004 Morgan, Glen/ Bass, Khari                                          \n",
       "13005 Levesque, Alexa/ Georges, Wilkens                                  \n",
       "13006 Bustamante, Genifer                                                \n",
       "13007 Colicci, Nathaniel/ Heeder, Jenna/ Prete, Louis/ Wagoner, Alexander\n",
       "13008 Colicci, Nathaniel/ Heeder, Jenna/ Prete, Louis/ Wagoner, Alexander\n",
       "13009 Colicci, Nathaniel/ Heeder, Jenna/ Prete, Louis/ Wagoner, Alexander\n",
       "13010 Colicci, Nathaniel/ Heeder, Jenna/ Prete, Louis/ Wagoner, Alexander\n",
       "13011 Silva, Eric                                                        \n",
       "13012 Cooney, Sean                                                       \n",
       "      id                      old_officer_cnt officer_cnt\n",
       "13001 pvd8344990625170182930  2               1          \n",
       "13002 pvd11832376381973364540 1               1          \n",
       "13003 pvd14935609672162974356 3               2          \n",
       "13004 pvd8433436421423571594  3               2          \n",
       "13005 pvd10005979167793807438 3               2          \n",
       "13006 pvd1854345170741977353  2               1          \n",
       "13007 pvd10290435390801352104 5               4          \n",
       "13008 pvd10290435390801352104 5               4          \n",
       "13009 pvd10290435390801352104 5               4          \n",
       "13010 pvd10290435390801352104 5               4          \n",
       "13011 pvd10501230489459422006 2               1          \n",
       "13012 pvd6857941429842573728  2               1          "
      ]
     },
     "metadata": {},
     "output_type": "display_data"
    }
   ],
   "source": [
    "tail(arrests_df, 12)"
   ]
  },
  {
   "cell_type": "markdown",
   "metadata": {
    "slideshow": {
     "slide_type": "subslide"
    }
   },
   "source": [
    "## 2.6 How Many Errors?"
   ]
  },
  {
   "cell_type": "code",
   "execution_count": 29,
   "metadata": {
    "slideshow": {
     "slide_type": "fragment"
    }
   },
   "outputs": [
    {
     "data": {
      "text/html": [
       "8194"
      ],
      "text/latex": [
       "8194"
      ],
      "text/markdown": [
       "8194"
      ],
      "text/plain": [
       "[1] 8194"
      ]
     },
     "metadata": {},
     "output_type": "display_data"
    }
   ],
   "source": [
    "\n",
    "sum(arrests_df$old_officer_cnt != arrests_df$officer_cnt)"
   ]
  },
  {
   "cell_type": "code",
   "execution_count": 30,
   "metadata": {},
   "outputs": [
    {
     "data": {
      "text/html": [
       "13012"
      ],
      "text/latex": [
       "13012"
      ],
      "text/markdown": [
       "13012"
      ],
      "text/plain": [
       "[1] 13012"
      ]
     },
     "metadata": {},
     "output_type": "display_data"
    }
   ],
   "source": [
    "nrow(arrests_df)"
   ]
  },
  {
   "cell_type": "markdown",
   "metadata": {
    "slideshow": {
     "slide_type": "slide"
    }
   },
   "source": [
    "<h1><center>Challenge Problem</center></h1>\n",
    "    \n",
    "\n",
    "Suppose that we have addresses in the form of strings such as `\"123 Main St. Providence, RI, 02901\"`. Now suppose that we want to write a function that gets the state abbreviation from that string, and returns that. Let's call our function `get_state_code()`. So, for example, from the string above, we would want our `get_state_code()` function to return `RI`.\n",
    "\n",
    "As a hint, somewhere in our function we will want to use the `str_extract()` function to extract the following pattern `\", ..,\"`. This will match the state abbreviation, to get us started. We will also want to use the `str_sub()` function to extract only the characters that we want (i.e., the 3rd and 4th).\n",
    "\n",
    "When our function is complete, the three tests below should print `TRUE`."
   ]
  },
  {
   "cell_type": "code",
   "execution_count": 35,
   "metadata": {},
   "outputs": [
    {
     "data": {
      "text/html": [
       "'RI'"
      ],
      "text/latex": [
       "'RI'"
      ],
      "text/markdown": [
       "'RI'"
      ],
      "text/plain": [
       "[1] \"RI\""
      ]
     },
     "metadata": {},
     "output_type": "display_data"
    },
    {
     "data": {
      "text/html": [
       "'MN'"
      ],
      "text/latex": [
       "'MN'"
      ],
      "text/markdown": [
       "'MN'"
      ],
      "text/plain": [
       "[1] \"MN\""
      ]
     },
     "metadata": {},
     "output_type": "display_data"
    }
   ],
   "source": [
    "get_state_code <- function(address) {\n",
    "    extracted_str <- str_extract(address, \", [:upper:][:upper:],\")\n",
    "    return(str_sub(extracted_str, 3, 4))\n",
    "}\n"
   ]
  },
  {
   "cell_type": "code",
   "execution_count": 36,
   "metadata": {
    "slideshow": {
     "slide_type": "-"
    }
   },
   "outputs": [
    {
     "name": "stdout",
     "output_type": "stream",
     "text": [
      "[1] TRUE\n",
      "[1] TRUE\n",
      "[1] TRUE\n"
     ]
    }
   ],
   "source": [
    "print(get_state_code(\"123 Main St. Providence, RI, 02901\") == \"RI\")\n",
    "print(get_state_code(\"915 Adams Street South East Hutchinson, MN, 55350\") == \"MN\")\n",
    "print(get_state_code(\"1200 Pennsylvania Avenue NW. Washington, DC, 20004\") == \"DC\")"
   ]
  },
  {
   "cell_type": "markdown",
   "metadata": {
    "slideshow": {
     "slide_type": "slide"
    }
   },
   "source": [
    "<center><h1>Cleaning Dates in R</h1></center>"
   ]
  },
  {
   "cell_type": "markdown",
   "metadata": {
    "slideshow": {
     "slide_type": "slide"
    }
   },
   "source": [
    "# 3. The _lubridate_ Package\n",
    "\n",
    "  - Extremely powerful R package for working with dates and timestamps\n",
    "  - Part of the _tidyverse_ family of packages (e.g., _dplyr_, _ggplot_, _stringr_)"
   ]
  },
  {
   "cell_type": "code",
   "execution_count": 37,
   "metadata": {
    "slideshow": {
     "slide_type": "fragment"
    }
   },
   "outputs": [
    {
     "name": "stderr",
     "output_type": "stream",
     "text": [
      "Warning message in system(\"timedatectl\", intern = TRUE):\n",
      "“running command 'timedatectl' had status 1”\n",
      "\n",
      "Attaching package: ‘lubridate’\n",
      "\n",
      "\n",
      "The following objects are masked from ‘package:base’:\n",
      "\n",
      "    date, intersect, setdiff, union\n",
      "\n",
      "\n"
     ]
    }
   ],
   "source": [
    "# load packages\n",
    "# read in data\n",
    "\n",
    "library(dplyr)\n",
    "library(lubridate)\n",
    "\n",
    "arrests_df <- read.csv(\"data/pvd_arrests_2021-10-03.csv\")"
   ]
  },
  {
   "cell_type": "markdown",
   "metadata": {
    "slideshow": {
     "slide_type": "subslide"
    }
   },
   "source": [
    "## 3.1 Working with Timestamps\n",
    "  - The _lubridate_ package has many built-in functions for timestamp data\n",
    "  - Also often easily recognizes when a string _is_ a timestamp"
   ]
  },
  {
   "cell_type": "code",
   "execution_count": 38,
   "metadata": {
    "slideshow": {
     "slide_type": "fragment"
    }
   },
   "outputs": [
    {
     "data": {
      "text/html": [
       "2020"
      ],
      "text/latex": [
       "2020"
      ],
      "text/markdown": [
       "2020"
      ],
      "text/plain": [
       "[1] 2020"
      ]
     },
     "metadata": {},
     "output_type": "display_data"
    }
   ],
   "source": [
    "ts <- \"2020-10-11 02:30:59\"     # ISO 8601 format: YYYY-MM-DD HH:MM:SS\n",
    "\n",
    "year(ts)                        "
   ]
  },
  {
   "cell_type": "code",
   "execution_count": 39,
   "metadata": {
    "slideshow": {
     "slide_type": "fragment"
    }
   },
   "outputs": [
    {
     "data": {
      "text/html": [
       "10"
      ],
      "text/latex": [
       "10"
      ],
      "text/markdown": [
       "10"
      ],
      "text/plain": [
       "[1] 10"
      ]
     },
     "metadata": {},
     "output_type": "display_data"
    }
   ],
   "source": [
    "month(ts)"
   ]
  },
  {
   "cell_type": "code",
   "execution_count": 40,
   "metadata": {
    "slideshow": {
     "slide_type": "fragment"
    }
   },
   "outputs": [
    {
     "data": {
      "text/html": [
       "11"
      ],
      "text/latex": [
       "11"
      ],
      "text/markdown": [
       "11"
      ],
      "text/plain": [
       "[1] 11"
      ]
     },
     "metadata": {},
     "output_type": "display_data"
    }
   ],
   "source": [
    "day(ts)"
   ]
  },
  {
   "cell_type": "markdown",
   "metadata": {
    "slideshow": {
     "slide_type": "subslide"
    }
   },
   "source": [
    "### 3.1.1 Extracting Time"
   ]
  },
  {
   "cell_type": "code",
   "execution_count": 41,
   "metadata": {
    "slideshow": {
     "slide_type": "fragment"
    }
   },
   "outputs": [
    {
     "data": {
      "text/html": [
       "2"
      ],
      "text/latex": [
       "2"
      ],
      "text/markdown": [
       "2"
      ],
      "text/plain": [
       "[1] 2"
      ]
     },
     "metadata": {},
     "output_type": "display_data"
    },
    {
     "data": {
      "text/html": [
       "30"
      ],
      "text/latex": [
       "30"
      ],
      "text/markdown": [
       "30"
      ],
      "text/plain": [
       "[1] 30"
      ]
     },
     "metadata": {},
     "output_type": "display_data"
    },
    {
     "data": {
      "text/html": [
       "59"
      ],
      "text/latex": [
       "59"
      ],
      "text/markdown": [
       "59"
      ],
      "text/plain": [
       "[1] 59"
      ]
     },
     "metadata": {},
     "output_type": "display_data"
    }
   ],
   "source": [
    "ts <- \"2020-10-11 02:30:59\"\n",
    "\n",
    "hour(ts)\n",
    "minute(ts)\n",
    "second(ts)"
   ]
  },
  {
   "cell_type": "code",
   "execution_count": 42,
   "metadata": {
    "slideshow": {
     "slide_type": "fragment"
    }
   },
   "outputs": [
    {
     "data": {
      "text/html": [
       "TRUE"
      ],
      "text/latex": [
       "TRUE"
      ],
      "text/markdown": [
       "TRUE"
      ],
      "text/plain": [
       "[1] TRUE"
      ]
     },
     "metadata": {},
     "output_type": "display_data"
    },
    {
     "data": {
      "text/html": [
       "FALSE"
      ],
      "text/latex": [
       "FALSE"
      ],
      "text/markdown": [
       "FALSE"
      ],
      "text/plain": [
       "[1] FALSE"
      ]
     },
     "metadata": {},
     "output_type": "display_data"
    }
   ],
   "source": [
    "am(ts)             # is it AM time (i.e., morning)?\n",
    "\n",
    "dst(ts)"
   ]
  },
  {
   "cell_type": "markdown",
   "metadata": {
    "slideshow": {
     "slide_type": "subslide"
    }
   },
   "source": [
    "### 3.1.2 Extracting Day-of-Week"
   ]
  },
  {
   "cell_type": "code",
   "execution_count": 43,
   "metadata": {
    "slideshow": {
     "slide_type": "fragment"
    }
   },
   "outputs": [
    {
     "data": {
      "text/html": [
       "1"
      ],
      "text/latex": [
       "1"
      ],
      "text/markdown": [
       "1"
      ],
      "text/plain": [
       "[1] 1"
      ]
     },
     "metadata": {},
     "output_type": "display_data"
    }
   ],
   "source": [
    "ts <- \"2020-10-11 02:30:59\"\n",
    "\n",
    "wday(ts)"
   ]
  },
  {
   "cell_type": "code",
   "execution_count": 44,
   "metadata": {
    "slideshow": {
     "slide_type": "fragment"
    }
   },
   "outputs": [
    {
     "data": {
      "text/html": [
       "'Sun'"
      ],
      "text/latex": [
       "'Sun'"
      ],
      "text/markdown": [
       "'Sun'"
      ],
      "text/plain": [
       "[1] \"Sun\""
      ]
     },
     "metadata": {},
     "output_type": "display_data"
    }
   ],
   "source": [
    "toString(wday(ts, label = TRUE))"
   ]
  },
  {
   "cell_type": "markdown",
   "metadata": {
    "slideshow": {
     "slide_type": "subslide"
    }
   },
   "source": [
    "## 3.2 Other Timestamp Formats"
   ]
  },
  {
   "cell_type": "code",
   "execution_count": 45,
   "metadata": {
    "slideshow": {
     "slide_type": "fragment"
    }
   },
   "outputs": [
    {
     "data": {
      "text/html": [
       "'Sun'"
      ],
      "text/latex": [
       "'Sun'"
      ],
      "text/markdown": [
       "'Sun'"
      ],
      "text/plain": [
       "[1] \"Sun\""
      ]
     },
     "metadata": {},
     "output_type": "display_data"
    }
   ],
   "source": [
    "ts2 <- \"2020-10-11\"\n",
    "\n",
    "toString(wday(ts2, label = TRUE))"
   ]
  },
  {
   "cell_type": "code",
   "execution_count": 46,
   "metadata": {
    "slideshow": {
     "slide_type": "fragment"
    }
   },
   "outputs": [
    {
     "data": {
      "text/html": [
       "'Sun'"
      ],
      "text/latex": [
       "'Sun'"
      ],
      "text/markdown": [
       "'Sun'"
      ],
      "text/plain": [
       "[1] \"Sun\""
      ]
     },
     "metadata": {},
     "output_type": "display_data"
    }
   ],
   "source": [
    "ts3 <- as_datetime(\"20201011\")\n",
    "\n",
    "toString(wday(ts3, label = TRUE))"
   ]
  },
  {
   "cell_type": "markdown",
   "metadata": {
    "slideshow": {
     "slide_type": "subslide"
    }
   },
   "source": [
    "### 3.2.1 Non ISO 8601 Format\n",
    "  - We can also tell _lubridate_ package how to parse non-obvious timestamps"
   ]
  },
  {
   "cell_type": "code",
   "execution_count": 47,
   "metadata": {
    "slideshow": {
     "slide_type": "fragment"
    }
   },
   "outputs": [
    {
     "ename": "ERROR",
     "evalue": "Error in as.POSIXlt.character(x, tz = tz(x)): character string is not in a standard unambiguous format\n",
     "output_type": "error",
     "traceback": [
      "Error in as.POSIXlt.character(x, tz = tz(x)): character string is not in a standard unambiguous format\nTraceback:\n",
      "1. month(ts3)",
      "2. month.default(ts3)",
      "3. month(as.POSIXlt(x, tz = tz(x))$mon + 1, label, abbr, locale = locale)",
      "4. as.POSIXlt(x, tz = tz(x))",
      "5. as.POSIXlt.character(x, tz = tz(x))",
      "6. stop(\"character string is not in a standard unambiguous format\")"
     ]
    }
   ],
   "source": [
    "ts3 <- \"October 11, 2020\"\n",
    "\n",
    "month(ts3)             "
   ]
  },
  {
   "cell_type": "code",
   "execution_count": 48,
   "metadata": {
    "slideshow": {
     "slide_type": "fragment"
    }
   },
   "outputs": [
    {
     "data": {
      "text/html": [
       "<time datetime=\"2020-10-11\">2020-10-11</time>"
      ],
      "text/latex": [
       "2020-10-11"
      ],
      "text/markdown": [
       "2020-10-11"
      ],
      "text/plain": [
       "[1] \"2020-10-11\""
      ]
     },
     "metadata": {},
     "output_type": "display_data"
    }
   ],
   "source": [
    "mdy(ts3)             # Month-day-year format (also dmy(), ymd(), and others)"
   ]
  },
  {
   "cell_type": "code",
   "execution_count": 49,
   "metadata": {
    "slideshow": {
     "slide_type": "fragment"
    }
   },
   "outputs": [
    {
     "data": {
      "text/html": [
       "10"
      ],
      "text/latex": [
       "10"
      ],
      "text/markdown": [
       "10"
      ],
      "text/plain": [
       "[1] 10"
      ]
     },
     "metadata": {},
     "output_type": "display_data"
    }
   ],
   "source": [
    "month(mdy(ts3))"
   ]
  },
  {
   "cell_type": "markdown",
   "metadata": {
    "slideshow": {
     "slide_type": "subslide"
    }
   },
   "source": [
    "# 4. Math with Dates and Timestamps\n",
    "\n",
    "  - The _lubridate_ package also makes it easy to do math with dates and times"
   ]
  },
  {
   "cell_type": "code",
   "execution_count": 51,
   "metadata": {
    "slideshow": {
     "slide_type": "fragment"
    }
   },
   "outputs": [
    {
     "name": "stdout",
     "output_type": "stream",
     "text": [
      "[1] \"2020-10-31\"\n"
     ]
    }
   ],
   "source": [
    "end_of_october <- as_date(\"2020-10-31\")\n",
    "\n",
    "print(end_of_october)"
   ]
  },
  {
   "cell_type": "code",
   "execution_count": 52,
   "metadata": {
    "slideshow": {
     "slide_type": "fragment"
    }
   },
   "outputs": [
    {
     "data": {
      "text/html": [
       "<time datetime=\"2020-11-01\">2020-11-01</time>"
      ],
      "text/latex": [
       "2020-11-01"
      ],
      "text/markdown": [
       "2020-11-01"
      ],
      "text/plain": [
       "[1] \"2020-11-01\""
      ]
     },
     "metadata": {},
     "output_type": "display_data"
    }
   ],
   "source": [
    "end_of_october + days(1)"
   ]
  },
  {
   "cell_type": "code",
   "execution_count": 53,
   "metadata": {
    "slideshow": {
     "slide_type": "fragment"
    }
   },
   "outputs": [
    {
     "data": {
      "text/plain": [
       "Time difference of 2.830058 days"
      ]
     },
     "metadata": {},
     "output_type": "display_data"
    }
   ],
   "source": [
    "time1 <- as_datetime(\"2020-10-11 03:45:52\")\n",
    "time2 <- as_datetime(\"2020-10-13 23:41:09\")\n",
    "\n",
    "time2 - time1"
   ]
  },
  {
   "cell_type": "markdown",
   "metadata": {
    "slideshow": {
     "slide_type": "subslide"
    }
   },
   "source": [
    "## 4.1 Date/Time Intervals"
   ]
  },
  {
   "cell_type": "code",
   "execution_count": 55,
   "metadata": {
    "slideshow": {
     "slide_type": "fragment"
    }
   },
   "outputs": [
    {
     "name": "stdout",
     "output_type": "stream",
     "text": [
      "[1] 2020-10-12 UTC--2020-10-15 UTC\n"
     ]
    }
   ],
   "source": [
    "time1 <- as_datetime(\"2020-10-12\")\n",
    "time2 <- as_datetime(\"2020-10-15\")\n",
    "\n",
    "\n",
    "dt_intr <- interval(time1, time2)\n",
    "\n",
    "print(dt_intr)"
   ]
  },
  {
   "cell_type": "code",
   "execution_count": 56,
   "metadata": {
    "slideshow": {
     "slide_type": "fragment"
    }
   },
   "outputs": [
    {
     "data": {
      "text/html": [
       "TRUE"
      ],
      "text/latex": [
       "TRUE"
      ],
      "text/markdown": [
       "TRUE"
      ],
      "text/plain": [
       "[1] TRUE"
      ]
     },
     "metadata": {},
     "output_type": "display_data"
    }
   ],
   "source": [
    "as_datetime(\"2020-10-13\") %within% dt_intr"
   ]
  },
  {
   "cell_type": "code",
   "execution_count": 57,
   "metadata": {
    "slideshow": {
     "slide_type": "fragment"
    }
   },
   "outputs": [
    {
     "data": {
      "text/html": [
       "FALSE"
      ],
      "text/latex": [
       "FALSE"
      ],
      "text/markdown": [
       "FALSE"
      ],
      "text/plain": [
       "[1] FALSE"
      ]
     },
     "metadata": {},
     "output_type": "display_data"
    }
   ],
   "source": [
    "now() %within% dt_intr"
   ]
  },
  {
   "cell_type": "markdown",
   "metadata": {
    "slideshow": {
     "slide_type": "slide"
    }
   },
   "source": [
    "<h1><center>Challenge Problem</h1></center>\n",
    "\n",
    "\n",
    "Let's write a function called `is_within_range()` that takes the following three arguement: `start_day`, `end_day`, and `test_day`. These three arguments will be dates in the form of strings. The function will return a boolean value, indicating whether or not `test_day` is within the range from `start_day` to `end_day`. \n",
    "\n",
    "Three points are worth noting. First, we will need to use the `as_date()` function to \"cast\" the string form of the arguments in to the date type. And second, we'll want to use the `interval()` function to take the beginning and ending dates an create an interval range. Finally, we will almost certainly want to use the `%within%` operator to check wether our test day is within our range.\n",
    "\n",
    "When our function is working, the test below should all print `TRUE`."
   ]
  },
  {
   "cell_type": "code",
   "execution_count": 61,
   "metadata": {},
   "outputs": [],
   "source": [
    "is_within_range <- function(start_day, end_day, test_day) {\n",
    "    return(as_date(test_day) %within% interval(as_date(start_day), as_date(end_day)))\n",
    "}"
   ]
  },
  {
   "cell_type": "code",
   "execution_count": 62,
   "metadata": {
    "slideshow": {
     "slide_type": "-"
    }
   },
   "outputs": [
    {
     "name": "stdout",
     "output_type": "stream",
     "text": [
      "[1] TRUE\n",
      "[1] TRUE\n",
      "[1] TRUE\n"
     ]
    }
   ],
   "source": [
    "print(is_within_range(\"2021-09-10\", \"2021-11-10\", \"2021-10-10\"))\n",
    "print(is_within_range(\"2021-09-10\", \"2022-05-03\", \"2021-10-10\"))\n",
    "print(is_within_range(\"2011-09-10\", \"2020-01-10\", \"2021-12-08\") == FALSE)"
   ]
  },
  {
   "cell_type": "markdown",
   "metadata": {
    "slideshow": {
     "slide_type": "slide"
    }
   },
   "source": [
    "# 5. Arrests by Day-of-Week\n",
    "\n",
    "  - Suppose we want to explore the number of arrests by the day of the week\n",
    "  "
   ]
  },
  {
   "cell_type": "markdown",
   "metadata": {
    "slideshow": {
     "slide_type": "subslide"
    }
   },
   "source": [
    "## 5.1 Create `day_of_week()` Function"
   ]
  },
  {
   "cell_type": "code",
   "execution_count": 63,
   "metadata": {
    "slideshow": {
     "slide_type": "fragment"
    }
   },
   "outputs": [],
   "source": [
    "\n",
    "day_of_week <- function(timestamps) {\n",
    "    \n",
    "    n <- length(timestamps)  # get length of input column\n",
    "    day <- rep(\"\", n)        # allocate vector for day of week\n",
    "    \n",
    "    # iterate over elements of input column and return \n",
    "    # the day of the week for each timestamp\n",
    "    \n",
    "    for (i in 1:n) {\n",
    "        day[i] <- toString(wday(timestamps[i], label = TRUE))\n",
    "    }\n",
    "    return(day)\n",
    "}\n"
   ]
  },
  {
   "cell_type": "markdown",
   "metadata": {
    "slideshow": {
     "slide_type": "subslide"
    }
   },
   "source": [
    "### 5.1.1 Creating `weekday` Column\n",
    "   - Now we can use our newly created `day_of_week()` function to add a new column"
   ]
  },
  {
   "cell_type": "code",
   "execution_count": 64,
   "metadata": {
    "slideshow": {
     "slide_type": "fragment"
    }
   },
   "outputs": [],
   "source": [
    "# use out `day_of_week()` function to create new column\n",
    "# in our original dataframe\n",
    "\n",
    "arrests_df$weekday <- day_of_week(arrests_df$arrest_date)"
   ]
  },
  {
   "cell_type": "code",
   "execution_count": 65,
   "metadata": {
    "slideshow": {
     "slide_type": "fragment"
    }
   },
   "outputs": [
    {
     "data": {
      "text/html": [
       "<table class=\"dataframe\">\n",
       "<caption>A data.frame: 6 × 19</caption>\n",
       "<thead>\n",
       "\t<tr><th></th><th scope=col>arrest_date</th><th scope=col>year</th><th scope=col>month</th><th scope=col>gender</th><th scope=col>race</th><th scope=col>ethnicity</th><th scope=col>year_of_birth</th><th scope=col>age</th><th scope=col>from_address</th><th scope=col>from_city</th><th scope=col>from_state</th><th scope=col>statute_type</th><th scope=col>statute_code</th><th scope=col>statute_desc</th><th scope=col>counts</th><th scope=col>case_number</th><th scope=col>arresting_officers</th><th scope=col>id</th><th scope=col>weekday</th></tr>\n",
       "\t<tr><th></th><th scope=col>&lt;chr&gt;</th><th scope=col>&lt;int&gt;</th><th scope=col>&lt;int&gt;</th><th scope=col>&lt;chr&gt;</th><th scope=col>&lt;chr&gt;</th><th scope=col>&lt;chr&gt;</th><th scope=col>&lt;int&gt;</th><th scope=col>&lt;int&gt;</th><th scope=col>&lt;chr&gt;</th><th scope=col>&lt;chr&gt;</th><th scope=col>&lt;chr&gt;</th><th scope=col>&lt;chr&gt;</th><th scope=col>&lt;chr&gt;</th><th scope=col>&lt;chr&gt;</th><th scope=col>&lt;int&gt;</th><th scope=col>&lt;chr&gt;</th><th scope=col>&lt;chr&gt;</th><th scope=col>&lt;chr&gt;</th><th scope=col>&lt;chr&gt;</th></tr>\n",
       "</thead>\n",
       "<tbody>\n",
       "\t<tr><th scope=row>1</th><td>2019-08-24T02:23:00.0</td><td>2019</td><td>8</td><td>Male  </td><td>White</td><td>NonHispanic</td><td>1981</td><td>37</td><td>No Permanent Address</td><td>providence</td><td>Rhode Island</td><td>                    </td><td>        </td><td>                                                         </td><td>NA</td><td>2019-00084142</td><td> YGonzalez, LTaveras    </td><td>pvd2218242150382148273 </td><td>Sat</td></tr>\n",
       "\t<tr><th scope=row>2</th><td>2019-08-24T02:02:00.0</td><td>2019</td><td>8</td><td>      </td><td>     </td><td>           </td><td>1994</td><td>25</td><td>SUMMER AVE          </td><td>Cranston  </td><td>Rhode Island</td><td>RI Statute Violation</td><td>31-11-18</td><td>Driving after Denial, Suspension or Revocation of License</td><td> 1</td><td>2019-00084127</td><td> NManfredi              </td><td>pvd15166785558364246202</td><td>Sat</td></tr>\n",
       "\t<tr><th scope=row>3</th><td>2019-08-24T02:02:00.0</td><td>2019</td><td>8</td><td>Female</td><td>Black</td><td>NonHispanic</td><td>1984</td><td>34</td><td>DOUGLAS AVE         </td><td>Providence</td><td>Rhode Island</td><td>RI Statute Violation</td><td>12-7-10 </td><td>RESISTING LEGAL OR ILLEGAL ARREST                        </td><td> 1</td><td>2019-00084126</td><td> MPlace, JPerez, ASantos</td><td>pvd3142917706201385905 </td><td>Sat</td></tr>\n",
       "\t<tr><th scope=row>4</th><td>2019-08-24T02:02:00.0</td><td>2019</td><td>8</td><td>Female</td><td>Black</td><td>NonHispanic</td><td>1984</td><td>34</td><td>DOUGLAS AVE         </td><td>Providence</td><td>Rhode Island</td><td>RI Statute Violation</td><td>11-45-1 </td><td>DISORDERLY CONDUCT                                       </td><td> 1</td><td>2019-00084126</td><td> MPlace, JPerez, ASantos</td><td>pvd3142917706201385905 </td><td>Sat</td></tr>\n",
       "\t<tr><th scope=row>5</th><td>2019-08-24T02:02:00.0</td><td>2019</td><td>8</td><td>Female</td><td>Black</td><td>Unknown    </td><td>2001</td><td>18</td><td>TRASH ST            </td><td>          </td><td>            </td><td>RI Statute Violation</td><td>12-7-10 </td><td>RESISTING LEGAL OR ILLEGAL ARREST                        </td><td> 1</td><td>2019-00084126</td><td> MPlace, JPerez, ASantos</td><td>pvd460449304532374599  </td><td>Sat</td></tr>\n",
       "\t<tr><th scope=row>6</th><td>2019-08-24T02:02:00.0</td><td>2019</td><td>8</td><td>Female</td><td>Black</td><td>Unknown    </td><td>2001</td><td>18</td><td>TRASH ST            </td><td>          </td><td>            </td><td>RI Statute Violation</td><td>11-45-1 </td><td>DISORDERLY CONDUCT                                       </td><td> 1</td><td>2019-00084126</td><td> MPlace, JPerez, ASantos</td><td>pvd460449304532374599  </td><td>Sat</td></tr>\n",
       "</tbody>\n",
       "</table>\n"
      ],
      "text/latex": [
       "A data.frame: 6 × 19\n",
       "\\begin{tabular}{r|lllllllllllllllllll}\n",
       "  & arrest\\_date & year & month & gender & race & ethnicity & year\\_of\\_birth & age & from\\_address & from\\_city & from\\_state & statute\\_type & statute\\_code & statute\\_desc & counts & case\\_number & arresting\\_officers & id & weekday\\\\\n",
       "  & <chr> & <int> & <int> & <chr> & <chr> & <chr> & <int> & <int> & <chr> & <chr> & <chr> & <chr> & <chr> & <chr> & <int> & <chr> & <chr> & <chr> & <chr>\\\\\n",
       "\\hline\n",
       "\t1 & 2019-08-24T02:23:00.0 & 2019 & 8 & Male   & White & NonHispanic & 1981 & 37 & No Permanent Address & providence & Rhode Island &                      &          &                                                           & NA & 2019-00084142 &  YGonzalez, LTaveras     & pvd2218242150382148273  & Sat\\\\\n",
       "\t2 & 2019-08-24T02:02:00.0 & 2019 & 8 &        &       &             & 1994 & 25 & SUMMER AVE           & Cranston   & Rhode Island & RI Statute Violation & 31-11-18 & Driving after Denial, Suspension or Revocation of License &  1 & 2019-00084127 &  NManfredi               & pvd15166785558364246202 & Sat\\\\\n",
       "\t3 & 2019-08-24T02:02:00.0 & 2019 & 8 & Female & Black & NonHispanic & 1984 & 34 & DOUGLAS AVE          & Providence & Rhode Island & RI Statute Violation & 12-7-10  & RESISTING LEGAL OR ILLEGAL ARREST                         &  1 & 2019-00084126 &  MPlace, JPerez, ASantos & pvd3142917706201385905  & Sat\\\\\n",
       "\t4 & 2019-08-24T02:02:00.0 & 2019 & 8 & Female & Black & NonHispanic & 1984 & 34 & DOUGLAS AVE          & Providence & Rhode Island & RI Statute Violation & 11-45-1  & DISORDERLY CONDUCT                                        &  1 & 2019-00084126 &  MPlace, JPerez, ASantos & pvd3142917706201385905  & Sat\\\\\n",
       "\t5 & 2019-08-24T02:02:00.0 & 2019 & 8 & Female & Black & Unknown     & 2001 & 18 & TRASH ST             &            &              & RI Statute Violation & 12-7-10  & RESISTING LEGAL OR ILLEGAL ARREST                         &  1 & 2019-00084126 &  MPlace, JPerez, ASantos & pvd460449304532374599   & Sat\\\\\n",
       "\t6 & 2019-08-24T02:02:00.0 & 2019 & 8 & Female & Black & Unknown     & 2001 & 18 & TRASH ST             &            &              & RI Statute Violation & 11-45-1  & DISORDERLY CONDUCT                                        &  1 & 2019-00084126 &  MPlace, JPerez, ASantos & pvd460449304532374599   & Sat\\\\\n",
       "\\end{tabular}\n"
      ],
      "text/markdown": [
       "\n",
       "A data.frame: 6 × 19\n",
       "\n",
       "| <!--/--> | arrest_date &lt;chr&gt; | year &lt;int&gt; | month &lt;int&gt; | gender &lt;chr&gt; | race &lt;chr&gt; | ethnicity &lt;chr&gt; | year_of_birth &lt;int&gt; | age &lt;int&gt; | from_address &lt;chr&gt; | from_city &lt;chr&gt; | from_state &lt;chr&gt; | statute_type &lt;chr&gt; | statute_code &lt;chr&gt; | statute_desc &lt;chr&gt; | counts &lt;int&gt; | case_number &lt;chr&gt; | arresting_officers &lt;chr&gt; | id &lt;chr&gt; | weekday &lt;chr&gt; |\n",
       "|---|---|---|---|---|---|---|---|---|---|---|---|---|---|---|---|---|---|---|---|\n",
       "| 1 | 2019-08-24T02:23:00.0 | 2019 | 8 | Male   | White | NonHispanic | 1981 | 37 | No Permanent Address | providence | Rhode Island | <!----> | <!----> | <!----> | NA | 2019-00084142 |  YGonzalez, LTaveras     | pvd2218242150382148273  | Sat |\n",
       "| 2 | 2019-08-24T02:02:00.0 | 2019 | 8 | <!----> | <!----> | <!----> | 1994 | 25 | SUMMER AVE           | Cranston   | Rhode Island | RI Statute Violation | 31-11-18 | Driving after Denial, Suspension or Revocation of License |  1 | 2019-00084127 |  NManfredi               | pvd15166785558364246202 | Sat |\n",
       "| 3 | 2019-08-24T02:02:00.0 | 2019 | 8 | Female | Black | NonHispanic | 1984 | 34 | DOUGLAS AVE          | Providence | Rhode Island | RI Statute Violation | 12-7-10  | RESISTING LEGAL OR ILLEGAL ARREST                         |  1 | 2019-00084126 |  MPlace, JPerez, ASantos | pvd3142917706201385905  | Sat |\n",
       "| 4 | 2019-08-24T02:02:00.0 | 2019 | 8 | Female | Black | NonHispanic | 1984 | 34 | DOUGLAS AVE          | Providence | Rhode Island | RI Statute Violation | 11-45-1  | DISORDERLY CONDUCT                                        |  1 | 2019-00084126 |  MPlace, JPerez, ASantos | pvd3142917706201385905  | Sat |\n",
       "| 5 | 2019-08-24T02:02:00.0 | 2019 | 8 | Female | Black | Unknown     | 2001 | 18 | TRASH ST             | <!----> | <!----> | RI Statute Violation | 12-7-10  | RESISTING LEGAL OR ILLEGAL ARREST                         |  1 | 2019-00084126 |  MPlace, JPerez, ASantos | pvd460449304532374599   | Sat |\n",
       "| 6 | 2019-08-24T02:02:00.0 | 2019 | 8 | Female | Black | Unknown     | 2001 | 18 | TRASH ST             | <!----> | <!----> | RI Statute Violation | 11-45-1  | DISORDERLY CONDUCT                                        |  1 | 2019-00084126 |  MPlace, JPerez, ASantos | pvd460449304532374599   | Sat |\n",
       "\n"
      ],
      "text/plain": [
       "  arrest_date           year month gender race  ethnicity   year_of_birth age\n",
       "1 2019-08-24T02:23:00.0 2019 8     Male   White NonHispanic 1981          37 \n",
       "2 2019-08-24T02:02:00.0 2019 8                              1994          25 \n",
       "3 2019-08-24T02:02:00.0 2019 8     Female Black NonHispanic 1984          34 \n",
       "4 2019-08-24T02:02:00.0 2019 8     Female Black NonHispanic 1984          34 \n",
       "5 2019-08-24T02:02:00.0 2019 8     Female Black Unknown     2001          18 \n",
       "6 2019-08-24T02:02:00.0 2019 8     Female Black Unknown     2001          18 \n",
       "  from_address         from_city  from_state   statute_type        \n",
       "1 No Permanent Address providence Rhode Island                     \n",
       "2 SUMMER AVE           Cranston   Rhode Island RI Statute Violation\n",
       "3 DOUGLAS AVE          Providence Rhode Island RI Statute Violation\n",
       "4 DOUGLAS AVE          Providence Rhode Island RI Statute Violation\n",
       "5 TRASH ST                                     RI Statute Violation\n",
       "6 TRASH ST                                     RI Statute Violation\n",
       "  statute_code statute_desc                                              counts\n",
       "1                                                                        NA    \n",
       "2 31-11-18     Driving after Denial, Suspension or Revocation of License  1    \n",
       "3 12-7-10      RESISTING LEGAL OR ILLEGAL ARREST                          1    \n",
       "4 11-45-1      DISORDERLY CONDUCT                                         1    \n",
       "5 12-7-10      RESISTING LEGAL OR ILLEGAL ARREST                          1    \n",
       "6 11-45-1      DISORDERLY CONDUCT                                         1    \n",
       "  case_number   arresting_officers       id                      weekday\n",
       "1 2019-00084142  YGonzalez, LTaveras     pvd2218242150382148273  Sat    \n",
       "2 2019-00084127  NManfredi               pvd15166785558364246202 Sat    \n",
       "3 2019-00084126  MPlace, JPerez, ASantos pvd3142917706201385905  Sat    \n",
       "4 2019-00084126  MPlace, JPerez, ASantos pvd3142917706201385905  Sat    \n",
       "5 2019-00084126  MPlace, JPerez, ASantos pvd460449304532374599   Sat    \n",
       "6 2019-00084126  MPlace, JPerez, ASantos pvd460449304532374599   Sat    "
      ]
     },
     "metadata": {},
     "output_type": "display_data"
    }
   ],
   "source": [
    "# use head() to examine updated dataframe\n",
    "\n",
    "head(arrests_df)"
   ]
  },
  {
   "cell_type": "markdown",
   "metadata": {
    "slideshow": {
     "slide_type": "subslide"
    }
   },
   "source": [
    "### 5.1.2 Counts by `weekday`\n",
    "\n",
    "We can now obtain the counts by day of the week using the `table()` function. We simply pass it the column of the dataframe for which we want to create a tabular summary."
   ]
  },
  {
   "cell_type": "code",
   "execution_count": 69,
   "metadata": {
    "slideshow": {
     "slide_type": "fragment"
    }
   },
   "outputs": [
    {
     "data": {
      "text/plain": [
       "\n",
       " Mon  Thu  Sat  Wed  Fri  Sun  Tue \n",
       "1756 1822 1839 1840 1866 1930 1959 "
      ]
     },
     "metadata": {},
     "output_type": "display_data"
    }
   ],
   "source": [
    "# use table() to get counts of arrests by `weekday`\n",
    "\n",
    "sort(table(arrests_df$weekday))"
   ]
  },
  {
   "cell_type": "code",
   "execution_count": null,
   "metadata": {},
   "outputs": [],
   "source": []
  }
 ],
 "metadata": {
  "@webio": {
   "lastCommId": null,
   "lastKernelId": null
  },
  "celltoolbar": "Slideshow",
  "kernelspec": {
   "display_name": "R",
   "language": "R",
   "name": "ir"
  },
  "language_info": {
   "codemirror_mode": "r",
   "file_extension": ".r",
   "mimetype": "text/x-r-source",
   "name": "R",
   "pygments_lexer": "r",
   "version": "4.3.1"
  }
 },
 "nbformat": 4,
 "nbformat_minor": 4
}
