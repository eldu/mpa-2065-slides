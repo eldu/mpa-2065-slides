{
 "cells": [
  {
   "cell_type": "markdown",
   "id": "e59f8e65-30d1-432c-85a3-307cbf910221",
   "metadata": {},
   "source": [
    "<center><h1>Interpretation and Reflection</h1></center>\n",
    "<center><h3>Ellen Duong</h3></center>"
   ]
  },
  {
   "cell_type": "markdown",
   "id": "9873cf22-4fe4-4bb9-b0d5-a60bde52b3f1",
   "metadata": {
    "tags": []
   },
   "source": [
    "## Impact of Data Science on Policy\n",
    "\n",
    "- Informed decision making using data-driven insights and predictive modeling\n",
    "- Optimize the allocation of resources by identifying areas of need or improving operational efficiency\n",
    "- Improved forcasting and planning with predictive modelling\n",
    "- Monitoring risks, early warning systems"
   ]
  },
  {
   "cell_type": "markdown",
   "id": "e5ffa5b7-e149-4091-9904-8c84e3f94361",
   "metadata": {},
   "source": [
    "### Case Study 1: New York City's Restaurant Grading System\n",
    "- **Issue**: Improving restaurant sanitation.\n",
    "- **Data Science Impact**: NYC's Department of Health and Mental Hygiene uses data to grade restaurants based on inspection results.\n",
    "- **Policy Change**: The letter grading system has encouraged restaurants to maintain higher standards of cleanliness and has been credited with reducing foodborne illnesses."
   ]
  },
  {
   "cell_type": "markdown",
   "id": "870dbbba-01e7-4d47-8a4c-2de0a96d7b5d",
   "metadata": {},
   "source": [
    "### Case Study 2: Flint Water Crisis (Michigan, USA)\n",
    "\n",
    "- **Issue**: Elevated lead levels in the city's water supply.\n",
    "- **Data Science Impact**: Dr. Mona Hanna-Attisha, a pediatrician, used data analysis to demonstrate a spike in blood lead levels in children after the city switched its water source.\n",
    "- **Policy Change**: The findings contributed to public awareness, prompting government intervention and policy changes to address the water crisis."
   ]
  },
  {
   "cell_type": "markdown",
   "id": "277e83d2-e1d2-4eda-8ebb-01e64480fdee",
   "metadata": {},
   "source": [
    "### Ethical Considerations\n",
    "Ethical considerations in data science are crucial to ensure responsible and fair use of data"
   ]
  },
  {
   "cell_type": "markdown",
   "id": "888d4fd4-4046-435c-b82a-387851118fef",
   "metadata": {
    "tags": []
   },
   "source": [
    "- Privacy:\n",
    "    - Informed Consent\n",
    "    - Anonymization\n",
    "- Bias and Fairness\n",
    "    - Algorithnmic Bias\n",
    "    - Across different demographic groups\n",
    "- Transparency\n",
    "    - Creating models that are interpretable and can be explained\n",
    "    - Transparency about data sources, methodologies, and potential limitations of analyses\n",
    "- Data Security\n",
    "- Consent and Data Collection\n",
    "- Data Ownership and Control\n",
    "- Legal and Regulatory Compliance"
   ]
  },
  {
   "cell_type": "markdown",
   "id": "ad619608-5d16-4743-b20f-3d5682e5a254",
   "metadata": {
    "tags": []
   },
   "source": [
    "### Transparency and Accountability\n",
    "By promoting openness, clear communication, and a commitment to ethical standards, policymakers can enhance the legitimacy and effectiveness of data-driven decision-making processes."
   ]
  },
  {
   "cell_type": "markdown",
   "id": "ece97964-fb35-4ee9-9ad7-7934b9455107",
   "metadata": {},
   "source": [
    "#### Transparency\n",
    "- Explanation of models for various audiences such as stakeholders, policymakers, and the public. Plain language reporting\n",
    "- Data sources - how it's collected, pre-processing steps\n",
    "- Communicating assumptions underlying models and their limitations\n",
    "- Publication of code and methodologies\n",
    "- Stakeholder engagement\n",
    "- User-friendly interfaces\n"
   ]
  },
  {
   "cell_type": "markdown",
   "id": "71ce93fd-374b-4c39-bc33-b19fd34d1052",
   "metadata": {
    "tags": []
   },
   "source": [
    "#### Accountability\n",
    "- Clear roles and responsibilities\n",
    "- Ethical guidelines and standards\n",
    "- Impact accessment: predicting and evaluating impact\n",
    "- Continuous monitoring and evaluation\n",
    "- Feedback mechanisms\n",
    "- Documentation of decision making\n",
    "- Legal and regulatory compliance"
   ]
  },
  {
   "cell_type": "markdown",
   "id": "8af86b30-8134-43d1-9f85-17785aab25bb",
   "metadata": {},
   "source": [
    "### Data Risk Classifications\n",
    "\n",
    "Brown has classified its information assets into one of four risk-based catergories for the purpose of determining who is allowed access to the information and waht security precautions must be taken to protect it against unauthoized access.\n",
    "\n",
    "[Link Data Risk Classifications](]https://it.brown.edu/policies/data-risk-classifications)"
   ]
  },
  {
   "cell_type": "code",
   "execution_count": null,
   "id": "53b0520a-6667-4381-8651-ce3d9549e03c",
   "metadata": {},
   "outputs": [],
   "source": []
  }
 ],
 "metadata": {
  "kernelspec": {
   "display_name": "R",
   "language": "R",
   "name": "ir"
  },
  "language_info": {
   "codemirror_mode": "r",
   "file_extension": ".r",
   "mimetype": "text/x-r-source",
   "name": "R",
   "pygments_lexer": "r",
   "version": "4.3.1"
  }
 },
 "nbformat": 4,
 "nbformat_minor": 5
}
