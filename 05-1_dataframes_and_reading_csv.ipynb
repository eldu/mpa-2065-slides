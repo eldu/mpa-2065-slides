{
 "cells": [
  {
   "cell_type": "markdown",
   "metadata": {
    "slideshow": {
     "slide_type": "slide"
    }
   },
   "source": [
    "<center><h1>The DataFrame Object in R</h1></center>\n",
    "<center><h3>Ellen Duong</h3></center>\n",
    "<center><h3>August Guang</h3></center>\n",
    "<center><h3>Paul Stey</h3></center>"
   ]
  },
  {
   "cell_type": "markdown",
   "metadata": {
    "slideshow": {
     "slide_type": "slide"
    }
   },
   "source": [
    "# 1. What is a `data.frame`?\n",
    "\n",
    "  - Tabular data structure (i.e., like Excel spreadsheet)\n",
    "  - Canonical data structure for data analysis\n",
    "  - Capable of storing heterogeneous data"
   ]
  },
  {
   "cell_type": "markdown",
   "metadata": {
    "slideshow": {
     "slide_type": "subslide"
    }
   },
   "source": [
    "## 1.1 What does it look like?"
   ]
  },
  {
   "cell_type": "code",
   "execution_count": 1,
   "metadata": {
    "slideshow": {
     "slide_type": "fragment"
    },
    "vscode": {
     "languageId": "r"
    }
   },
   "outputs": [
    {
     "data": {
      "text/html": [
       "<table class=\"dataframe\">\n",
       "<caption>A data.frame: 4 × 4</caption>\n",
       "<thead>\n",
       "\t<tr><th scope=col>idx</th><th scope=col>firstname</th><th scope=col>score</th><th scope=col>vocals</th></tr>\n",
       "\t<tr><th scope=col>&lt;int&gt;</th><th scope=col>&lt;chr&gt;</th><th scope=col>&lt;dbl&gt;</th><th scope=col>&lt;lgl&gt;</th></tr>\n",
       "</thead>\n",
       "<tbody>\n",
       "\t<tr><td>1</td><td>john  </td><td>-1.51900212</td><td> TRUE</td></tr>\n",
       "\t<tr><td>2</td><td>george</td><td> 0.59062028</td><td> TRUE</td></tr>\n",
       "\t<tr><td>3</td><td>paul  </td><td>-0.03782878</td><td> TRUE</td></tr>\n",
       "\t<tr><td>4</td><td>ringo </td><td> 0.22167893</td><td>FALSE</td></tr>\n",
       "</tbody>\n",
       "</table>\n"
      ],
      "text/latex": [
       "A data.frame: 4 × 4\n",
       "\\begin{tabular}{llll}\n",
       " idx & firstname & score & vocals\\\\\n",
       " <int> & <chr> & <dbl> & <lgl>\\\\\n",
       "\\hline\n",
       "\t 1 & john   & -1.51900212 &  TRUE\\\\\n",
       "\t 2 & george &  0.59062028 &  TRUE\\\\\n",
       "\t 3 & paul   & -0.03782878 &  TRUE\\\\\n",
       "\t 4 & ringo  &  0.22167893 & FALSE\\\\\n",
       "\\end{tabular}\n"
      ],
      "text/markdown": [
       "\n",
       "A data.frame: 4 × 4\n",
       "\n",
       "| idx &lt;int&gt; | firstname &lt;chr&gt; | score &lt;dbl&gt; | vocals &lt;lgl&gt; |\n",
       "|---|---|---|---|\n",
       "| 1 | john   | -1.51900212 |  TRUE |\n",
       "| 2 | george |  0.59062028 |  TRUE |\n",
       "| 3 | paul   | -0.03782878 |  TRUE |\n",
       "| 4 | ringo  |  0.22167893 | FALSE |\n",
       "\n"
      ],
      "text/plain": [
       "  idx firstname score       vocals\n",
       "1 1   john      -1.51900212  TRUE \n",
       "2 2   george     0.59062028  TRUE \n",
       "3 3   paul      -0.03782878  TRUE \n",
       "4 4   ringo      0.22167893 FALSE "
      ]
     },
     "metadata": {},
     "output_type": "display_data"
    }
   ],
   "source": [
    "idx <- 1:4\n",
    "score <- rnorm(4)\n",
    "vocals <- c(TRUE, TRUE, TRUE, FALSE)\n",
    "firstname <- c(\"john\", \"george\", \"paul\", \"ringo\")\n",
    "\n",
    "dat <- data.frame(idx, firstname, score, vocals)\n",
    "\n",
    "dat "
   ]
  },
  {
   "cell_type": "markdown",
   "metadata": {
    "slideshow": {
     "slide_type": "subslide"
    }
   },
   "source": [
    "## 1.2 Indexing and Slicing a `data.frame`\n",
    "\n",
    "  - Similar to `vector`, `matrix`, and `array` objects"
   ]
  },
  {
   "cell_type": "markdown",
   "metadata": {},
   "source": []
  },
  {
   "cell_type": "code",
   "execution_count": 2,
   "metadata": {
    "slideshow": {
     "slide_type": "fragment"
    },
    "vscode": {
     "languageId": "r"
    }
   },
   "outputs": [
    {
     "data": {
      "text/html": [
       "'john'"
      ],
      "text/latex": [
       "'john'"
      ],
      "text/markdown": [
       "'john'"
      ],
      "text/plain": [
       "[1] \"john\""
      ]
     },
     "metadata": {},
     "output_type": "display_data"
    }
   ],
   "source": [
    "dat[1, 2]           # get element in first row, second column"
   ]
  },
  {
   "cell_type": "code",
   "execution_count": 3,
   "metadata": {
    "slideshow": {
     "slide_type": "fragment"
    },
    "vscode": {
     "languageId": "r"
    }
   },
   "outputs": [
    {
     "data": {
      "text/html": [
       "<style>\n",
       ".list-inline {list-style: none; margin:0; padding: 0}\n",
       ".list-inline>li {display: inline-block}\n",
       ".list-inline>li:not(:last-child)::after {content: \"\\00b7\"; padding: 0 .5ex}\n",
       "</style>\n",
       "<ol class=list-inline><li>'john'</li><li>'george'</li><li>'paul'</li><li>'ringo'</li></ol>\n"
      ],
      "text/latex": [
       "\\begin{enumerate*}\n",
       "\\item 'john'\n",
       "\\item 'george'\n",
       "\\item 'paul'\n",
       "\\item 'ringo'\n",
       "\\end{enumerate*}\n"
      ],
      "text/markdown": [
       "1. 'john'\n",
       "2. 'george'\n",
       "3. 'paul'\n",
       "4. 'ringo'\n",
       "\n",
       "\n"
      ],
      "text/plain": [
       "[1] \"john\"   \"george\" \"paul\"   \"ringo\" "
      ]
     },
     "metadata": {},
     "output_type": "display_data"
    }
   ],
   "source": [
    "dat[, 2]            # get all of second column"
   ]
  },
  {
   "cell_type": "code",
   "execution_count": 4,
   "metadata": {
    "slideshow": {
     "slide_type": "fragment"
    },
    "vscode": {
     "languageId": "r"
    }
   },
   "outputs": [
    {
     "data": {
      "text/html": [
       "<table class=\"dataframe\">\n",
       "<caption>A data.frame: 1 × 4</caption>\n",
       "<thead>\n",
       "\t<tr><th></th><th scope=col>idx</th><th scope=col>firstname</th><th scope=col>score</th><th scope=col>vocals</th></tr>\n",
       "\t<tr><th></th><th scope=col>&lt;int&gt;</th><th scope=col>&lt;chr&gt;</th><th scope=col>&lt;dbl&gt;</th><th scope=col>&lt;lgl&gt;</th></tr>\n",
       "</thead>\n",
       "<tbody>\n",
       "\t<tr><th scope=row>3</th><td>3</td><td>paul</td><td>-0.03782878</td><td>TRUE</td></tr>\n",
       "</tbody>\n",
       "</table>\n"
      ],
      "text/latex": [
       "A data.frame: 1 × 4\n",
       "\\begin{tabular}{r|llll}\n",
       "  & idx & firstname & score & vocals\\\\\n",
       "  & <int> & <chr> & <dbl> & <lgl>\\\\\n",
       "\\hline\n",
       "\t3 & 3 & paul & -0.03782878 & TRUE\\\\\n",
       "\\end{tabular}\n"
      ],
      "text/markdown": [
       "\n",
       "A data.frame: 1 × 4\n",
       "\n",
       "| <!--/--> | idx &lt;int&gt; | firstname &lt;chr&gt; | score &lt;dbl&gt; | vocals &lt;lgl&gt; |\n",
       "|---|---|---|---|---|\n",
       "| 3 | 3 | paul | -0.03782878 | TRUE |\n",
       "\n"
      ],
      "text/plain": [
       "  idx firstname score       vocals\n",
       "3 3   paul      -0.03782878 TRUE  "
      ]
     },
     "metadata": {},
     "output_type": "display_data"
    }
   ],
   "source": [
    "dat[3, ]            # get third row"
   ]
  },
  {
   "cell_type": "markdown",
   "metadata": {
    "slideshow": {
     "slide_type": "subslide"
    }
   },
   "source": [
    "### 1.2.1 Indexing using Column Names"
   ]
  },
  {
   "cell_type": "code",
   "execution_count": 5,
   "metadata": {
    "slideshow": {
     "slide_type": "fragment"
    },
    "vscode": {
     "languageId": "r"
    }
   },
   "outputs": [
    {
     "data": {
      "text/html": [
       "-0.0378287761785611"
      ],
      "text/latex": [
       "-0.0378287761785611"
      ],
      "text/markdown": [
       "-0.0378287761785611"
      ],
      "text/plain": [
       "[1] -0.03782878"
      ]
     },
     "metadata": {},
     "output_type": "display_data"
    }
   ],
   "source": [
    "dat[3, \"score\"]          # element from row 3 and \"score\" column"
   ]
  },
  {
   "cell_type": "code",
   "execution_count": 6,
   "metadata": {
    "slideshow": {
     "slide_type": "fragment"
    },
    "vscode": {
     "languageId": "r"
    }
   },
   "outputs": [
    {
     "data": {
      "text/html": [
       "<style>\n",
       ".list-inline {list-style: none; margin:0; padding: 0}\n",
       ".list-inline>li {display: inline-block}\n",
       ".list-inline>li:not(:last-child)::after {content: \"\\00b7\"; padding: 0 .5ex}\n",
       "</style>\n",
       "<ol class=list-inline><li>'george'</li><li>'paul'</li><li>'ringo'</li></ol>\n"
      ],
      "text/latex": [
       "\\begin{enumerate*}\n",
       "\\item 'george'\n",
       "\\item 'paul'\n",
       "\\item 'ringo'\n",
       "\\end{enumerate*}\n"
      ],
      "text/markdown": [
       "1. 'george'\n",
       "2. 'paul'\n",
       "3. 'ringo'\n",
       "\n",
       "\n"
      ],
      "text/plain": [
       "[1] \"george\" \"paul\"   \"ringo\" "
      ]
     },
     "metadata": {},
     "output_type": "display_data"
    }
   ],
   "source": [
    "dat[2:4, \"firstname\"]    # get elements 2, 3, and 4 from \"firstname\" column"
   ]
  },
  {
   "cell_type": "markdown",
   "metadata": {
    "slideshow": {
     "slide_type": "subslide"
    }
   },
   "source": [
    "## 1.3 The `$` Operator and `data.frame` Objects "
   ]
  },
  {
   "cell_type": "code",
   "execution_count": 7,
   "metadata": {
    "slideshow": {
     "slide_type": "fragment"
    },
    "vscode": {
     "languageId": "r"
    }
   },
   "outputs": [
    {
     "data": {
      "text/html": [
       "<style>\n",
       ".list-inline {list-style: none; margin:0; padding: 0}\n",
       ".list-inline>li {display: inline-block}\n",
       ".list-inline>li:not(:last-child)::after {content: \"\\00b7\"; padding: 0 .5ex}\n",
       "</style>\n",
       "<ol class=list-inline><li>'john'</li><li>'george'</li><li>'paul'</li><li>'ringo'</li></ol>\n"
      ],
      "text/latex": [
       "\\begin{enumerate*}\n",
       "\\item 'john'\n",
       "\\item 'george'\n",
       "\\item 'paul'\n",
       "\\item 'ringo'\n",
       "\\end{enumerate*}\n"
      ],
      "text/markdown": [
       "1. 'john'\n",
       "2. 'george'\n",
       "3. 'paul'\n",
       "4. 'ringo'\n",
       "\n",
       "\n"
      ],
      "text/plain": [
       "[1] \"john\"   \"george\" \"paul\"   \"ringo\" "
      ]
     },
     "metadata": {},
     "output_type": "display_data"
    }
   ],
   "source": [
    "dat$firstname            # get the \"firstname\" column"
   ]
  },
  {
   "cell_type": "markdown",
   "metadata": {
    "slideshow": {
     "slide_type": "subslide"
    }
   },
   "source": [
    "# 2. Filter `data.frame` using Logical Indexing"
   ]
  },
  {
   "cell_type": "code",
   "execution_count": 8,
   "metadata": {
    "slideshow": {
     "slide_type": "fragment"
    },
    "vscode": {
     "languageId": "r"
    }
   },
   "outputs": [
    {
     "data": {
      "text/html": [
       "<table class=\"dataframe\">\n",
       "<caption>A data.frame: 4 × 4</caption>\n",
       "<thead>\n",
       "\t<tr><th scope=col>idx</th><th scope=col>firstname</th><th scope=col>score</th><th scope=col>vocals</th></tr>\n",
       "\t<tr><th scope=col>&lt;int&gt;</th><th scope=col>&lt;chr&gt;</th><th scope=col>&lt;dbl&gt;</th><th scope=col>&lt;lgl&gt;</th></tr>\n",
       "</thead>\n",
       "<tbody>\n",
       "\t<tr><td>1</td><td>john  </td><td>-1.51900212</td><td> TRUE</td></tr>\n",
       "\t<tr><td>2</td><td>george</td><td> 0.59062028</td><td> TRUE</td></tr>\n",
       "\t<tr><td>3</td><td>paul  </td><td>-0.03782878</td><td> TRUE</td></tr>\n",
       "\t<tr><td>4</td><td>ringo </td><td> 0.22167893</td><td>FALSE</td></tr>\n",
       "</tbody>\n",
       "</table>\n"
      ],
      "text/latex": [
       "A data.frame: 4 × 4\n",
       "\\begin{tabular}{llll}\n",
       " idx & firstname & score & vocals\\\\\n",
       " <int> & <chr> & <dbl> & <lgl>\\\\\n",
       "\\hline\n",
       "\t 1 & john   & -1.51900212 &  TRUE\\\\\n",
       "\t 2 & george &  0.59062028 &  TRUE\\\\\n",
       "\t 3 & paul   & -0.03782878 &  TRUE\\\\\n",
       "\t 4 & ringo  &  0.22167893 & FALSE\\\\\n",
       "\\end{tabular}\n"
      ],
      "text/markdown": [
       "\n",
       "A data.frame: 4 × 4\n",
       "\n",
       "| idx &lt;int&gt; | firstname &lt;chr&gt; | score &lt;dbl&gt; | vocals &lt;lgl&gt; |\n",
       "|---|---|---|---|\n",
       "| 1 | john   | -1.51900212 |  TRUE |\n",
       "| 2 | george |  0.59062028 |  TRUE |\n",
       "| 3 | paul   | -0.03782878 |  TRUE |\n",
       "| 4 | ringo  |  0.22167893 | FALSE |\n",
       "\n"
      ],
      "text/plain": [
       "  idx firstname score       vocals\n",
       "1 1   john      -1.51900212  TRUE \n",
       "2 2   george     0.59062028  TRUE \n",
       "3 3   paul      -0.03782878  TRUE \n",
       "4 4   ringo      0.22167893 FALSE "
      ]
     },
     "metadata": {},
     "output_type": "display_data"
    }
   ],
   "source": [
    "dat"
   ]
  },
  {
   "cell_type": "code",
   "execution_count": 12,
   "metadata": {
    "slideshow": {
     "slide_type": "fragment"
    },
    "vscode": {
     "languageId": "r"
    }
   },
   "outputs": [
    {
     "data": {
      "text/html": [
       "<table class=\"dataframe\">\n",
       "<caption>A data.frame: 3 × 4</caption>\n",
       "<thead>\n",
       "\t<tr><th></th><th scope=col>idx</th><th scope=col>firstname</th><th scope=col>score</th><th scope=col>vocals</th></tr>\n",
       "\t<tr><th></th><th scope=col>&lt;int&gt;</th><th scope=col>&lt;chr&gt;</th><th scope=col>&lt;dbl&gt;</th><th scope=col>&lt;lgl&gt;</th></tr>\n",
       "</thead>\n",
       "<tbody>\n",
       "\t<tr><th scope=row>1</th><td>1</td><td>john  </td><td>-1.51900212</td><td>TRUE</td></tr>\n",
       "\t<tr><th scope=row>2</th><td>2</td><td>george</td><td> 0.59062028</td><td>TRUE</td></tr>\n",
       "\t<tr><th scope=row>3</th><td>3</td><td>paul  </td><td>-0.03782878</td><td>TRUE</td></tr>\n",
       "</tbody>\n",
       "</table>\n"
      ],
      "text/latex": [
       "A data.frame: 3 × 4\n",
       "\\begin{tabular}{r|llll}\n",
       "  & idx & firstname & score & vocals\\\\\n",
       "  & <int> & <chr> & <dbl> & <lgl>\\\\\n",
       "\\hline\n",
       "\t1 & 1 & john   & -1.51900212 & TRUE\\\\\n",
       "\t2 & 2 & george &  0.59062028 & TRUE\\\\\n",
       "\t3 & 3 & paul   & -0.03782878 & TRUE\\\\\n",
       "\\end{tabular}\n"
      ],
      "text/markdown": [
       "\n",
       "A data.frame: 3 × 4\n",
       "\n",
       "| <!--/--> | idx &lt;int&gt; | firstname &lt;chr&gt; | score &lt;dbl&gt; | vocals &lt;lgl&gt; |\n",
       "|---|---|---|---|---|\n",
       "| 1 | 1 | john   | -1.51900212 | TRUE |\n",
       "| 2 | 2 | george |  0.59062028 | TRUE |\n",
       "| 3 | 3 | paul   | -0.03782878 | TRUE |\n",
       "\n"
      ],
      "text/plain": [
       "  idx firstname score       vocals\n",
       "1 1   john      -1.51900212 TRUE  \n",
       "2 2   george     0.59062028 TRUE  \n",
       "3 3   paul      -0.03782878 TRUE  "
      ]
     },
     "metadata": {},
     "output_type": "display_data"
    }
   ],
   "source": [
    "idx_keep <- c(TRUE, TRUE, TRUE, FALSE)\n",
    "\n",
    "dat[idx_keep, ]"
   ]
  },
  {
   "cell_type": "markdown",
   "metadata": {
    "slideshow": {
     "slide_type": "subslide"
    }
   },
   "source": [
    "## 2.1 Create New `data.frame` from Another"
   ]
  },
  {
   "cell_type": "code",
   "execution_count": 15,
   "metadata": {
    "slideshow": {
     "slide_type": "fragment"
    },
    "vscode": {
     "languageId": "r"
    }
   },
   "outputs": [
    {
     "data": {
      "text/html": [
       "<table class=\"dataframe\">\n",
       "<caption>A data.frame: 2 × 4</caption>\n",
       "<thead>\n",
       "\t<tr><th></th><th scope=col>idx</th><th scope=col>firstname</th><th scope=col>score</th><th scope=col>vocals</th></tr>\n",
       "\t<tr><th></th><th scope=col>&lt;int&gt;</th><th scope=col>&lt;chr&gt;</th><th scope=col>&lt;dbl&gt;</th><th scope=col>&lt;lgl&gt;</th></tr>\n",
       "</thead>\n",
       "<tbody>\n",
       "\t<tr><th scope=row>2</th><td>2</td><td>george</td><td> 0.59062028</td><td>TRUE</td></tr>\n",
       "\t<tr><th scope=row>3</th><td>3</td><td>paul  </td><td>-0.03782878</td><td>TRUE</td></tr>\n",
       "</tbody>\n",
       "</table>\n"
      ],
      "text/latex": [
       "A data.frame: 2 × 4\n",
       "\\begin{tabular}{r|llll}\n",
       "  & idx & firstname & score & vocals\\\\\n",
       "  & <int> & <chr> & <dbl> & <lgl>\\\\\n",
       "\\hline\n",
       "\t2 & 2 & george &  0.59062028 & TRUE\\\\\n",
       "\t3 & 3 & paul   & -0.03782878 & TRUE\\\\\n",
       "\\end{tabular}\n"
      ],
      "text/markdown": [
       "\n",
       "A data.frame: 2 × 4\n",
       "\n",
       "| <!--/--> | idx &lt;int&gt; | firstname &lt;chr&gt; | score &lt;dbl&gt; | vocals &lt;lgl&gt; |\n",
       "|---|---|---|---|---|\n",
       "| 2 | 2 | george |  0.59062028 | TRUE |\n",
       "| 3 | 3 | paul   | -0.03782878 | TRUE |\n",
       "\n"
      ],
      "text/plain": [
       "  idx firstname score       vocals\n",
       "2 2   george     0.59062028 TRUE  \n",
       "3 3   paul      -0.03782878 TRUE  "
      ]
     },
     "metadata": {},
     "output_type": "display_data"
    }
   ],
   "source": [
    "dat2 <- dat[idx_keep, ]       # create new dataframe, from subset of original\n",
    "\n",
    "tail(dat2, n=2)"
   ]
  },
  {
   "cell_type": "markdown",
   "metadata": {
    "slideshow": {
     "slide_type": "subslide"
    }
   },
   "source": [
    "### 2.1.1 Take Subset of `data.frame` Columns"
   ]
  },
  {
   "cell_type": "code",
   "execution_count": 25,
   "metadata": {
    "slideshow": {
     "slide_type": "fragment"
    },
    "vscode": {
     "languageId": "r"
    }
   },
   "outputs": [
    {
     "data": {
      "text/html": [
       "<table class=\"dataframe\">\n",
       "<caption>A data.frame: 3 × 2</caption>\n",
       "<thead>\n",
       "\t<tr><th></th><th scope=col>firstname</th><th scope=col>score</th></tr>\n",
       "\t<tr><th></th><th scope=col>&lt;chr&gt;</th><th scope=col>&lt;dbl&gt;</th></tr>\n",
       "</thead>\n",
       "<tbody>\n",
       "\t<tr><th scope=row>1</th><td>john  </td><td>-1.51900212</td></tr>\n",
       "\t<tr><th scope=row>2</th><td>george</td><td> 0.59062028</td></tr>\n",
       "\t<tr><th scope=row>3</th><td>paul  </td><td>-0.03782878</td></tr>\n",
       "</tbody>\n",
       "</table>\n"
      ],
      "text/latex": [
       "A data.frame: 3 × 2\n",
       "\\begin{tabular}{r|ll}\n",
       "  & firstname & score\\\\\n",
       "  & <chr> & <dbl>\\\\\n",
       "\\hline\n",
       "\t1 & john   & -1.51900212\\\\\n",
       "\t2 & george &  0.59062028\\\\\n",
       "\t3 & paul   & -0.03782878\\\\\n",
       "\\end{tabular}\n"
      ],
      "text/markdown": [
       "\n",
       "A data.frame: 3 × 2\n",
       "\n",
       "| <!--/--> | firstname &lt;chr&gt; | score &lt;dbl&gt; |\n",
       "|---|---|---|\n",
       "| 1 | john   | -1.51900212 |\n",
       "| 2 | george |  0.59062028 |\n",
       "| 3 | paul   | -0.03782878 |\n",
       "\n"
      ],
      "text/plain": [
       "  firstname score      \n",
       "1 john      -1.51900212\n",
       "2 george     0.59062028\n",
       "3 paul      -0.03782878"
      ]
     },
     "metadata": {},
     "output_type": "display_data"
    }
   ],
   "source": [
    "cols <- c(\"firstname\", \"score\")    # columns we care about\n",
    "\n",
    "dat_namescore <- dat2[, cols]      # create new dataframe\n",
    "\n",
    "dat_namescore"
   ]
  },
  {
   "cell_type": "markdown",
   "metadata": {
    "slideshow": {
     "slide_type": "subslide"
    }
   },
   "source": [
    "# 3. Adding Columns to a `data.frame`"
   ]
  },
  {
   "cell_type": "code",
   "execution_count": 26,
   "metadata": {
    "slideshow": {
     "slide_type": "fragment"
    },
    "vscode": {
     "languageId": "r"
    }
   },
   "outputs": [
    {
     "data": {
      "text/html": [
       "<table class=\"dataframe\">\n",
       "<caption>A data.frame: 4 × 4</caption>\n",
       "<thead>\n",
       "\t<tr><th scope=col>idx</th><th scope=col>firstname</th><th scope=col>score</th><th scope=col>vocals</th></tr>\n",
       "\t<tr><th scope=col>&lt;int&gt;</th><th scope=col>&lt;chr&gt;</th><th scope=col>&lt;dbl&gt;</th><th scope=col>&lt;lgl&gt;</th></tr>\n",
       "</thead>\n",
       "<tbody>\n",
       "\t<tr><td>1</td><td>john  </td><td>-1.51900212</td><td> TRUE</td></tr>\n",
       "\t<tr><td>2</td><td>george</td><td> 0.59062028</td><td> TRUE</td></tr>\n",
       "\t<tr><td>3</td><td>paul  </td><td>-0.03782878</td><td> TRUE</td></tr>\n",
       "\t<tr><td>4</td><td>ringo </td><td> 0.22167893</td><td>FALSE</td></tr>\n",
       "</tbody>\n",
       "</table>\n"
      ],
      "text/latex": [
       "A data.frame: 4 × 4\n",
       "\\begin{tabular}{llll}\n",
       " idx & firstname & score & vocals\\\\\n",
       " <int> & <chr> & <dbl> & <lgl>\\\\\n",
       "\\hline\n",
       "\t 1 & john   & -1.51900212 &  TRUE\\\\\n",
       "\t 2 & george &  0.59062028 &  TRUE\\\\\n",
       "\t 3 & paul   & -0.03782878 &  TRUE\\\\\n",
       "\t 4 & ringo  &  0.22167893 & FALSE\\\\\n",
       "\\end{tabular}\n"
      ],
      "text/markdown": [
       "\n",
       "A data.frame: 4 × 4\n",
       "\n",
       "| idx &lt;int&gt; | firstname &lt;chr&gt; | score &lt;dbl&gt; | vocals &lt;lgl&gt; |\n",
       "|---|---|---|---|\n",
       "| 1 | john   | -1.51900212 |  TRUE |\n",
       "| 2 | george |  0.59062028 |  TRUE |\n",
       "| 3 | paul   | -0.03782878 |  TRUE |\n",
       "| 4 | ringo  |  0.22167893 | FALSE |\n",
       "\n"
      ],
      "text/plain": [
       "  idx firstname score       vocals\n",
       "1 1   john      -1.51900212  TRUE \n",
       "2 2   george     0.59062028  TRUE \n",
       "3 3   paul      -0.03782878  TRUE \n",
       "4 4   ringo      0.22167893 FALSE "
      ]
     },
     "metadata": {},
     "output_type": "display_data"
    }
   ],
   "source": [
    "dat"
   ]
  },
  {
   "cell_type": "code",
   "execution_count": 27,
   "metadata": {
    "slideshow": {
     "slide_type": "fragment"
    },
    "vscode": {
     "languageId": "r"
    }
   },
   "outputs": [
    {
     "data": {
      "text/html": [
       "<table class=\"dataframe\">\n",
       "<caption>A data.frame: 4 × 5</caption>\n",
       "<thead>\n",
       "\t<tr><th scope=col>idx</th><th scope=col>firstname</th><th scope=col>score</th><th scope=col>vocals</th><th scope=col>food</th></tr>\n",
       "\t<tr><th scope=col>&lt;int&gt;</th><th scope=col>&lt;chr&gt;</th><th scope=col>&lt;dbl&gt;</th><th scope=col>&lt;lgl&gt;</th><th scope=col>&lt;chr&gt;</th></tr>\n",
       "</thead>\n",
       "<tbody>\n",
       "\t<tr><td>1</td><td>john  </td><td>-1.51900212</td><td> TRUE</td><td>steak  </td></tr>\n",
       "\t<tr><td>2</td><td>george</td><td> 0.59062028</td><td> TRUE</td><td>chicken</td></tr>\n",
       "\t<tr><td>3</td><td>paul  </td><td>-0.03782878</td><td> TRUE</td><td>potato </td></tr>\n",
       "\t<tr><td>4</td><td>ringo </td><td> 0.22167893</td><td>FALSE</td><td>rice   </td></tr>\n",
       "</tbody>\n",
       "</table>\n"
      ],
      "text/latex": [
       "A data.frame: 4 × 5\n",
       "\\begin{tabular}{lllll}\n",
       " idx & firstname & score & vocals & food\\\\\n",
       " <int> & <chr> & <dbl> & <lgl> & <chr>\\\\\n",
       "\\hline\n",
       "\t 1 & john   & -1.51900212 &  TRUE & steak  \\\\\n",
       "\t 2 & george &  0.59062028 &  TRUE & chicken\\\\\n",
       "\t 3 & paul   & -0.03782878 &  TRUE & potato \\\\\n",
       "\t 4 & ringo  &  0.22167893 & FALSE & rice   \\\\\n",
       "\\end{tabular}\n"
      ],
      "text/markdown": [
       "\n",
       "A data.frame: 4 × 5\n",
       "\n",
       "| idx &lt;int&gt; | firstname &lt;chr&gt; | score &lt;dbl&gt; | vocals &lt;lgl&gt; | food &lt;chr&gt; |\n",
       "|---|---|---|---|---|\n",
       "| 1 | john   | -1.51900212 |  TRUE | steak   |\n",
       "| 2 | george |  0.59062028 |  TRUE | chicken |\n",
       "| 3 | paul   | -0.03782878 |  TRUE | potato  |\n",
       "| 4 | ringo  |  0.22167893 | FALSE | rice    |\n",
       "\n"
      ],
      "text/plain": [
       "  idx firstname score       vocals food   \n",
       "1 1   john      -1.51900212  TRUE  steak  \n",
       "2 2   george     0.59062028  TRUE  chicken\n",
       "3 3   paul      -0.03782878  TRUE  potato \n",
       "4 4   ringo      0.22167893 FALSE  rice   "
      ]
     },
     "metadata": {},
     "output_type": "display_data"
    }
   ],
   "source": [
    "dat$food <- c(\"steak\", \"chicken\", \"potato\", \"rice\")\n",
    "\n",
    "dat"
   ]
  },
  {
   "cell_type": "markdown",
   "metadata": {
    "slideshow": {
     "slide_type": "subslide"
    }
   },
   "source": [
    "## 3.1. Adding Columns (cont.)"
   ]
  },
  {
   "cell_type": "code",
   "execution_count": 28,
   "metadata": {
    "slideshow": {
     "slide_type": "fragment"
    },
    "vscode": {
     "languageId": "r"
    }
   },
   "outputs": [
    {
     "data": {
      "text/html": [
       "<table class=\"dataframe\">\n",
       "<caption>A data.frame: 4 × 6</caption>\n",
       "<thead>\n",
       "\t<tr><th scope=col>idx</th><th scope=col>firstname</th><th scope=col>score</th><th scope=col>vocals</th><th scope=col>food</th><th scope=col>drink</th></tr>\n",
       "\t<tr><th scope=col>&lt;int&gt;</th><th scope=col>&lt;chr&gt;</th><th scope=col>&lt;dbl&gt;</th><th scope=col>&lt;lgl&gt;</th><th scope=col>&lt;chr&gt;</th><th scope=col>&lt;chr&gt;</th></tr>\n",
       "</thead>\n",
       "<tbody>\n",
       "\t<tr><td>1</td><td>john  </td><td>-1.51900212</td><td> TRUE</td><td>steak  </td><td>water </td></tr>\n",
       "\t<tr><td>2</td><td>george</td><td> 0.59062028</td><td> TRUE</td><td>chicken</td><td>milk  </td></tr>\n",
       "\t<tr><td>3</td><td>paul  </td><td>-0.03782878</td><td> TRUE</td><td>potato </td><td>beer  </td></tr>\n",
       "\t<tr><td>4</td><td>ringo </td><td> 0.22167893</td><td>FALSE</td><td>rice   </td><td>scotch</td></tr>\n",
       "</tbody>\n",
       "</table>\n"
      ],
      "text/latex": [
       "A data.frame: 4 × 6\n",
       "\\begin{tabular}{llllll}\n",
       " idx & firstname & score & vocals & food & drink\\\\\n",
       " <int> & <chr> & <dbl> & <lgl> & <chr> & <chr>\\\\\n",
       "\\hline\n",
       "\t 1 & john   & -1.51900212 &  TRUE & steak   & water \\\\\n",
       "\t 2 & george &  0.59062028 &  TRUE & chicken & milk  \\\\\n",
       "\t 3 & paul   & -0.03782878 &  TRUE & potato  & beer  \\\\\n",
       "\t 4 & ringo  &  0.22167893 & FALSE & rice    & scotch\\\\\n",
       "\\end{tabular}\n"
      ],
      "text/markdown": [
       "\n",
       "A data.frame: 4 × 6\n",
       "\n",
       "| idx &lt;int&gt; | firstname &lt;chr&gt; | score &lt;dbl&gt; | vocals &lt;lgl&gt; | food &lt;chr&gt; | drink &lt;chr&gt; |\n",
       "|---|---|---|---|---|---|\n",
       "| 1 | john   | -1.51900212 |  TRUE | steak   | water  |\n",
       "| 2 | george |  0.59062028 |  TRUE | chicken | milk   |\n",
       "| 3 | paul   | -0.03782878 |  TRUE | potato  | beer   |\n",
       "| 4 | ringo  |  0.22167893 | FALSE | rice    | scotch |\n",
       "\n"
      ],
      "text/plain": [
       "  idx firstname score       vocals food    drink \n",
       "1 1   john      -1.51900212  TRUE  steak   water \n",
       "2 2   george     0.59062028  TRUE  chicken milk  \n",
       "3 3   paul      -0.03782878  TRUE  potato  beer  \n",
       "4 4   ringo      0.22167893 FALSE  rice    scotch"
      ]
     },
     "metadata": {},
     "output_type": "display_data"
    }
   ],
   "source": [
    "dat[, \"drink\"] <- c(\"water\", \"milk\", \"beer\", \"scotch\")\n",
    "\n",
    "dat"
   ]
  },
  {
   "cell_type": "markdown",
   "metadata": {
    "slideshow": {
     "slide_type": "slide"
    }
   },
   "source": [
    "\n",
    "<center><h1>Challenge Questions</h1></center>\n",
    "\n",
    "### Question 1.\n",
    "Create a `data.frame` object called `state_df` with two columns, one called `state` and one called `population`. Each column should have five elements. For the `state` column, select the abbreviations for five US states (e.g., \"OH\", \"RI\", \"NY\", \"MA\", \"CT\"). For the `population` column, use the `sample()` function to create \"populations\" at random from the range `1` to `1000000`.\n",
    "\n",
    "### Question 2.\n",
    "Add a third column to the `state_df` dataframe called `size`. In particular, use boolean indexing to assign elements of the third column to be `\"large\"` if that row's `population` value is larger than or equal to `500000`, and be `\"small\"`  if the row's `population` is less than `500000`."
   ]
  },
  {
   "cell_type": "code",
   "execution_count": 30,
   "metadata": {
    "vscode": {
     "languageId": "r"
    }
   },
   "outputs": [
    {
     "data": {
      "text/html": [
       "<table class=\"dataframe\">\n",
       "<caption>A data.frame: 5 × 2</caption>\n",
       "<thead>\n",
       "\t<tr><th scope=col>state</th><th scope=col>population</th></tr>\n",
       "\t<tr><th scope=col>&lt;chr&gt;</th><th scope=col>&lt;int&gt;</th></tr>\n",
       "</thead>\n",
       "<tbody>\n",
       "\t<tr><td>OH</td><td>548676</td></tr>\n",
       "\t<tr><td>RI</td><td>452737</td></tr>\n",
       "\t<tr><td>NY</td><td>124413</td></tr>\n",
       "\t<tr><td>MA</td><td>436523</td></tr>\n",
       "\t<tr><td>CT</td><td>856018</td></tr>\n",
       "</tbody>\n",
       "</table>\n"
      ],
      "text/latex": [
       "A data.frame: 5 × 2\n",
       "\\begin{tabular}{ll}\n",
       " state & population\\\\\n",
       " <chr> & <int>\\\\\n",
       "\\hline\n",
       "\t OH & 548676\\\\\n",
       "\t RI & 452737\\\\\n",
       "\t NY & 124413\\\\\n",
       "\t MA & 436523\\\\\n",
       "\t CT & 856018\\\\\n",
       "\\end{tabular}\n"
      ],
      "text/markdown": [
       "\n",
       "A data.frame: 5 × 2\n",
       "\n",
       "| state &lt;chr&gt; | population &lt;int&gt; |\n",
       "|---|---|\n",
       "| OH | 548676 |\n",
       "| RI | 452737 |\n",
       "| NY | 124413 |\n",
       "| MA | 436523 |\n",
       "| CT | 856018 |\n",
       "\n"
      ],
      "text/plain": [
       "  state population\n",
       "1 OH    548676    \n",
       "2 RI    452737    \n",
       "3 NY    124413    \n",
       "4 MA    436523    \n",
       "5 CT    856018    "
      ]
     },
     "metadata": {},
     "output_type": "display_data"
    }
   ],
   "source": [
    "state <- c(\"OH\", \"RI\", \"NY\", \"MA\", \"CT\")\n",
    "\n",
    "set.seed(1) # sets the state of the random number generator stored in .Random.seed\n",
    "population <- sample(1:1000000, 5)\n",
    "\n",
    "state_df <- data.frame(state, population)\n",
    "\n",
    "state_df"
   ]
  },
  {
   "cell_type": "code",
   "execution_count": 32,
   "metadata": {
    "vscode": {
     "languageId": "r"
    }
   },
   "outputs": [
    {
     "data": {
      "text/html": [
       "<style>\n",
       ".list-inline {list-style: none; margin:0; padding: 0}\n",
       ".list-inline>li {display: inline-block}\n",
       ".list-inline>li:not(:last-child)::after {content: \"\\00b7\"; padding: 0 .5ex}\n",
       "</style>\n",
       "<ol class=list-inline><li>FALSE</li><li>TRUE</li><li>TRUE</li><li>TRUE</li><li>FALSE</li></ol>\n"
      ],
      "text/latex": [
       "\\begin{enumerate*}\n",
       "\\item FALSE\n",
       "\\item TRUE\n",
       "\\item TRUE\n",
       "\\item TRUE\n",
       "\\item FALSE\n",
       "\\end{enumerate*}\n"
      ],
      "text/markdown": [
       "1. FALSE\n",
       "2. TRUE\n",
       "3. TRUE\n",
       "4. TRUE\n",
       "5. FALSE\n",
       "\n",
       "\n"
      ],
      "text/plain": [
       "[1] FALSE  TRUE  TRUE  TRUE FALSE"
      ]
     },
     "metadata": {},
     "output_type": "display_data"
    },
    {
     "data": {
      "text/html": [
       "<table class=\"dataframe\">\n",
       "<caption>A data.frame: 5 × 3</caption>\n",
       "<thead>\n",
       "\t<tr><th scope=col>state</th><th scope=col>population</th><th scope=col>size</th></tr>\n",
       "\t<tr><th scope=col>&lt;chr&gt;</th><th scope=col>&lt;int&gt;</th><th scope=col>&lt;chr&gt;</th></tr>\n",
       "</thead>\n",
       "<tbody>\n",
       "\t<tr><td>OH</td><td>548676</td><td>large</td></tr>\n",
       "\t<tr><td>RI</td><td>452737</td><td>small</td></tr>\n",
       "\t<tr><td>NY</td><td>124413</td><td>small</td></tr>\n",
       "\t<tr><td>MA</td><td>436523</td><td>small</td></tr>\n",
       "\t<tr><td>CT</td><td>856018</td><td>large</td></tr>\n",
       "</tbody>\n",
       "</table>\n"
      ],
      "text/latex": [
       "A data.frame: 5 × 3\n",
       "\\begin{tabular}{lll}\n",
       " state & population & size\\\\\n",
       " <chr> & <int> & <chr>\\\\\n",
       "\\hline\n",
       "\t OH & 548676 & large\\\\\n",
       "\t RI & 452737 & small\\\\\n",
       "\t NY & 124413 & small\\\\\n",
       "\t MA & 436523 & small\\\\\n",
       "\t CT & 856018 & large\\\\\n",
       "\\end{tabular}\n"
      ],
      "text/markdown": [
       "\n",
       "A data.frame: 5 × 3\n",
       "\n",
       "| state &lt;chr&gt; | population &lt;int&gt; | size &lt;chr&gt; |\n",
       "|---|---|---|\n",
       "| OH | 548676 | large |\n",
       "| RI | 452737 | small |\n",
       "| NY | 124413 | small |\n",
       "| MA | 436523 | small |\n",
       "| CT | 856018 | large |\n",
       "\n"
      ],
      "text/plain": [
       "  state population size \n",
       "1 OH    548676     large\n",
       "2 RI    452737     small\n",
       "3 NY    124413     small\n",
       "4 MA    436523     small\n",
       "5 CT    856018     large"
      ]
     },
     "metadata": {},
     "output_type": "display_data"
    }
   ],
   "source": [
    "is_small <- state_df$population < 500000   # create vector of booleans\n",
    "\n",
    "is_small\n",
    "\n",
    "state_df$size <- rep(NA, 5)                # create column of 5 NAs\n",
    "\n",
    "state_df[is_small, \"size\"] <- \"small\"      # assigning \"small\" wherever `is_small` is TRUE\n",
    "state_df[!is_small, \"size\"] <- \"large\"     # assigning \"large\" wherever !is_small\n",
    "\n",
    "state_df"
   ]
  },
  {
   "cell_type": "code",
   "execution_count": 33,
   "metadata": {
    "vscode": {
     "languageId": "r"
    }
   },
   "outputs": [
    {
     "data": {
      "text/html": [
       "<table class=\"dataframe\">\n",
       "<caption>A data.frame: 5 × 3</caption>\n",
       "<thead>\n",
       "\t<tr><th scope=col>state</th><th scope=col>population</th><th scope=col>size</th></tr>\n",
       "\t<tr><th scope=col>&lt;chr&gt;</th><th scope=col>&lt;int&gt;</th><th scope=col>&lt;chr&gt;</th></tr>\n",
       "</thead>\n",
       "<tbody>\n",
       "\t<tr><td>OH</td><td>548676</td><td>large</td></tr>\n",
       "\t<tr><td>RI</td><td>452737</td><td>small</td></tr>\n",
       "\t<tr><td>NY</td><td>124413</td><td>small</td></tr>\n",
       "\t<tr><td>MA</td><td>436523</td><td>small</td></tr>\n",
       "\t<tr><td>CT</td><td>856018</td><td>large</td></tr>\n",
       "</tbody>\n",
       "</table>\n"
      ],
      "text/latex": [
       "A data.frame: 5 × 3\n",
       "\\begin{tabular}{lll}\n",
       " state & population & size\\\\\n",
       " <chr> & <int> & <chr>\\\\\n",
       "\\hline\n",
       "\t OH & 548676 & large\\\\\n",
       "\t RI & 452737 & small\\\\\n",
       "\t NY & 124413 & small\\\\\n",
       "\t MA & 436523 & small\\\\\n",
       "\t CT & 856018 & large\\\\\n",
       "\\end{tabular}\n"
      ],
      "text/markdown": [
       "\n",
       "A data.frame: 5 × 3\n",
       "\n",
       "| state &lt;chr&gt; | population &lt;int&gt; | size &lt;chr&gt; |\n",
       "|---|---|---|\n",
       "| OH | 548676 | large |\n",
       "| RI | 452737 | small |\n",
       "| NY | 124413 | small |\n",
       "| MA | 436523 | small |\n",
       "| CT | 856018 | large |\n",
       "\n"
      ],
      "text/plain": [
       "  state population size \n",
       "1 OH    548676     large\n",
       "2 RI    452737     small\n",
       "3 NY    124413     small\n",
       "4 MA    436523     small\n",
       "5 CT    856018     large"
      ]
     },
     "metadata": {},
     "output_type": "display_data"
    }
   ],
   "source": [
    "n <- nrow(state_df)                        # get number of rows in dataframe\n",
    "state_df$size <- rep(NA, n)                # create empty column of NAs\n",
    "\n",
    "for (i in 1:n) {\n",
    "    if (state_df[i, \"population\"] < 500000) {\n",
    "        state_df[i, \"size\"] <- \"small\"\n",
    "    }\n",
    "    else {\n",
    "        state_df[i, \"size\"] <- \"large\"\n",
    "    }\n",
    "}\n",
    "\n",
    "state_df"
   ]
  },
  {
   "cell_type": "code",
   "execution_count": 34,
   "metadata": {
    "vscode": {
     "languageId": "r"
    }
   },
   "outputs": [
    {
     "data": {
      "text/html": [
       "<table class=\"dataframe\">\n",
       "<caption>A data.frame: 5 × 3</caption>\n",
       "<thead>\n",
       "\t<tr><th scope=col>state</th><th scope=col>population</th><th scope=col>size</th></tr>\n",
       "\t<tr><th scope=col>&lt;chr&gt;</th><th scope=col>&lt;int&gt;</th><th scope=col>&lt;chr&gt;</th></tr>\n",
       "</thead>\n",
       "<tbody>\n",
       "\t<tr><td>OH</td><td>548676</td><td>large</td></tr>\n",
       "\t<tr><td>RI</td><td>452737</td><td>small</td></tr>\n",
       "\t<tr><td>NY</td><td>124413</td><td>small</td></tr>\n",
       "\t<tr><td>MA</td><td>436523</td><td>small</td></tr>\n",
       "\t<tr><td>CT</td><td>856018</td><td>large</td></tr>\n",
       "</tbody>\n",
       "</table>\n"
      ],
      "text/latex": [
       "A data.frame: 5 × 3\n",
       "\\begin{tabular}{lll}\n",
       " state & population & size\\\\\n",
       " <chr> & <int> & <chr>\\\\\n",
       "\\hline\n",
       "\t OH & 548676 & large\\\\\n",
       "\t RI & 452737 & small\\\\\n",
       "\t NY & 124413 & small\\\\\n",
       "\t MA & 436523 & small\\\\\n",
       "\t CT & 856018 & large\\\\\n",
       "\\end{tabular}\n"
      ],
      "text/markdown": [
       "\n",
       "A data.frame: 5 × 3\n",
       "\n",
       "| state &lt;chr&gt; | population &lt;int&gt; | size &lt;chr&gt; |\n",
       "|---|---|---|\n",
       "| OH | 548676 | large |\n",
       "| RI | 452737 | small |\n",
       "| NY | 124413 | small |\n",
       "| MA | 436523 | small |\n",
       "| CT | 856018 | large |\n",
       "\n"
      ],
      "text/plain": [
       "  state population size \n",
       "1 OH    548676     large\n",
       "2 RI    452737     small\n",
       "3 NY    124413     small\n",
       "4 MA    436523     small\n",
       "5 CT    856018     large"
      ]
     },
     "metadata": {},
     "output_type": "display_data"
    }
   ],
   "source": [
    "state_df$size <- ifelse(state_df$population < 500000, \"small\", \"large\")\n",
    "\n",
    "state_df"
   ]
  },
  {
   "cell_type": "markdown",
   "metadata": {
    "slideshow": {
     "slide_type": "slide"
    }
   },
   "source": [
    "# 4. Reading Data from CSV File\n",
    "\n",
    "  - CSV File is \"comma-separated values\"\n",
    "  - The `,` separator is conventional, but not mandatory\n",
    "  - The `|` character is also common"
   ]
  },
  {
   "cell_type": "markdown",
   "metadata": {
    "slideshow": {
     "slide_type": "subslide"
    }
   },
   "source": [
    "## 4.1 Providence Police Dept. Data\n",
    "\n",
    "  - We will be looking at public data regarding arrests and case"
   ]
  },
  {
   "cell_type": "code",
   "execution_count": 35,
   "metadata": {
    "slideshow": {
     "slide_type": "fragment"
    },
    "vscode": {
     "languageId": "r"
    }
   },
   "outputs": [],
   "source": [
    "# The line below reads the CSV file and creates a dataframe \n",
    "\n",
    "arrests_df <- read.csv(\"data/pvd_arrests_2021-10-03.csv\")     "
   ]
  },
  {
   "cell_type": "markdown",
   "metadata": {
    "slideshow": {
     "slide_type": "subslide"
    }
   },
   "source": [
    "## 4.2 Exploring the Data"
   ]
  },
  {
   "cell_type": "code",
   "execution_count": 36,
   "metadata": {
    "slideshow": {
     "slide_type": "fragment"
    },
    "vscode": {
     "languageId": "r"
    }
   },
   "outputs": [
    {
     "data": {
      "text/html": [
       "<table class=\"dataframe\">\n",
       "<caption>A data.frame: 6 × 18</caption>\n",
       "<thead>\n",
       "\t<tr><th></th><th scope=col>arrest_date</th><th scope=col>year</th><th scope=col>month</th><th scope=col>gender</th><th scope=col>race</th><th scope=col>ethnicity</th><th scope=col>year_of_birth</th><th scope=col>age</th><th scope=col>from_address</th><th scope=col>from_city</th><th scope=col>from_state</th><th scope=col>statute_type</th><th scope=col>statute_code</th><th scope=col>statute_desc</th><th scope=col>counts</th><th scope=col>case_number</th><th scope=col>arresting_officers</th><th scope=col>id</th></tr>\n",
       "\t<tr><th></th><th scope=col>&lt;chr&gt;</th><th scope=col>&lt;int&gt;</th><th scope=col>&lt;int&gt;</th><th scope=col>&lt;chr&gt;</th><th scope=col>&lt;chr&gt;</th><th scope=col>&lt;chr&gt;</th><th scope=col>&lt;int&gt;</th><th scope=col>&lt;int&gt;</th><th scope=col>&lt;chr&gt;</th><th scope=col>&lt;chr&gt;</th><th scope=col>&lt;chr&gt;</th><th scope=col>&lt;chr&gt;</th><th scope=col>&lt;chr&gt;</th><th scope=col>&lt;chr&gt;</th><th scope=col>&lt;int&gt;</th><th scope=col>&lt;chr&gt;</th><th scope=col>&lt;chr&gt;</th><th scope=col>&lt;chr&gt;</th></tr>\n",
       "</thead>\n",
       "<tbody>\n",
       "\t<tr><th scope=row>1</th><td>2019-08-24T02:23:00.0</td><td>2019</td><td>8</td><td>Male  </td><td>White</td><td>NonHispanic</td><td>1981</td><td>37</td><td>No Permanent Address</td><td>providence</td><td>Rhode Island</td><td>                    </td><td>        </td><td>                                                         </td><td>NA</td><td>2019-00084142</td><td> YGonzalez, LTaveras    </td><td>pvd2218242150382148273 </td></tr>\n",
       "\t<tr><th scope=row>2</th><td>2019-08-24T02:02:00.0</td><td>2019</td><td>8</td><td>      </td><td>     </td><td>           </td><td>1994</td><td>25</td><td>SUMMER AVE          </td><td>Cranston  </td><td>Rhode Island</td><td>RI Statute Violation</td><td>31-11-18</td><td>Driving after Denial, Suspension or Revocation of License</td><td> 1</td><td>2019-00084127</td><td> NManfredi              </td><td>pvd15166785558364246202</td></tr>\n",
       "\t<tr><th scope=row>3</th><td>2019-08-24T02:02:00.0</td><td>2019</td><td>8</td><td>Female</td><td>Black</td><td>NonHispanic</td><td>1984</td><td>34</td><td>DOUGLAS AVE         </td><td>Providence</td><td>Rhode Island</td><td>RI Statute Violation</td><td>12-7-10 </td><td>RESISTING LEGAL OR ILLEGAL ARREST                        </td><td> 1</td><td>2019-00084126</td><td> MPlace, JPerez, ASantos</td><td>pvd3142917706201385905 </td></tr>\n",
       "\t<tr><th scope=row>4</th><td>2019-08-24T02:02:00.0</td><td>2019</td><td>8</td><td>Female</td><td>Black</td><td>NonHispanic</td><td>1984</td><td>34</td><td>DOUGLAS AVE         </td><td>Providence</td><td>Rhode Island</td><td>RI Statute Violation</td><td>11-45-1 </td><td>DISORDERLY CONDUCT                                       </td><td> 1</td><td>2019-00084126</td><td> MPlace, JPerez, ASantos</td><td>pvd3142917706201385905 </td></tr>\n",
       "\t<tr><th scope=row>5</th><td>2019-08-24T02:02:00.0</td><td>2019</td><td>8</td><td>Female</td><td>Black</td><td>Unknown    </td><td>2001</td><td>18</td><td>TRASH ST            </td><td>          </td><td>            </td><td>RI Statute Violation</td><td>12-7-10 </td><td>RESISTING LEGAL OR ILLEGAL ARREST                        </td><td> 1</td><td>2019-00084126</td><td> MPlace, JPerez, ASantos</td><td>pvd460449304532374599  </td></tr>\n",
       "\t<tr><th scope=row>6</th><td>2019-08-24T02:02:00.0</td><td>2019</td><td>8</td><td>Female</td><td>Black</td><td>Unknown    </td><td>2001</td><td>18</td><td>TRASH ST            </td><td>          </td><td>            </td><td>RI Statute Violation</td><td>11-45-1 </td><td>DISORDERLY CONDUCT                                       </td><td> 1</td><td>2019-00084126</td><td> MPlace, JPerez, ASantos</td><td>pvd460449304532374599  </td></tr>\n",
       "</tbody>\n",
       "</table>\n"
      ],
      "text/latex": [
       "A data.frame: 6 × 18\n",
       "\\begin{tabular}{r|llllllllllllllllll}\n",
       "  & arrest\\_date & year & month & gender & race & ethnicity & year\\_of\\_birth & age & from\\_address & from\\_city & from\\_state & statute\\_type & statute\\_code & statute\\_desc & counts & case\\_number & arresting\\_officers & id\\\\\n",
       "  & <chr> & <int> & <int> & <chr> & <chr> & <chr> & <int> & <int> & <chr> & <chr> & <chr> & <chr> & <chr> & <chr> & <int> & <chr> & <chr> & <chr>\\\\\n",
       "\\hline\n",
       "\t1 & 2019-08-24T02:23:00.0 & 2019 & 8 & Male   & White & NonHispanic & 1981 & 37 & No Permanent Address & providence & Rhode Island &                      &          &                                                           & NA & 2019-00084142 &  YGonzalez, LTaveras     & pvd2218242150382148273 \\\\\n",
       "\t2 & 2019-08-24T02:02:00.0 & 2019 & 8 &        &       &             & 1994 & 25 & SUMMER AVE           & Cranston   & Rhode Island & RI Statute Violation & 31-11-18 & Driving after Denial, Suspension or Revocation of License &  1 & 2019-00084127 &  NManfredi               & pvd15166785558364246202\\\\\n",
       "\t3 & 2019-08-24T02:02:00.0 & 2019 & 8 & Female & Black & NonHispanic & 1984 & 34 & DOUGLAS AVE          & Providence & Rhode Island & RI Statute Violation & 12-7-10  & RESISTING LEGAL OR ILLEGAL ARREST                         &  1 & 2019-00084126 &  MPlace, JPerez, ASantos & pvd3142917706201385905 \\\\\n",
       "\t4 & 2019-08-24T02:02:00.0 & 2019 & 8 & Female & Black & NonHispanic & 1984 & 34 & DOUGLAS AVE          & Providence & Rhode Island & RI Statute Violation & 11-45-1  & DISORDERLY CONDUCT                                        &  1 & 2019-00084126 &  MPlace, JPerez, ASantos & pvd3142917706201385905 \\\\\n",
       "\t5 & 2019-08-24T02:02:00.0 & 2019 & 8 & Female & Black & Unknown     & 2001 & 18 & TRASH ST             &            &              & RI Statute Violation & 12-7-10  & RESISTING LEGAL OR ILLEGAL ARREST                         &  1 & 2019-00084126 &  MPlace, JPerez, ASantos & pvd460449304532374599  \\\\\n",
       "\t6 & 2019-08-24T02:02:00.0 & 2019 & 8 & Female & Black & Unknown     & 2001 & 18 & TRASH ST             &            &              & RI Statute Violation & 11-45-1  & DISORDERLY CONDUCT                                        &  1 & 2019-00084126 &  MPlace, JPerez, ASantos & pvd460449304532374599  \\\\\n",
       "\\end{tabular}\n"
      ],
      "text/markdown": [
       "\n",
       "A data.frame: 6 × 18\n",
       "\n",
       "| <!--/--> | arrest_date &lt;chr&gt; | year &lt;int&gt; | month &lt;int&gt; | gender &lt;chr&gt; | race &lt;chr&gt; | ethnicity &lt;chr&gt; | year_of_birth &lt;int&gt; | age &lt;int&gt; | from_address &lt;chr&gt; | from_city &lt;chr&gt; | from_state &lt;chr&gt; | statute_type &lt;chr&gt; | statute_code &lt;chr&gt; | statute_desc &lt;chr&gt; | counts &lt;int&gt; | case_number &lt;chr&gt; | arresting_officers &lt;chr&gt; | id &lt;chr&gt; |\n",
       "|---|---|---|---|---|---|---|---|---|---|---|---|---|---|---|---|---|---|---|\n",
       "| 1 | 2019-08-24T02:23:00.0 | 2019 | 8 | Male   | White | NonHispanic | 1981 | 37 | No Permanent Address | providence | Rhode Island | <!----> | <!----> | <!----> | NA | 2019-00084142 |  YGonzalez, LTaveras     | pvd2218242150382148273  |\n",
       "| 2 | 2019-08-24T02:02:00.0 | 2019 | 8 | <!----> | <!----> | <!----> | 1994 | 25 | SUMMER AVE           | Cranston   | Rhode Island | RI Statute Violation | 31-11-18 | Driving after Denial, Suspension or Revocation of License |  1 | 2019-00084127 |  NManfredi               | pvd15166785558364246202 |\n",
       "| 3 | 2019-08-24T02:02:00.0 | 2019 | 8 | Female | Black | NonHispanic | 1984 | 34 | DOUGLAS AVE          | Providence | Rhode Island | RI Statute Violation | 12-7-10  | RESISTING LEGAL OR ILLEGAL ARREST                         |  1 | 2019-00084126 |  MPlace, JPerez, ASantos | pvd3142917706201385905  |\n",
       "| 4 | 2019-08-24T02:02:00.0 | 2019 | 8 | Female | Black | NonHispanic | 1984 | 34 | DOUGLAS AVE          | Providence | Rhode Island | RI Statute Violation | 11-45-1  | DISORDERLY CONDUCT                                        |  1 | 2019-00084126 |  MPlace, JPerez, ASantos | pvd3142917706201385905  |\n",
       "| 5 | 2019-08-24T02:02:00.0 | 2019 | 8 | Female | Black | Unknown     | 2001 | 18 | TRASH ST             | <!----> | <!----> | RI Statute Violation | 12-7-10  | RESISTING LEGAL OR ILLEGAL ARREST                         |  1 | 2019-00084126 |  MPlace, JPerez, ASantos | pvd460449304532374599   |\n",
       "| 6 | 2019-08-24T02:02:00.0 | 2019 | 8 | Female | Black | Unknown     | 2001 | 18 | TRASH ST             | <!----> | <!----> | RI Statute Violation | 11-45-1  | DISORDERLY CONDUCT                                        |  1 | 2019-00084126 |  MPlace, JPerez, ASantos | pvd460449304532374599   |\n",
       "\n"
      ],
      "text/plain": [
       "  arrest_date           year month gender race  ethnicity   year_of_birth age\n",
       "1 2019-08-24T02:23:00.0 2019 8     Male   White NonHispanic 1981          37 \n",
       "2 2019-08-24T02:02:00.0 2019 8                              1994          25 \n",
       "3 2019-08-24T02:02:00.0 2019 8     Female Black NonHispanic 1984          34 \n",
       "4 2019-08-24T02:02:00.0 2019 8     Female Black NonHispanic 1984          34 \n",
       "5 2019-08-24T02:02:00.0 2019 8     Female Black Unknown     2001          18 \n",
       "6 2019-08-24T02:02:00.0 2019 8     Female Black Unknown     2001          18 \n",
       "  from_address         from_city  from_state   statute_type        \n",
       "1 No Permanent Address providence Rhode Island                     \n",
       "2 SUMMER AVE           Cranston   Rhode Island RI Statute Violation\n",
       "3 DOUGLAS AVE          Providence Rhode Island RI Statute Violation\n",
       "4 DOUGLAS AVE          Providence Rhode Island RI Statute Violation\n",
       "5 TRASH ST                                     RI Statute Violation\n",
       "6 TRASH ST                                     RI Statute Violation\n",
       "  statute_code statute_desc                                              counts\n",
       "1                                                                        NA    \n",
       "2 31-11-18     Driving after Denial, Suspension or Revocation of License  1    \n",
       "3 12-7-10      RESISTING LEGAL OR ILLEGAL ARREST                          1    \n",
       "4 11-45-1      DISORDERLY CONDUCT                                         1    \n",
       "5 12-7-10      RESISTING LEGAL OR ILLEGAL ARREST                          1    \n",
       "6 11-45-1      DISORDERLY CONDUCT                                         1    \n",
       "  case_number   arresting_officers       id                     \n",
       "1 2019-00084142  YGonzalez, LTaveras     pvd2218242150382148273 \n",
       "2 2019-00084127  NManfredi               pvd15166785558364246202\n",
       "3 2019-00084126  MPlace, JPerez, ASantos pvd3142917706201385905 \n",
       "4 2019-00084126  MPlace, JPerez, ASantos pvd3142917706201385905 \n",
       "5 2019-00084126  MPlace, JPerez, ASantos pvd460449304532374599  \n",
       "6 2019-00084126  MPlace, JPerez, ASantos pvd460449304532374599  "
      ]
     },
     "metadata": {},
     "output_type": "display_data"
    }
   ],
   "source": [
    "head(arrests_df)         # show first few lines of the dataframe"
   ]
  },
  {
   "cell_type": "markdown",
   "metadata": {
    "slideshow": {
     "slide_type": "subslide"
    }
   },
   "source": [
    "### 4.2.1 More Data Exploring "
   ]
  },
  {
   "cell_type": "code",
   "execution_count": 37,
   "metadata": {
    "slideshow": {
     "slide_type": "fragment"
    },
    "vscode": {
     "languageId": "r"
    }
   },
   "outputs": [
    {
     "data": {
      "text/html": [
       "<style>\n",
       ".list-inline {list-style: none; margin:0; padding: 0}\n",
       ".list-inline>li {display: inline-block}\n",
       ".list-inline>li:not(:last-child)::after {content: \"\\00b7\"; padding: 0 .5ex}\n",
       "</style>\n",
       "<ol class=list-inline><li>13012</li><li>18</li></ol>\n"
      ],
      "text/latex": [
       "\\begin{enumerate*}\n",
       "\\item 13012\n",
       "\\item 18\n",
       "\\end{enumerate*}\n"
      ],
      "text/markdown": [
       "1. 13012\n",
       "2. 18\n",
       "\n",
       "\n"
      ],
      "text/plain": [
       "[1] 13012    18"
      ]
     },
     "metadata": {},
     "output_type": "display_data"
    }
   ],
   "source": [
    "dim(arrests_df)             # get dimensions of the dataframe"
   ]
  },
  {
   "cell_type": "code",
   "execution_count": 38,
   "metadata": {
    "slideshow": {
     "slide_type": "fragment"
    },
    "vscode": {
     "languageId": "r"
    }
   },
   "outputs": [
    {
     "data": {
      "text/html": [
       "13012"
      ],
      "text/latex": [
       "13012"
      ],
      "text/markdown": [
       "13012"
      ],
      "text/plain": [
       "[1] 13012"
      ]
     },
     "metadata": {},
     "output_type": "display_data"
    }
   ],
   "source": [
    "nrow(arrests_df)            # get number of rows"
   ]
  },
  {
   "cell_type": "code",
   "execution_count": 39,
   "metadata": {
    "slideshow": {
     "slide_type": "fragment"
    },
    "vscode": {
     "languageId": "r"
    }
   },
   "outputs": [
    {
     "data": {
      "text/html": [
       "18"
      ],
      "text/latex": [
       "18"
      ],
      "text/markdown": [
       "18"
      ],
      "text/plain": [
       "[1] 18"
      ]
     },
     "metadata": {},
     "output_type": "display_data"
    }
   ],
   "source": [
    "ncol(arrests_df)            # get the number of columns"
   ]
  },
  {
   "cell_type": "code",
   "execution_count": 40,
   "metadata": {
    "slideshow": {
     "slide_type": "fragment"
    },
    "vscode": {
     "languageId": "r"
    }
   },
   "outputs": [
    {
     "data": {
      "text/html": [
       "<style>\n",
       ".list-inline {list-style: none; margin:0; padding: 0}\n",
       ".list-inline>li {display: inline-block}\n",
       ".list-inline>li:not(:last-child)::after {content: \"\\00b7\"; padding: 0 .5ex}\n",
       "</style>\n",
       "<ol class=list-inline><li>'arrest_date'</li><li>'year'</li><li>'month'</li><li>'gender'</li><li>'race'</li><li>'ethnicity'</li><li>'year_of_birth'</li><li>'age'</li><li>'from_address'</li><li>'from_city'</li><li>'from_state'</li><li>'statute_type'</li><li>'statute_code'</li><li>'statute_desc'</li><li>'counts'</li><li>'case_number'</li><li>'arresting_officers'</li><li>'id'</li></ol>\n"
      ],
      "text/latex": [
       "\\begin{enumerate*}\n",
       "\\item 'arrest\\_date'\n",
       "\\item 'year'\n",
       "\\item 'month'\n",
       "\\item 'gender'\n",
       "\\item 'race'\n",
       "\\item 'ethnicity'\n",
       "\\item 'year\\_of\\_birth'\n",
       "\\item 'age'\n",
       "\\item 'from\\_address'\n",
       "\\item 'from\\_city'\n",
       "\\item 'from\\_state'\n",
       "\\item 'statute\\_type'\n",
       "\\item 'statute\\_code'\n",
       "\\item 'statute\\_desc'\n",
       "\\item 'counts'\n",
       "\\item 'case\\_number'\n",
       "\\item 'arresting\\_officers'\n",
       "\\item 'id'\n",
       "\\end{enumerate*}\n"
      ],
      "text/markdown": [
       "1. 'arrest_date'\n",
       "2. 'year'\n",
       "3. 'month'\n",
       "4. 'gender'\n",
       "5. 'race'\n",
       "6. 'ethnicity'\n",
       "7. 'year_of_birth'\n",
       "8. 'age'\n",
       "9. 'from_address'\n",
       "10. 'from_city'\n",
       "11. 'from_state'\n",
       "12. 'statute_type'\n",
       "13. 'statute_code'\n",
       "14. 'statute_desc'\n",
       "15. 'counts'\n",
       "16. 'case_number'\n",
       "17. 'arresting_officers'\n",
       "18. 'id'\n",
       "\n",
       "\n"
      ],
      "text/plain": [
       " [1] \"arrest_date\"        \"year\"               \"month\"             \n",
       " [4] \"gender\"             \"race\"               \"ethnicity\"         \n",
       " [7] \"year_of_birth\"      \"age\"                \"from_address\"      \n",
       "[10] \"from_city\"          \"from_state\"         \"statute_type\"      \n",
       "[13] \"statute_code\"       \"statute_desc\"       \"counts\"            \n",
       "[16] \"case_number\"        \"arresting_officers\" \"id\"                "
      ]
     },
     "metadata": {},
     "output_type": "display_data"
    }
   ],
   "source": [
    "colnames(arrests_df)        # get the column names"
   ]
  },
  {
   "cell_type": "markdown",
   "metadata": {
    "slideshow": {
     "slide_type": "subslide"
    }
   },
   "source": [
    "# 5. Summaries from `data.frame`"
   ]
  },
  {
   "cell_type": "code",
   "execution_count": 41,
   "metadata": {
    "slideshow": {
     "slide_type": "fragment"
    },
    "vscode": {
     "languageId": "r"
    }
   },
   "outputs": [
    {
     "name": "stdout",
     "output_type": "stream",
     "text": [
      "'data.frame':\t13012 obs. of  18 variables:\n",
      " $ arrest_date       : chr  \"2019-08-24T02:23:00.0\" \"2019-08-24T02:02:00.0\" \"2019-08-24T02:02:00.0\" \"2019-08-24T02:02:00.0\" ...\n",
      " $ year              : int  2019 2019 2019 2019 2019 2019 2019 2019 2019 2019 ...\n",
      " $ month             : int  8 8 8 8 8 8 8 8 8 8 ...\n",
      " $ gender            : chr  \"Male\" \"\" \"Female\" \"Female\" ...\n",
      " $ race              : chr  \"White\" \"\" \"Black\" \"Black\" ...\n",
      " $ ethnicity         : chr  \"NonHispanic\" \"\" \"NonHispanic\" \"NonHispanic\" ...\n",
      " $ year_of_birth     : int  1981 1994 1984 1984 2001 2001 2001 1991 1991 1991 ...\n",
      " $ age               : int  37 25 34 34 18 18 18 28 28 28 ...\n",
      " $ from_address      : chr  \"No Permanent Address\" \"SUMMER AVE\" \"DOUGLAS AVE\" \"DOUGLAS AVE\" ...\n",
      " $ from_city         : chr  \"providence\" \"Cranston\" \"Providence\" \"Providence\" ...\n",
      " $ from_state        : chr  \"Rhode Island\" \"Rhode Island\" \"Rhode Island\" \"Rhode Island\" ...\n",
      " $ statute_type      : chr  \"\" \"RI Statute Violation\" \"RI Statute Violation\" \"RI Statute Violation\" ...\n",
      " $ statute_code      : chr  \"\" \"31-11-18\" \"12-7-10\" \"11-45-1\" ...\n",
      " $ statute_desc      : chr  \"\" \"Driving after Denial, Suspension or Revocation of License\" \"RESISTING LEGAL OR ILLEGAL ARREST\" \"DISORDERLY CONDUCT\" ...\n",
      " $ counts            : int  NA 1 1 1 1 1 1 1 1 1 ...\n",
      " $ case_number       : chr  \"2019-00084142\" \"2019-00084127\" \"2019-00084126\" \"2019-00084126\" ...\n",
      " $ arresting_officers: chr  \" YGonzalez, LTaveras\" \" NManfredi\" \" MPlace, JPerez, ASantos\" \" MPlace, JPerez, ASantos\" ...\n",
      " $ id                : chr  \"pvd2218242150382148273\" \"pvd15166785558364246202\" \"pvd3142917706201385905\" \"pvd3142917706201385905\" ...\n"
     ]
    }
   ],
   "source": [
    "str(arrests_df)              # the str() function shows the structure of dataframe"
   ]
  },
  {
   "cell_type": "markdown",
   "metadata": {
    "slideshow": {
     "slide_type": "subslide"
    }
   },
   "source": [
    "## 5.1 Summarizing Numeric Data"
   ]
  },
  {
   "cell_type": "code",
   "execution_count": 42,
   "metadata": {
    "slideshow": {
     "slide_type": "fragment"
    },
    "vscode": {
     "languageId": "r"
    }
   },
   "outputs": [
    {
     "data": {
      "text/plain": [
       " arrest_date             year          month           gender         \n",
       " Length:13012       Min.   :2019   Min.   : 1.000   Length:13012      \n",
       " Class :character   1st Qu.:2019   1st Qu.: 3.000   Class :character  \n",
       " Mode  :character   Median :2020   Median : 7.000   Mode  :character  \n",
       "                    Mean   :2020   Mean   : 6.508                     \n",
       "                    3rd Qu.:2021   3rd Qu.: 9.000                     \n",
       "                    Max.   :2021   Max.   :12.000                     \n",
       "                                                                      \n",
       "     race            ethnicity         year_of_birth       age       \n",
       " Length:13012       Length:13012       Min.   :1938   Min.   :18.00  \n",
       " Class :character   Class :character   1st Qu.:1980   1st Qu.:24.00  \n",
       " Mode  :character   Mode  :character   Median :1989   Median :31.00  \n",
       "                                       Mean   :1986   Mean   :33.07  \n",
       "                                       3rd Qu.:1995   3rd Qu.:39.00  \n",
       "                                       Max.   :2003   Max.   :83.00  \n",
       "                                                                     \n",
       " from_address        from_city          from_state        statute_type      \n",
       " Length:13012       Length:13012       Length:13012       Length:13012      \n",
       " Class :character   Class :character   Class :character   Class :character  \n",
       " Mode  :character   Mode  :character   Mode  :character   Mode  :character  \n",
       "                                                                            \n",
       "                                                                            \n",
       "                                                                            \n",
       "                                                                            \n",
       " statute_code       statute_desc           counts       case_number       \n",
       " Length:13012       Length:13012       Min.   : 1.000   Length:13012      \n",
       " Class :character   Class :character   1st Qu.: 1.000   Class :character  \n",
       " Mode  :character   Mode  :character   Median : 1.000   Mode  :character  \n",
       "                                       Mean   : 1.087                     \n",
       "                                       3rd Qu.: 1.000                     \n",
       "                                       Max.   :15.000                     \n",
       "                                       NA's   :2983                       \n",
       " arresting_officers      id           \n",
       " Length:13012       Length:13012      \n",
       " Class :character   Class :character  \n",
       " Mode  :character   Mode  :character  \n",
       "                                      \n",
       "                                      \n",
       "                                      \n",
       "                                      "
      ]
     },
     "metadata": {},
     "output_type": "display_data"
    }
   ],
   "source": [
    "summary(arrests_df)"
   ]
  },
  {
   "cell_type": "markdown",
   "metadata": {
    "slideshow": {
     "slide_type": "subslide"
    }
   },
   "source": [
    "### 5.1.1 Summarizing Numeric Data (cont.)"
   ]
  },
  {
   "cell_type": "code",
   "execution_count": 43,
   "metadata": {
    "slideshow": {
     "slide_type": "fragment"
    },
    "vscode": {
     "languageId": "r"
    }
   },
   "outputs": [],
   "source": [
    "numeric_vars <- c(\"month\", \"year\", \"age\", \"year_of_birth\", \"counts\")"
   ]
  },
  {
   "cell_type": "code",
   "execution_count": 44,
   "metadata": {
    "slideshow": {
     "slide_type": "fragment"
    },
    "vscode": {
     "languageId": "r"
    }
   },
   "outputs": [
    {
     "data": {
      "text/plain": [
       "     month             year           age        year_of_birth \n",
       " Min.   : 1.000   Min.   :2019   Min.   :18.00   Min.   :1938  \n",
       " 1st Qu.: 3.000   1st Qu.:2019   1st Qu.:24.00   1st Qu.:1980  \n",
       " Median : 7.000   Median :2020   Median :31.00   Median :1989  \n",
       " Mean   : 6.508   Mean   :2020   Mean   :33.07   Mean   :1986  \n",
       " 3rd Qu.: 9.000   3rd Qu.:2021   3rd Qu.:39.00   3rd Qu.:1995  \n",
       " Max.   :12.000   Max.   :2021   Max.   :83.00   Max.   :2003  \n",
       "                                                               \n",
       "     counts      \n",
       " Min.   : 1.000  \n",
       " 1st Qu.: 1.000  \n",
       " Median : 1.000  \n",
       " Mean   : 1.087  \n",
       " 3rd Qu.: 1.000  \n",
       " Max.   :15.000  \n",
       " NA's   :2983    "
      ]
     },
     "metadata": {},
     "output_type": "display_data"
    }
   ],
   "source": [
    "summary(arrests_df[, numeric_vars])"
   ]
  },
  {
   "cell_type": "markdown",
   "metadata": {
    "slideshow": {
     "slide_type": "subslide"
    }
   },
   "source": [
    "## 5.2 Summarizing String Variables"
   ]
  },
  {
   "cell_type": "code",
   "execution_count": 45,
   "metadata": {
    "slideshow": {
     "slide_type": "fragment"
    },
    "vscode": {
     "languageId": "r"
    }
   },
   "outputs": [
    {
     "data": {
      "text/plain": [
       "\n",
       "                               American Indian/Alaskan Native \n",
       "                            24                             25 \n",
       "        Asian/Pacific Islander                          Black \n",
       "                           121                           5721 \n",
       "                          NULL                        Unknown \n",
       "                            41                            588 \n",
       "                         White            ZHispanic (FD only) \n",
       "                          6483                              9 "
      ]
     },
     "metadata": {},
     "output_type": "display_data"
    }
   ],
   "source": [
    "table(arrests_df$race)           # show summary of \"race\" column in `arrests_df`"
   ]
  },
  {
   "cell_type": "markdown",
   "metadata": {
    "slideshow": {
     "slide_type": "slide"
    }
   },
   "source": [
    "# 6. Options when Reading CSV\n",
    "\n",
    "  - The `read.csv()` function has many optional arguments\n",
    "  - Critically, we can tell R the strings that ought to be considered missing"
   ]
  },
  {
   "cell_type": "code",
   "execution_count": 46,
   "metadata": {
    "slideshow": {
     "slide_type": "fragment"
    },
    "vscode": {
     "languageId": "r"
    }
   },
   "outputs": [
    {
     "data": {
      "text/html": [
       "\n",
       "<table style=\"width: 100%;\"><tr><td>read.table {utils}</td><td style=\"text-align: right;\">R Documentation</td></tr></table>\n",
       "\n",
       "<h2>Data Input</h2>\n",
       "\n",
       "<h3>Description</h3>\n",
       "\n",
       "<p>Reads a file in table format and creates a data frame from it, with\n",
       "cases corresponding to lines and variables to fields in the file.\n",
       "</p>\n",
       "\n",
       "\n",
       "<h3>Usage</h3>\n",
       "\n",
       "<pre><code class='language-R'>read.table(file, header = FALSE, sep = \"\", quote = \"\\\"'\",\n",
       "           dec = \".\", numerals = c(\"allow.loss\", \"warn.loss\", \"no.loss\"),\n",
       "           row.names, col.names, as.is = !stringsAsFactors,\n",
       "           na.strings = \"NA\", colClasses = NA, nrows = -1,\n",
       "           skip = 0, check.names = TRUE, fill = !blank.lines.skip,\n",
       "           strip.white = FALSE, blank.lines.skip = TRUE,\n",
       "           comment.char = \"#\",\n",
       "           allowEscapes = FALSE, flush = FALSE,\n",
       "           stringsAsFactors = FALSE,\n",
       "           fileEncoding = \"\", encoding = \"unknown\", text, skipNul = FALSE)\n",
       "\n",
       "read.csv(file, header = TRUE, sep = \",\", quote = \"\\\"\",\n",
       "         dec = \".\", fill = TRUE, comment.char = \"\", ...)\n",
       "\n",
       "read.csv2(file, header = TRUE, sep = \";\", quote = \"\\\"\",\n",
       "          dec = \",\", fill = TRUE, comment.char = \"\", ...)\n",
       "\n",
       "read.delim(file, header = TRUE, sep = \"\\t\", quote = \"\\\"\",\n",
       "           dec = \".\", fill = TRUE, comment.char = \"\", ...)\n",
       "\n",
       "read.delim2(file, header = TRUE, sep = \"\\t\", quote = \"\\\"\",\n",
       "            dec = \",\", fill = TRUE, comment.char = \"\", ...)\n",
       "</code></pre>\n",
       "\n",
       "\n",
       "<h3>Arguments</h3>\n",
       "\n",
       "<table>\n",
       "<tr style=\"vertical-align: top;\"><td><code>file</code></td>\n",
       "<td>\n",
       "<p>the name of the file which the data are to be read from.\n",
       "Each row of the table appears as one line of the file.  If it does\n",
       "not contain an <em>absolute</em> path, the file name is\n",
       "<em>relative</em> to the current working directory,\n",
       "<code>getwd()</code>. Tilde-expansion is performed where supported.\n",
       "This can be a compressed file (see <code>file</code>).\n",
       "</p>\n",
       "<p>Alternatively, <code>file</code> can be a readable text-mode\n",
       "connection (which will be opened for reading if\n",
       "necessary, and if so <code>close</code>d (and hence destroyed) at\n",
       "the end of the function call).  (If <code>stdin()</code> is used,\n",
       "the prompts for lines may be somewhat confusing.  Terminate input\n",
       "with a blank line or an EOF signal, <code>Ctrl-D</code> on Unix and\n",
       "<code>Ctrl-Z</code> on Windows.  Any pushback on <code>stdin()</code> will be\n",
       "cleared before return.)\n",
       "</p>\n",
       "<p><code>file</code> can also be a complete URL.  (For the supported URL\n",
       "schemes, see the &lsquo;URLs&rsquo; section of the help for\n",
       "<code>url</code>.)\n",
       "</p>\n",
       "</td></tr>\n",
       "<tr style=\"vertical-align: top;\"><td><code>header</code></td>\n",
       "<td>\n",
       "<p>a logical value indicating whether the file contains the\n",
       "names of the variables as its first line.  If missing, the value is\n",
       "determined from the file format: <code>header</code> is set to <code>TRUE</code>\n",
       "if and only if the first row contains one fewer field than the\n",
       "number of columns.</p>\n",
       "</td></tr>\n",
       "<tr style=\"vertical-align: top;\"><td><code>sep</code></td>\n",
       "<td>\n",
       "<p>the field separator character.  Values on each line of the\n",
       "file are separated by this character.  If <code>sep = \"\"</code> (the\n",
       "default for <code>read.table</code>) the separator is &lsquo;white space&rsquo;,\n",
       "that is one or more spaces, tabs, newlines or carriage returns.</p>\n",
       "</td></tr>\n",
       "<tr style=\"vertical-align: top;\"><td><code>quote</code></td>\n",
       "<td>\n",
       "<p>the set of quoting characters. To disable quoting\n",
       "altogether, use <code>quote = \"\"</code>.  See <code>scan</code> for the\n",
       "behaviour on quotes embedded in quotes.  Quoting is only considered\n",
       "for columns read as character, which is all of them unless\n",
       "<code>colClasses</code> is specified.</p>\n",
       "</td></tr>\n",
       "<tr style=\"vertical-align: top;\"><td><code>dec</code></td>\n",
       "<td>\n",
       "<p>the character used in the file for decimal points.</p>\n",
       "</td></tr>\n",
       "<tr style=\"vertical-align: top;\"><td><code>numerals</code></td>\n",
       "<td>\n",
       "<p>string indicating how to convert numbers whose conversion\n",
       "to double precision would lose accuracy, see <code>type.convert</code>.\n",
       "Can be abbreviated.  (Applies also to complex-number inputs.)</p>\n",
       "</td></tr>\n",
       "<tr style=\"vertical-align: top;\"><td><code>row.names</code></td>\n",
       "<td>\n",
       "<p>a vector of row names.  This can be a vector giving\n",
       "the actual row names, or a single number giving the column of the\n",
       "table which contains the row names, or character string giving the\n",
       "name of the table column containing the row names.\n",
       "</p>\n",
       "<p>If there is a header and the first row contains one fewer field than\n",
       "the number of columns, the first column in the input is used for the\n",
       "row names.  Otherwise if <code>row.names</code> is missing, the rows are\n",
       "numbered.\n",
       "</p>\n",
       "<p>Using <code>row.names = NULL</code> forces row numbering. Missing or\n",
       "<code>NULL</code> <code>row.names</code> generate row names that are considered\n",
       "to be &lsquo;automatic&rsquo; (and not preserved by <code>as.matrix</code>).\n",
       "</p>\n",
       "</td></tr>\n",
       "<tr style=\"vertical-align: top;\"><td><code>col.names</code></td>\n",
       "<td>\n",
       "<p>a vector of optional names for the variables.\n",
       "The default is to use <code>\"V\"</code> followed by the column number.</p>\n",
       "</td></tr>\n",
       "<tr style=\"vertical-align: top;\"><td><code>as.is</code></td>\n",
       "<td>\n",
       "<p>controls conversion of character variables (insofar as\n",
       "they are not converted to logical, numeric or complex) to factors,\n",
       "if not otherwise specified by <code>colClasses</code>.\n",
       "Its value is either a vector of logicals (values are recycled if\n",
       "necessary), or a vector of numeric or character indices which\n",
       "specify which columns should not be converted to factors.\n",
       "</p>\n",
       "<p>Note: to suppress all conversions including those of numeric\n",
       "columns, set <code>colClasses = \"character\"</code>.\n",
       "</p>\n",
       "<p>Note that <code>as.is</code> is specified per column (not per\n",
       "variable) and so includes the column of row names (if any) and any\n",
       "columns to be skipped.\n",
       "</p>\n",
       "</td></tr>\n",
       "<tr style=\"vertical-align: top;\"><td><code>na.strings</code></td>\n",
       "<td>\n",
       "<p>a character vector of strings which are to be\n",
       "interpreted as <code>NA</code> values.  Blank fields are also\n",
       "considered to be missing values in logical, integer, numeric and\n",
       "complex fields.  Note that the test happens <em>after</em> \n",
       "white space is stripped from the input, so <code>na.strings</code> \n",
       "values may need their own white space stripped in advance.</p>\n",
       "</td></tr>\n",
       "<tr style=\"vertical-align: top;\"><td><code>colClasses</code></td>\n",
       "<td>\n",
       "<p>character.  A vector of classes to be assumed for\n",
       "the columns.  If unnamed, recycled as necessary.  If named, names\n",
       "are matched with unspecified values being taken to be <code>NA</code>.\n",
       "</p>\n",
       "<p>Possible values are <code>NA</code> (the default, when\n",
       "<code>type.convert</code> is used), <code>\"NULL\"</code> (when the column\n",
       "is skipped), one of the atomic vector classes (logical, integer,\n",
       "numeric, complex, character, raw), or <code>\"factor\"</code>, <code>\"Date\"</code>\n",
       "or <code>\"POSIXct\"</code>.  Otherwise there needs to be an <code>as</code>\n",
       "method (from package <span class=\"pkg\">methods</span>) for conversion from\n",
       "<code>\"character\"</code> to the specified formal class.\n",
       "</p>\n",
       "<p>Note that <code>colClasses</code> is specified per column (not per\n",
       "variable) and so includes the column of row names (if any).\n",
       "</p>\n",
       "</td></tr>\n",
       "<tr style=\"vertical-align: top;\"><td><code>nrows</code></td>\n",
       "<td>\n",
       "<p>integer: the maximum number of rows to read in.  Negative\n",
       "and other invalid values are ignored.</p>\n",
       "</td></tr>\n",
       "<tr style=\"vertical-align: top;\"><td><code>skip</code></td>\n",
       "<td>\n",
       "<p>integer: the number of lines of the data file to skip before\n",
       "beginning to read data.</p>\n",
       "</td></tr>\n",
       "<tr style=\"vertical-align: top;\"><td><code>check.names</code></td>\n",
       "<td>\n",
       "<p>logical.  If <code>TRUE</code> then the names of the\n",
       "variables in the data frame are checked to ensure that they are\n",
       "syntactically valid variable names.  If necessary they are adjusted\n",
       "(by <code>make.names</code>) so that they are, and also to ensure\n",
       "that there are no duplicates.</p>\n",
       "</td></tr>\n",
       "<tr style=\"vertical-align: top;\"><td><code>fill</code></td>\n",
       "<td>\n",
       "<p>logical. If <code>TRUE</code> then in case the rows have unequal\n",
       "length, blank fields are implicitly added.  See &lsquo;Details&rsquo;.</p>\n",
       "</td></tr>\n",
       "<tr style=\"vertical-align: top;\"><td><code>strip.white</code></td>\n",
       "<td>\n",
       "<p>logical. Used only when <code>sep</code> has\n",
       "been specified, and allows the stripping of leading and trailing\n",
       "white space from unquoted <code>character</code> fields (<code>numeric</code> fields\n",
       "are always stripped).  See <code>scan</code> for further details\n",
       "(including the exact meaning of &lsquo;white space&rsquo;),\n",
       "remembering that the columns may include the row names.</p>\n",
       "</td></tr>\n",
       "<tr style=\"vertical-align: top;\"><td><code>blank.lines.skip</code></td>\n",
       "<td>\n",
       "<p>logical: if <code>TRUE</code> blank lines in the\n",
       "input are ignored.</p>\n",
       "</td></tr>\n",
       "<tr style=\"vertical-align: top;\"><td><code>comment.char</code></td>\n",
       "<td>\n",
       "<p>character: a character vector of length one\n",
       "containing a single character or an empty string.  Use <code>\"\"</code> to\n",
       "turn off the interpretation of comments altogether.</p>\n",
       "</td></tr>\n",
       "<tr style=\"vertical-align: top;\"><td><code>allowEscapes</code></td>\n",
       "<td>\n",
       "<p>logical.  Should C-style escapes such as\n",
       "&lsquo;<span class=\"samp\">&#8288;\\n&#8288;</span>&rsquo; be processed or read verbatim (the default)?   Note that if\n",
       "not within quotes these could be interpreted as a delimiter (but not\n",
       "as a comment character).  For more details see <code>scan</code>.</p>\n",
       "</td></tr>\n",
       "<tr style=\"vertical-align: top;\"><td><code>flush</code></td>\n",
       "<td>\n",
       "<p>logical: if <code>TRUE</code>, <code>scan</code> will flush to the\n",
       "end of the line after reading the last of the fields requested.\n",
       "This allows putting comments after the last field.</p>\n",
       "</td></tr>\n",
       "<tr style=\"vertical-align: top;\"><td><code>stringsAsFactors</code></td>\n",
       "<td>\n",
       "<p>logical: should character vectors be converted\n",
       "to factors?  Note that this is overridden by <code>as.is</code> and\n",
       "<code>colClasses</code>, both of which allow finer control.</p>\n",
       "</td></tr>\n",
       "<tr style=\"vertical-align: top;\"><td><code>fileEncoding</code></td>\n",
       "<td>\n",
       "<p>character string: if non-empty declares the\n",
       "encoding used on a file (not a connection) so the character data can\n",
       "be re-encoded.  See the &lsquo;Encoding&rsquo; section of the help for\n",
       "<code>file</code>, the &lsquo;R Data Import/Export&rsquo; manual and\n",
       "&lsquo;Note&rsquo;.\n",
       "</p>\n",
       "</td></tr>\n",
       "<tr style=\"vertical-align: top;\"><td><code>encoding</code></td>\n",
       "<td>\n",
       "<p>encoding to be assumed for input strings.  It is\n",
       "used to mark character strings as known to be in\n",
       "Latin-1 or UTF-8 (see <code>Encoding</code>): it is not used to\n",
       "re-encode the input, but allows <span style=\"font-family: Courier New, Courier; color: #666666;\"><b>R</b></span> to handle encoded strings in\n",
       "their native encoding (if one of those two).  See &lsquo;Value&rsquo;\n",
       "and &lsquo;Note&rsquo;.\n",
       "</p>\n",
       "</td></tr>\n",
       "<tr style=\"vertical-align: top;\"><td><code>text</code></td>\n",
       "<td>\n",
       "<p>character string: if <code>file</code> is not supplied and this is,\n",
       "then data are read from the value of <code>text</code> via a text connection.\n",
       "Notice that a literal string can be used to include (small) data sets\n",
       "within R code.\n",
       "</p>\n",
       "</td></tr>\n",
       "<tr style=\"vertical-align: top;\"><td><code>skipNul</code></td>\n",
       "<td>\n",
       "<p>logical: should nuls be skipped?</p>\n",
       "</td></tr>\n",
       "<tr style=\"vertical-align: top;\"><td><code>...</code></td>\n",
       "<td>\n",
       "<p>Further arguments to be passed to <code>read.table</code>.</p>\n",
       "</td></tr>\n",
       "</table>\n",
       "\n",
       "\n",
       "<h3>Details</h3>\n",
       "\n",
       "<p>This function is the principal means of reading tabular data into <span style=\"font-family: Courier New, Courier; color: #666666;\"><b>R</b></span>.\n",
       "</p>\n",
       "<p>Unless <code>colClasses</code> is specified, all columns are read as\n",
       "character columns and then converted using <code>type.convert</code>\n",
       "to logical, integer, numeric, complex or (depending on <code>as.is</code>)\n",
       "factor as appropriate.  Quotes are (by default) interpreted in all\n",
       "fields, so a column of values like <code>\"42\"</code> will result in an\n",
       "integer column.\n",
       "</p>\n",
       "<p>A field or line is &lsquo;blank&rsquo; if it contains nothing (except\n",
       "whitespace if no separator is specified) before a comment character or\n",
       "the end of the field or line.\n",
       "</p>\n",
       "<p>If <code>row.names</code> is not specified and the header line has one less\n",
       "entry than the number of columns, the first column is taken to be the\n",
       "row names.  This allows data frames to be read in from the format in\n",
       "which they are printed.  If <code>row.names</code> is specified and does\n",
       "not refer to the first column, that column is discarded from such files.\n",
       "</p>\n",
       "<p>The number of data columns is determined by looking at the first five\n",
       "lines of input (or the whole input if it has less than five lines), or\n",
       "from the length of <code>col.names</code> if it is specified and is longer.\n",
       "This could conceivably be wrong if <code>fill</code> or\n",
       "<code>blank.lines.skip</code> are true, so specify <code>col.names</code> if\n",
       "necessary (as in the &lsquo;Examples&rsquo;).\n",
       "</p>\n",
       "<p><code>read.csv</code> and <code>read.csv2</code> are identical to\n",
       "<code>read.table</code> except for the defaults.  They are intended for\n",
       "reading &lsquo;comma separated value&rsquo; files (&lsquo;<span class=\"file\">.csv</span>&rsquo;) or\n",
       "(<code>read.csv2</code>) the variant used in countries that use a comma as\n",
       "decimal point and a semicolon as field separator.  Similarly,\n",
       "<code>read.delim</code> and <code>read.delim2</code> are for reading delimited\n",
       "files, defaulting to the TAB character for the delimiter.  Notice that\n",
       "<code>header = TRUE</code> and <code>fill = TRUE</code> in these variants, and\n",
       "that the comment character is disabled.\n",
       "</p>\n",
       "<p>The rest of the line after a comment character is skipped; quotes\n",
       "are not processed in comments.  Complete comment lines are allowed\n",
       "provided <code>blank.lines.skip = TRUE</code>; however, comment lines prior\n",
       "to the header must have the comment character in the first non-blank\n",
       "column.\n",
       "</p>\n",
       "<p>Quoted fields with embedded newlines are supported except after a\n",
       "comment character.  Embedded nuls are unsupported: skipping them (with\n",
       "<code>skipNul = TRUE</code>) may work.\n",
       "</p>\n",
       "\n",
       "\n",
       "<h3>Value</h3>\n",
       "\n",
       "<p>A data frame (<code>data.frame</code>) containing a representation of\n",
       "the data in the file.\n",
       "</p>\n",
       "<p>Empty input is an error unless <code>col.names</code> is specified, when a\n",
       "0-row data frame is returned: similarly giving just a header line if\n",
       "<code>header = TRUE</code> results in a 0-row data frame.  Note that in\n",
       "either case the columns will be logical unless <code>colClasses</code> was\n",
       "supplied.\n",
       "</p>\n",
       "<p>Character strings in the result (including factor levels) will have a\n",
       "declared encoding if <code>encoding</code> is <code>\"latin1\"</code> or\n",
       "<code>\"UTF-8\"</code>.\n",
       "</p>\n",
       "\n",
       "\n",
       "<h3>CSV files</h3>\n",
       "\n",
       "<p>See the help on <code>write.csv</code> for the various conventions\n",
       "for <code>.csv</code> files.  The commonest form of CSV file with row names\n",
       "needs to be read with <code>read.csv(..., row.names = 1)</code> to use the\n",
       "names in the first column of the file as row names.\n",
       "</p>\n",
       "\n",
       "\n",
       "<h3>Memory usage</h3>\n",
       "\n",
       "<p>These functions can use a surprising amount of memory when reading\n",
       "large files.  There is extensive discussion in the &lsquo;R Data\n",
       "Import/Export&rsquo; manual, supplementing the notes here.\n",
       "</p>\n",
       "<p>Less memory will be used if <code>colClasses</code> is specified as one of\n",
       "the six atomic vector classes.  This can be particularly so when\n",
       "reading a column that takes many distinct numeric values, as storing\n",
       "each distinct value as a character string can take up to 14 times as\n",
       "much memory as storing it as an integer.\n",
       "</p>\n",
       "<p>Using <code>nrows</code>, even as a mild over-estimate, will help memory\n",
       "usage.\n",
       "</p>\n",
       "<p>Using <code>comment.char = \"\"</code> will be appreciably faster than the\n",
       "<code>read.table</code> default.\n",
       "</p>\n",
       "<p><code>read.table</code> is not the right tool for reading large matrices,\n",
       "especially those with many columns: it is designed to read\n",
       "<em>data frames</em> which may have columns of very different classes.\n",
       "Use <code>scan</code> instead for matrices.\n",
       "</p>\n",
       "\n",
       "\n",
       "<h3>Note</h3>\n",
       "\n",
       "<p>The columns referred to in <code>as.is</code> and <code>colClasses</code> include\n",
       "the column of row names (if any).\n",
       "</p>\n",
       "<p>There are two approaches for reading input that is not in the local\n",
       "encoding.  If the input is known to be UTF-8 or Latin1, use the\n",
       "<code>encoding</code> argument to declare that.  If the input is in some\n",
       "other encoding, then it may be translated on input.  The <code>fileEncoding</code>\n",
       "argument achieves this by setting up a connection to do the re-encoding\n",
       "into the current locale.  Note that on Windows or other systems not running\n",
       "in a UTF-8 locale, this may not be possible.\n",
       "</p>\n",
       "\n",
       "\n",
       "<h3>References</h3>\n",
       "\n",
       "<p>Chambers, J. M. (1992)\n",
       "<em>Data for models.</em>\n",
       "Chapter 3 of <em>Statistical Models in S</em>\n",
       "eds J. M. Chambers and T. J. Hastie, Wadsworth &amp; Brooks/Cole.\n",
       "</p>\n",
       "\n",
       "\n",
       "<h3>See Also</h3>\n",
       "\n",
       "<p>The &lsquo;R Data Import/Export&rsquo; manual.\n",
       "</p>\n",
       "<p><code>scan</code>, <code>type.convert</code>,\n",
       "<code>read.fwf</code> for reading <em>f</em>ixed <em>w</em>idth\n",
       "<em>f</em>ormatted input;\n",
       "<code>write.table</code>;\n",
       "<code>data.frame</code>.\n",
       "</p>\n",
       "<p><code>count.fields</code> can be useful to determine problems with\n",
       "reading files which result in reports of incorrect record lengths (see\n",
       "the &lsquo;Examples&rsquo; below).\n",
       "</p>\n",
       "<p><a href=\"https://tools.ietf.org/html/rfc4180\">https://tools.ietf.org/html/rfc4180</a> for the IANA definition of\n",
       "CSV files (which requires comma as separator and CRLF line endings).\n",
       "</p>\n",
       "\n",
       "\n",
       "<h3>Examples</h3>\n",
       "\n",
       "<pre><code class='language-R'>## using count.fields to handle unknown maximum number of fields\n",
       "## when fill = TRUE\n",
       "test1 &lt;- c(1:5, \"6,7\", \"8,9,10\")\n",
       "tf &lt;- tempfile()\n",
       "writeLines(test1, tf)\n",
       "\n",
       "read.csv(tf, fill = TRUE) # 1 column\n",
       "ncol &lt;- max(count.fields(tf, sep = \",\"))\n",
       "read.csv(tf, fill = TRUE, header = FALSE,\n",
       "         col.names = paste0(\"V\", seq_len(ncol)))\n",
       "unlink(tf)\n",
       "\n",
       "## \"Inline\" data set, using text=\n",
       "## Notice that leading and trailing empty lines are auto-trimmed\n",
       "\n",
       "read.table(header = TRUE, text = \"\n",
       "a b\n",
       "1 2\n",
       "3 4\n",
       "\")\n",
       "</code></pre>\n",
       "\n",
       "<hr /><div style=\"text-align: center;\">[Package <em>utils</em> version 4.2.3 ]</div>\n",
       "</div>"
      ],
      "text/latex": [
       "\\inputencoding{utf8}\n",
       "\\HeaderA{read.table}{Data Input}{read.table}\n",
       "\\aliasA{read.csv}{read.table}{read.csv}\n",
       "\\aliasA{read.csv2}{read.table}{read.csv2}\n",
       "\\aliasA{read.delim}{read.table}{read.delim}\n",
       "\\aliasA{read.delim2}{read.table}{read.delim2}\n",
       "\\keyword{file}{read.table}\n",
       "\\keyword{connection}{read.table}\n",
       "%\n",
       "\\begin{Description}\\relax\n",
       "Reads a file in table format and creates a data frame from it, with\n",
       "cases corresponding to lines and variables to fields in the file.\n",
       "\\end{Description}\n",
       "%\n",
       "\\begin{Usage}\n",
       "\\begin{verbatim}\n",
       "read.table(file, header = FALSE, sep = \"\", quote = \"\\\"'\",\n",
       "           dec = \".\", numerals = c(\"allow.loss\", \"warn.loss\", \"no.loss\"),\n",
       "           row.names, col.names, as.is = !stringsAsFactors,\n",
       "           na.strings = \"NA\", colClasses = NA, nrows = -1,\n",
       "           skip = 0, check.names = TRUE, fill = !blank.lines.skip,\n",
       "           strip.white = FALSE, blank.lines.skip = TRUE,\n",
       "           comment.char = \"#\",\n",
       "           allowEscapes = FALSE, flush = FALSE,\n",
       "           stringsAsFactors = FALSE,\n",
       "           fileEncoding = \"\", encoding = \"unknown\", text, skipNul = FALSE)\n",
       "\n",
       "read.csv(file, header = TRUE, sep = \",\", quote = \"\\\"\",\n",
       "         dec = \".\", fill = TRUE, comment.char = \"\", ...)\n",
       "\n",
       "read.csv2(file, header = TRUE, sep = \";\", quote = \"\\\"\",\n",
       "          dec = \",\", fill = TRUE, comment.char = \"\", ...)\n",
       "\n",
       "read.delim(file, header = TRUE, sep = \"\\t\", quote = \"\\\"\",\n",
       "           dec = \".\", fill = TRUE, comment.char = \"\", ...)\n",
       "\n",
       "read.delim2(file, header = TRUE, sep = \"\\t\", quote = \"\\\"\",\n",
       "            dec = \",\", fill = TRUE, comment.char = \"\", ...)\n",
       "\\end{verbatim}\n",
       "\\end{Usage}\n",
       "%\n",
       "\\begin{Arguments}\n",
       "\\begin{ldescription}\n",
       "\\item[\\code{file}] the name of the file which the data are to be read from.\n",
       "Each row of the table appears as one line of the file.  If it does\n",
       "not contain an \\emph{absolute} path, the file name is\n",
       "\\emph{relative} to the current working directory,\n",
       "\\code{\\LinkA{getwd}{getwd}()}. Tilde-expansion is performed where supported.\n",
       "This can be a compressed file (see \\code{\\LinkA{file}{file}}).\n",
       "\n",
       "Alternatively, \\code{file} can be a readable text-mode\n",
       "\\LinkA{connection}{connection} (which will be opened for reading if\n",
       "necessary, and if so \\code{\\LinkA{close}{close}}d (and hence destroyed) at\n",
       "the end of the function call).  (If \\code{\\LinkA{stdin}{stdin}()} is used,\n",
       "the prompts for lines may be somewhat confusing.  Terminate input\n",
       "with a blank line or an EOF signal, \\code{Ctrl-D} on Unix and\n",
       "\\code{Ctrl-Z} on Windows.  Any pushback on \\code{stdin()} will be\n",
       "cleared before return.)\n",
       "\n",
       "\\code{file} can also be a complete URL.  (For the supported URL\n",
       "schemes, see the `URLs' section of the help for\n",
       "\\code{\\LinkA{url}{url}}.)\n",
       "\n",
       "\n",
       "\\item[\\code{header}] a logical value indicating whether the file contains the\n",
       "names of the variables as its first line.  If missing, the value is\n",
       "determined from the file format: \\code{header} is set to \\code{TRUE}\n",
       "if and only if the first row contains one fewer field than the\n",
       "number of columns.\n",
       "\n",
       "\\item[\\code{sep}] the field separator character.  Values on each line of the\n",
       "file are separated by this character.  If \\code{sep = \"\"} (the\n",
       "default for \\code{read.table}) the separator is `white space',\n",
       "that is one or more spaces, tabs, newlines or carriage returns.\n",
       "\n",
       "\\item[\\code{quote}] the set of quoting characters. To disable quoting\n",
       "altogether, use \\code{quote = \"\"}.  See \\code{\\LinkA{scan}{scan}} for the\n",
       "behaviour on quotes embedded in quotes.  Quoting is only considered\n",
       "for columns read as character, which is all of them unless\n",
       "\\code{colClasses} is specified.\n",
       "\n",
       "\\item[\\code{dec}] the character used in the file for decimal points.\n",
       "\n",
       "\\item[\\code{numerals}] string indicating how to convert numbers whose conversion\n",
       "to double precision would lose accuracy, see \\code{\\LinkA{type.convert}{type.convert}}.\n",
       "Can be abbreviated.  (Applies also to complex-number inputs.)\n",
       "\n",
       "\\item[\\code{row.names}] a vector of row names.  This can be a vector giving\n",
       "the actual row names, or a single number giving the column of the\n",
       "table which contains the row names, or character string giving the\n",
       "name of the table column containing the row names.\n",
       "\n",
       "If there is a header and the first row contains one fewer field than\n",
       "the number of columns, the first column in the input is used for the\n",
       "row names.  Otherwise if \\code{row.names} is missing, the rows are\n",
       "numbered.\n",
       "\n",
       "Using \\code{row.names = NULL} forces row numbering. Missing or\n",
       "\\code{NULL} \\code{row.names} generate row names that are considered\n",
       "to be `automatic' (and not preserved by \\code{\\LinkA{as.matrix}{as.matrix}}).\n",
       "\n",
       "\n",
       "\\item[\\code{col.names}] a vector of optional names for the variables.\n",
       "The default is to use \\code{\"V\"} followed by the column number.\n",
       "\n",
       "\\item[\\code{as.is}] controls conversion of character variables (insofar as\n",
       "they are not converted to logical, numeric or complex) to factors,\n",
       "if not otherwise specified by \\code{colClasses}.\n",
       "Its value is either a vector of logicals (values are recycled if\n",
       "necessary), or a vector of numeric or character indices which\n",
       "specify which columns should not be converted to factors.\n",
       "\n",
       "Note: to suppress all conversions including those of numeric\n",
       "columns, set \\code{colClasses = \"character\"}.\n",
       "\n",
       "Note that \\code{as.is} is specified per column (not per\n",
       "variable) and so includes the column of row names (if any) and any\n",
       "columns to be skipped.\n",
       "\n",
       "\n",
       "\\item[\\code{na.strings}] a character vector of strings which are to be\n",
       "interpreted as \\code{\\LinkA{NA}{NA}} values.  Blank fields are also\n",
       "considered to be missing values in logical, integer, numeric and\n",
       "complex fields.  Note that the test happens \\emph{after} \n",
       "white space is stripped from the input, so \\code{na.strings} \n",
       "values may need their own white space stripped in advance.\n",
       "\n",
       "\\item[\\code{colClasses}] character.  A vector of classes to be assumed for\n",
       "the columns.  If unnamed, recycled as necessary.  If named, names\n",
       "are matched with unspecified values being taken to be \\code{NA}.\n",
       "\n",
       "Possible values are \\code{NA} (the default, when\n",
       "\\code{\\LinkA{type.convert}{type.convert}} is used), \\code{\"NULL\"} (when the column\n",
       "is skipped), one of the atomic vector classes (logical, integer,\n",
       "numeric, complex, character, raw), or \\code{\"factor\"}, \\code{\"Date\"}\n",
       "or \\code{\"POSIXct\"}.  Otherwise there needs to be an \\code{as}\n",
       "method (from package \\pkg{methods}) for conversion from\n",
       "\\code{\"character\"} to the specified formal class.\n",
       "\n",
       "Note that \\code{colClasses} is specified per column (not per\n",
       "variable) and so includes the column of row names (if any).\n",
       "\n",
       "\n",
       "\\item[\\code{nrows}] integer: the maximum number of rows to read in.  Negative\n",
       "and other invalid values are ignored.\n",
       "\n",
       "\\item[\\code{skip}] integer: the number of lines of the data file to skip before\n",
       "beginning to read data.\n",
       "\n",
       "\\item[\\code{check.names}] logical.  If \\code{TRUE} then the names of the\n",
       "variables in the data frame are checked to ensure that they are\n",
       "syntactically valid variable names.  If necessary they are adjusted\n",
       "(by \\code{\\LinkA{make.names}{make.names}}) so that they are, and also to ensure\n",
       "that there are no duplicates.\n",
       "\n",
       "\\item[\\code{fill}] logical. If \\code{TRUE} then in case the rows have unequal\n",
       "length, blank fields are implicitly added.  See `Details'.\n",
       "\n",
       "\\item[\\code{strip.white}] logical. Used only when \\code{sep} has\n",
       "been specified, and allows the stripping of leading and trailing\n",
       "white space from unquoted \\code{character} fields (\\code{numeric} fields\n",
       "are always stripped).  See \\code{\\LinkA{scan}{scan}} for further details\n",
       "(including the exact meaning of `white space'),\n",
       "remembering that the columns may include the row names.\n",
       "\n",
       "\\item[\\code{blank.lines.skip}] logical: if \\code{TRUE} blank lines in the\n",
       "input are ignored.\n",
       "\n",
       "\\item[\\code{comment.char}] character: a character vector of length one\n",
       "containing a single character or an empty string.  Use \\code{\"\"} to\n",
       "turn off the interpretation of comments altogether.\n",
       "\n",
       "\\item[\\code{allowEscapes}] logical.  Should C-style escapes such as\n",
       "\\samp{\\bsl{}n} be processed or read verbatim (the default)?   Note that if\n",
       "not within quotes these could be interpreted as a delimiter (but not\n",
       "as a comment character).  For more details see \\code{\\LinkA{scan}{scan}}.\n",
       "\n",
       "\\item[\\code{flush}] logical: if \\code{TRUE}, \\code{scan} will flush to the\n",
       "end of the line after reading the last of the fields requested.\n",
       "This allows putting comments after the last field.\n",
       "\n",
       "\\item[\\code{stringsAsFactors}] logical: should character vectors be converted\n",
       "to factors?  Note that this is overridden by \\code{as.is} and\n",
       "\\code{colClasses}, both of which allow finer control.\n",
       "\n",
       "\\item[\\code{fileEncoding}] character string: if non-empty declares the\n",
       "encoding used on a file (not a connection) so the character data can\n",
       "be re-encoded.  See the `Encoding' section of the help for\n",
       "\\code{\\LinkA{file}{file}}, the `R Data Import/Export' manual and\n",
       "`Note'.\n",
       "\n",
       "\n",
       "\\item[\\code{encoding}] encoding to be assumed for input strings.  It is\n",
       "used to mark character strings as known to be in\n",
       "Latin-1 or UTF-8 (see \\code{\\LinkA{Encoding}{Encoding}}): it is not used to\n",
       "re-encode the input, but allows \\R{} to handle encoded strings in\n",
       "their native encoding (if one of those two).  See `Value'\n",
       "and `Note'.\n",
       "\n",
       "\n",
       "\\item[\\code{text}] character string: if \\code{file} is not supplied and this is,\n",
       "then data are read from the value of \\code{text} via a text connection.\n",
       "Notice that a literal string can be used to include (small) data sets\n",
       "within R code.\n",
       "\n",
       "\n",
       "\\item[\\code{skipNul}] logical: should nuls be skipped?\n",
       "\n",
       "\\item[\\code{...}] Further arguments to be passed to \\code{read.table}.\n",
       "\\end{ldescription}\n",
       "\\end{Arguments}\n",
       "%\n",
       "\\begin{Details}\\relax\n",
       "This function is the principal means of reading tabular data into \\R{}.\n",
       "\n",
       "Unless \\code{colClasses} is specified, all columns are read as\n",
       "character columns and then converted using \\code{\\LinkA{type.convert}{type.convert}}\n",
       "to logical, integer, numeric, complex or (depending on \\code{as.is})\n",
       "factor as appropriate.  Quotes are (by default) interpreted in all\n",
       "fields, so a column of values like \\code{\"42\"} will result in an\n",
       "integer column.\n",
       "\n",
       "A field or line is `blank' if it contains nothing (except\n",
       "whitespace if no separator is specified) before a comment character or\n",
       "the end of the field or line.\n",
       "\n",
       "If \\code{row.names} is not specified and the header line has one less\n",
       "entry than the number of columns, the first column is taken to be the\n",
       "row names.  This allows data frames to be read in from the format in\n",
       "which they are printed.  If \\code{row.names} is specified and does\n",
       "not refer to the first column, that column is discarded from such files.\n",
       "\n",
       "The number of data columns is determined by looking at the first five\n",
       "lines of input (or the whole input if it has less than five lines), or\n",
       "from the length of \\code{col.names} if it is specified and is longer.\n",
       "This could conceivably be wrong if \\code{fill} or\n",
       "\\code{blank.lines.skip} are true, so specify \\code{col.names} if\n",
       "necessary (as in the `Examples').\n",
       "\n",
       "\\code{read.csv} and \\code{read.csv2} are identical to\n",
       "\\code{read.table} except for the defaults.  They are intended for\n",
       "reading `comma separated value' files (\\file{.csv}) or\n",
       "(\\code{read.csv2}) the variant used in countries that use a comma as\n",
       "decimal point and a semicolon as field separator.  Similarly,\n",
       "\\code{read.delim} and \\code{read.delim2} are for reading delimited\n",
       "files, defaulting to the TAB character for the delimiter.  Notice that\n",
       "\\code{header = TRUE} and \\code{fill = TRUE} in these variants, and\n",
       "that the comment character is disabled.\n",
       "\n",
       "The rest of the line after a comment character is skipped; quotes\n",
       "are not processed in comments.  Complete comment lines are allowed\n",
       "provided \\code{blank.lines.skip = TRUE}; however, comment lines prior\n",
       "to the header must have the comment character in the first non-blank\n",
       "column.\n",
       "\n",
       "Quoted fields with embedded newlines are supported except after a\n",
       "comment character.  Embedded nuls are unsupported: skipping them (with\n",
       "\\code{skipNul = TRUE}) may work.\n",
       "\\end{Details}\n",
       "%\n",
       "\\begin{Value}\n",
       "A data frame (\\code{\\LinkA{data.frame}{data.frame}}) containing a representation of\n",
       "the data in the file.\n",
       "\n",
       "Empty input is an error unless \\code{col.names} is specified, when a\n",
       "0-row data frame is returned: similarly giving just a header line if\n",
       "\\code{header = TRUE} results in a 0-row data frame.  Note that in\n",
       "either case the columns will be logical unless \\code{colClasses} was\n",
       "supplied.\n",
       "\n",
       "Character strings in the result (including factor levels) will have a\n",
       "declared encoding if \\code{encoding} is \\code{\"latin1\"} or\n",
       "\\code{\"UTF-8\"}.\n",
       "\\end{Value}\n",
       "%\n",
       "\\begin{Section}{CSV files}\n",
       "See the help on \\code{\\LinkA{write.csv}{write.csv}} for the various conventions\n",
       "for \\code{.csv} files.  The commonest form of CSV file with row names\n",
       "needs to be read with \\code{read.csv(..., row.names = 1)} to use the\n",
       "names in the first column of the file as row names.\n",
       "\\end{Section}\n",
       "%\n",
       "\\begin{Section}{Memory usage}\n",
       "These functions can use a surprising amount of memory when reading\n",
       "large files.  There is extensive discussion in the `R Data\n",
       "Import/Export' manual, supplementing the notes here.\n",
       "\n",
       "Less memory will be used if \\code{colClasses} is specified as one of\n",
       "the six \\LinkA{atomic}{atomic} vector classes.  This can be particularly so when\n",
       "reading a column that takes many distinct numeric values, as storing\n",
       "each distinct value as a character string can take up to 14 times as\n",
       "much memory as storing it as an integer.\n",
       "\n",
       "Using \\code{nrows}, even as a mild over-estimate, will help memory\n",
       "usage.\n",
       "\n",
       "Using \\code{comment.char = \"\"} will be appreciably faster than the\n",
       "\\code{read.table} default.\n",
       "\n",
       "\\code{read.table} is not the right tool for reading large matrices,\n",
       "especially those with many columns: it is designed to read\n",
       "\\emph{data frames} which may have columns of very different classes.\n",
       "Use \\code{\\LinkA{scan}{scan}} instead for matrices.\n",
       "\\end{Section}\n",
       "%\n",
       "\\begin{Note}\\relax\n",
       "The columns referred to in \\code{as.is} and \\code{colClasses} include\n",
       "the column of row names (if any).\n",
       "\n",
       "There are two approaches for reading input that is not in the local\n",
       "encoding.  If the input is known to be UTF-8 or Latin1, use the\n",
       "\\code{encoding} argument to declare that.  If the input is in some\n",
       "other encoding, then it may be translated on input.  The \\code{fileEncoding}\n",
       "argument achieves this by setting up a connection to do the re-encoding\n",
       "into the current locale.  Note that on Windows or other systems not running\n",
       "in a UTF-8 locale, this may not be possible.\n",
       "\\end{Note}\n",
       "%\n",
       "\\begin{References}\\relax\n",
       "Chambers, J. M. (1992)\n",
       "\\emph{Data for models.}\n",
       "Chapter 3 of \\emph{Statistical Models in S}\n",
       "eds J. M. Chambers and T. J. Hastie, Wadsworth \\& Brooks/Cole.\n",
       "\\end{References}\n",
       "%\n",
       "\\begin{SeeAlso}\\relax\n",
       "The `R Data Import/Export' manual.\n",
       "\n",
       "\\code{\\LinkA{scan}{scan}}, \\code{\\LinkA{type.convert}{type.convert}},\n",
       "\\code{\\LinkA{read.fwf}{read.fwf}} for reading \\emph{f}ixed \\emph{w}idth\n",
       "\\emph{f}ormatted input;\n",
       "\\code{\\LinkA{write.table}{write.table}};\n",
       "\\code{\\LinkA{data.frame}{data.frame}}.\n",
       "\n",
       "\\code{\\LinkA{count.fields}{count.fields}} can be useful to determine problems with\n",
       "reading files which result in reports of incorrect record lengths (see\n",
       "the `Examples' below).\n",
       "\n",
       "\\url{https://tools.ietf.org/html/rfc4180} for the IANA definition of\n",
       "CSV files (which requires comma as separator and CRLF line endings).\n",
       "\\end{SeeAlso}\n",
       "%\n",
       "\\begin{Examples}\n",
       "\\begin{ExampleCode}\n",
       "## using count.fields to handle unknown maximum number of fields\n",
       "## when fill = TRUE\n",
       "test1 <- c(1:5, \"6,7\", \"8,9,10\")\n",
       "tf <- tempfile()\n",
       "writeLines(test1, tf)\n",
       "\n",
       "read.csv(tf, fill = TRUE) # 1 column\n",
       "ncol <- max(count.fields(tf, sep = \",\"))\n",
       "read.csv(tf, fill = TRUE, header = FALSE,\n",
       "         col.names = paste0(\"V\", seq_len(ncol)))\n",
       "unlink(tf)\n",
       "\n",
       "## \"Inline\" data set, using text=\n",
       "## Notice that leading and trailing empty lines are auto-trimmed\n",
       "\n",
       "read.table(header = TRUE, text = \"\n",
       "a b\n",
       "1 2\n",
       "3 4\n",
       "\")\n",
       "\\end{ExampleCode}\n",
       "\\end{Examples}"
      ],
      "text/plain": [
       "read.table                package:utils                R Documentation\n",
       "\n",
       "_\bD_\ba_\bt_\ba _\bI_\bn_\bp_\bu_\bt\n",
       "\n",
       "_\bD_\be_\bs_\bc_\br_\bi_\bp_\bt_\bi_\bo_\bn:\n",
       "\n",
       "     Reads a file in table format and creates a data frame from it,\n",
       "     with cases corresponding to lines and variables to fields in the\n",
       "     file.\n",
       "\n",
       "_\bU_\bs_\ba_\bg_\be:\n",
       "\n",
       "     read.table(file, header = FALSE, sep = \"\", quote = \"\\\"'\",\n",
       "                dec = \".\", numerals = c(\"allow.loss\", \"warn.loss\", \"no.loss\"),\n",
       "                row.names, col.names, as.is = !stringsAsFactors,\n",
       "                na.strings = \"NA\", colClasses = NA, nrows = -1,\n",
       "                skip = 0, check.names = TRUE, fill = !blank.lines.skip,\n",
       "                strip.white = FALSE, blank.lines.skip = TRUE,\n",
       "                comment.char = \"#\",\n",
       "                allowEscapes = FALSE, flush = FALSE,\n",
       "                stringsAsFactors = FALSE,\n",
       "                fileEncoding = \"\", encoding = \"unknown\", text, skipNul = FALSE)\n",
       "     \n",
       "     read.csv(file, header = TRUE, sep = \",\", quote = \"\\\"\",\n",
       "              dec = \".\", fill = TRUE, comment.char = \"\", ...)\n",
       "     \n",
       "     read.csv2(file, header = TRUE, sep = \";\", quote = \"\\\"\",\n",
       "               dec = \",\", fill = TRUE, comment.char = \"\", ...)\n",
       "     \n",
       "     read.delim(file, header = TRUE, sep = \"\\t\", quote = \"\\\"\",\n",
       "                dec = \".\", fill = TRUE, comment.char = \"\", ...)\n",
       "     \n",
       "     read.delim2(file, header = TRUE, sep = \"\\t\", quote = \"\\\"\",\n",
       "                 dec = \",\", fill = TRUE, comment.char = \"\", ...)\n",
       "     \n",
       "_\bA_\br_\bg_\bu_\bm_\be_\bn_\bt_\bs:\n",
       "\n",
       "    file: the name of the file which the data are to be read from.\n",
       "          Each row of the table appears as one line of the file.  If it\n",
       "          does not contain an _absolute_ path, the file name is\n",
       "          _relative_ to the current working directory, ‘getwd()’.\n",
       "          Tilde-expansion is performed where supported.  This can be a\n",
       "          compressed file (see ‘file’).\n",
       "\n",
       "          Alternatively, ‘file’ can be a readable text-mode connection\n",
       "          (which will be opened for reading if necessary, and if so\n",
       "          ‘close’d (and hence destroyed) at the end of the function\n",
       "          call).  (If ‘stdin()’ is used, the prompts for lines may be\n",
       "          somewhat confusing.  Terminate input with a blank line or an\n",
       "          EOF signal, ‘Ctrl-D’ on Unix and ‘Ctrl-Z’ on Windows.  Any\n",
       "          pushback on ‘stdin()’ will be cleared before return.)\n",
       "\n",
       "          ‘file’ can also be a complete URL.  (For the supported URL\n",
       "          schemes, see the ‘URLs’ section of the help for ‘url’.)\n",
       "\n",
       "  header: a logical value indicating whether the file contains the\n",
       "          names of the variables as its first line.  If missing, the\n",
       "          value is determined from the file format: ‘header’ is set to\n",
       "          ‘TRUE’ if and only if the first row contains one fewer field\n",
       "          than the number of columns.\n",
       "\n",
       "     sep: the field separator character.  Values on each line of the\n",
       "          file are separated by this character.  If ‘sep = \"\"’ (the\n",
       "          default for ‘read.table’) the separator is ‘white space’,\n",
       "          that is one or more spaces, tabs, newlines or carriage\n",
       "          returns.\n",
       "\n",
       "   quote: the set of quoting characters. To disable quoting altogether,\n",
       "          use ‘quote = \"\"’.  See ‘scan’ for the behaviour on quotes\n",
       "          embedded in quotes.  Quoting is only considered for columns\n",
       "          read as character, which is all of them unless ‘colClasses’\n",
       "          is specified.\n",
       "\n",
       "     dec: the character used in the file for decimal points.\n",
       "\n",
       "numerals: string indicating how to convert numbers whose conversion to\n",
       "          double precision would lose accuracy, see ‘type.convert’.\n",
       "          Can be abbreviated.  (Applies also to complex-number inputs.)\n",
       "\n",
       "row.names: a vector of row names.  This can be a vector giving the\n",
       "          actual row names, or a single number giving the column of the\n",
       "          table which contains the row names, or character string\n",
       "          giving the name of the table column containing the row names.\n",
       "\n",
       "          If there is a header and the first row contains one fewer\n",
       "          field than the number of columns, the first column in the\n",
       "          input is used for the row names.  Otherwise if ‘row.names’ is\n",
       "          missing, the rows are numbered.\n",
       "\n",
       "          Using ‘row.names = NULL’ forces row numbering. Missing or\n",
       "          ‘NULL’ ‘row.names’ generate row names that are considered to\n",
       "          be ‘automatic’ (and not preserved by ‘as.matrix’).\n",
       "\n",
       "col.names: a vector of optional names for the variables.  The default\n",
       "          is to use ‘\"V\"’ followed by the column number.\n",
       "\n",
       "   as.is: controls conversion of character variables (insofar as they\n",
       "          are not converted to logical, numeric or complex) to factors,\n",
       "          if not otherwise specified by ‘colClasses’.  Its value is\n",
       "          either a vector of logicals (values are recycled if\n",
       "          necessary), or a vector of numeric or character indices which\n",
       "          specify which columns should not be converted to factors.\n",
       "\n",
       "          Note: to suppress all conversions including those of numeric\n",
       "          columns, set ‘colClasses = \"character\"’.\n",
       "\n",
       "          Note that ‘as.is’ is specified per column (not per variable)\n",
       "          and so includes the column of row names (if any) and any\n",
       "          columns to be skipped.\n",
       "\n",
       "na.strings: a character vector of strings which are to be interpreted\n",
       "          as ‘NA’ values.  Blank fields are also considered to be\n",
       "          missing values in logical, integer, numeric and complex\n",
       "          fields.  Note that the test happens _after_ white space is\n",
       "          stripped from the input, so ‘na.strings’ values may need\n",
       "          their own white space stripped in advance.\n",
       "\n",
       "colClasses: character.  A vector of classes to be assumed for the\n",
       "          columns.  If unnamed, recycled as necessary.  If named, names\n",
       "          are matched with unspecified values being taken to be ‘NA’.\n",
       "\n",
       "          Possible values are ‘NA’ (the default, when ‘type.convert’ is\n",
       "          used), ‘\"NULL\"’ (when the column is skipped), one of the\n",
       "          atomic vector classes (logical, integer, numeric, complex,\n",
       "          character, raw), or ‘\"factor\"’, ‘\"Date\"’ or ‘\"POSIXct\"’.\n",
       "          Otherwise there needs to be an ‘as’ method (from package\n",
       "          ‘methods’) for conversion from ‘\"character\"’ to the specified\n",
       "          formal class.\n",
       "\n",
       "          Note that ‘colClasses’ is specified per column (not per\n",
       "          variable) and so includes the column of row names (if any).\n",
       "\n",
       "   nrows: integer: the maximum number of rows to read in.  Negative and\n",
       "          other invalid values are ignored.\n",
       "\n",
       "    skip: integer: the number of lines of the data file to skip before\n",
       "          beginning to read data.\n",
       "\n",
       "check.names: logical.  If ‘TRUE’ then the names of the variables in the\n",
       "          data frame are checked to ensure that they are syntactically\n",
       "          valid variable names.  If necessary they are adjusted (by\n",
       "          ‘make.names’) so that they are, and also to ensure that there\n",
       "          are no duplicates.\n",
       "\n",
       "    fill: logical. If ‘TRUE’ then in case the rows have unequal length,\n",
       "          blank fields are implicitly added.  See ‘Details’.\n",
       "\n",
       "strip.white: logical. Used only when ‘sep’ has been specified, and\n",
       "          allows the stripping of leading and trailing white space from\n",
       "          unquoted ‘character’ fields (‘numeric’ fields are always\n",
       "          stripped).  See ‘scan’ for further details (including the\n",
       "          exact meaning of ‘white space’), remembering that the columns\n",
       "          may include the row names.\n",
       "\n",
       "blank.lines.skip: logical: if ‘TRUE’ blank lines in the input are\n",
       "          ignored.\n",
       "\n",
       "comment.char: character: a character vector of length one containing a\n",
       "          single character or an empty string.  Use ‘\"\"’ to turn off\n",
       "          the interpretation of comments altogether.\n",
       "\n",
       "allowEscapes: logical.  Should C-style escapes such as ‘\\n’ be\n",
       "          processed or read verbatim (the default)?  Note that if not\n",
       "          within quotes these could be interpreted as a delimiter (but\n",
       "          not as a comment character).  For more details see ‘scan’.\n",
       "\n",
       "   flush: logical: if ‘TRUE’, ‘scan’ will flush to the end of the line\n",
       "          after reading the last of the fields requested.  This allows\n",
       "          putting comments after the last field.\n",
       "\n",
       "stringsAsFactors: logical: should character vectors be converted to\n",
       "          factors?  Note that this is overridden by ‘as.is’ and\n",
       "          ‘colClasses’, both of which allow finer control.\n",
       "\n",
       "fileEncoding: character string: if non-empty declares the encoding used\n",
       "          on a file (not a connection) so the character data can be\n",
       "          re-encoded.  See the ‘Encoding’ section of the help for\n",
       "          ‘file’, the ‘R Data Import/Export’ manual and ‘Note’.\n",
       "\n",
       "encoding: encoding to be assumed for input strings.  It is used to mark\n",
       "          character strings as known to be in Latin-1 or UTF-8 (see\n",
       "          ‘Encoding’): it is not used to re-encode the input, but\n",
       "          allows R to handle encoded strings in their native encoding\n",
       "          (if one of those two).  See ‘Value’ and ‘Note’.\n",
       "\n",
       "    text: character string: if ‘file’ is not supplied and this is, then\n",
       "          data are read from the value of ‘text’ via a text connection.\n",
       "          Notice that a literal string can be used to include (small)\n",
       "          data sets within R code.\n",
       "\n",
       " skipNul: logical: should nuls be skipped?\n",
       "\n",
       "     ...: Further arguments to be passed to ‘read.table’.\n",
       "\n",
       "_\bD_\be_\bt_\ba_\bi_\bl_\bs:\n",
       "\n",
       "     This function is the principal means of reading tabular data into\n",
       "     R.\n",
       "\n",
       "     Unless ‘colClasses’ is specified, all columns are read as\n",
       "     character columns and then converted using ‘type.convert’ to\n",
       "     logical, integer, numeric, complex or (depending on ‘as.is’)\n",
       "     factor as appropriate.  Quotes are (by default) interpreted in all\n",
       "     fields, so a column of values like ‘\"42\"’ will result in an\n",
       "     integer column.\n",
       "\n",
       "     A field or line is ‘blank’ if it contains nothing (except\n",
       "     whitespace if no separator is specified) before a comment\n",
       "     character or the end of the field or line.\n",
       "\n",
       "     If ‘row.names’ is not specified and the header line has one less\n",
       "     entry than the number of columns, the first column is taken to be\n",
       "     the row names.  This allows data frames to be read in from the\n",
       "     format in which they are printed.  If ‘row.names’ is specified and\n",
       "     does not refer to the first column, that column is discarded from\n",
       "     such files.\n",
       "\n",
       "     The number of data columns is determined by looking at the first\n",
       "     five lines of input (or the whole input if it has less than five\n",
       "     lines), or from the length of ‘col.names’ if it is specified and\n",
       "     is longer.  This could conceivably be wrong if ‘fill’ or\n",
       "     ‘blank.lines.skip’ are true, so specify ‘col.names’ if necessary\n",
       "     (as in the ‘Examples’).\n",
       "\n",
       "     ‘read.csv’ and ‘read.csv2’ are identical to ‘read.table’ except\n",
       "     for the defaults.  They are intended for reading ‘comma separated\n",
       "     value’ files (‘.csv’) or (‘read.csv2’) the variant used in\n",
       "     countries that use a comma as decimal point and a semicolon as\n",
       "     field separator.  Similarly, ‘read.delim’ and ‘read.delim2’ are\n",
       "     for reading delimited files, defaulting to the TAB character for\n",
       "     the delimiter.  Notice that ‘header = TRUE’ and ‘fill = TRUE’ in\n",
       "     these variants, and that the comment character is disabled.\n",
       "\n",
       "     The rest of the line after a comment character is skipped; quotes\n",
       "     are not processed in comments.  Complete comment lines are allowed\n",
       "     provided ‘blank.lines.skip = TRUE’; however, comment lines prior\n",
       "     to the header must have the comment character in the first\n",
       "     non-blank column.\n",
       "\n",
       "     Quoted fields with embedded newlines are supported except after a\n",
       "     comment character.  Embedded nuls are unsupported: skipping them\n",
       "     (with ‘skipNul = TRUE’) may work.\n",
       "\n",
       "_\bV_\ba_\bl_\bu_\be:\n",
       "\n",
       "     A data frame (‘data.frame’) containing a representation of the\n",
       "     data in the file.\n",
       "\n",
       "     Empty input is an error unless ‘col.names’ is specified, when a\n",
       "     0-row data frame is returned: similarly giving just a header line\n",
       "     if ‘header = TRUE’ results in a 0-row data frame.  Note that in\n",
       "     either case the columns will be logical unless ‘colClasses’ was\n",
       "     supplied.\n",
       "\n",
       "     Character strings in the result (including factor levels) will\n",
       "     have a declared encoding if ‘encoding’ is ‘\"latin1\"’ or ‘\"UTF-8\"’.\n",
       "\n",
       "_\bC_\bS_\bV _\bf_\bi_\bl_\be_\bs:\n",
       "\n",
       "     See the help on ‘write.csv’ for the various conventions for ‘.csv’\n",
       "     files.  The commonest form of CSV file with row names needs to be\n",
       "     read with ‘read.csv(..., row.names = 1)’ to use the names in the\n",
       "     first column of the file as row names.\n",
       "\n",
       "_\bM_\be_\bm_\bo_\br_\by _\bu_\bs_\ba_\bg_\be:\n",
       "\n",
       "     These functions can use a surprising amount of memory when reading\n",
       "     large files.  There is extensive discussion in the ‘R Data\n",
       "     Import/Export’ manual, supplementing the notes here.\n",
       "\n",
       "     Less memory will be used if ‘colClasses’ is specified as one of\n",
       "     the six atomic vector classes.  This can be particularly so when\n",
       "     reading a column that takes many distinct numeric values, as\n",
       "     storing each distinct value as a character string can take up to\n",
       "     14 times as much memory as storing it as an integer.\n",
       "\n",
       "     Using ‘nrows’, even as a mild over-estimate, will help memory\n",
       "     usage.\n",
       "\n",
       "     Using ‘comment.char = \"\"’ will be appreciably faster than the\n",
       "     ‘read.table’ default.\n",
       "\n",
       "     ‘read.table’ is not the right tool for reading large matrices,\n",
       "     especially those with many columns: it is designed to read _data\n",
       "     frames_ which may have columns of very different classes.  Use\n",
       "     ‘scan’ instead for matrices.\n",
       "\n",
       "_\bN_\bo_\bt_\be:\n",
       "\n",
       "     The columns referred to in ‘as.is’ and ‘colClasses’ include the\n",
       "     column of row names (if any).\n",
       "\n",
       "     There are two approaches for reading input that is not in the\n",
       "     local encoding.  If the input is known to be UTF-8 or Latin1, use\n",
       "     the ‘encoding’ argument to declare that.  If the input is in some\n",
       "     other encoding, then it may be translated on input.  The\n",
       "     ‘fileEncoding’ argument achieves this by setting up a connection\n",
       "     to do the re-encoding into the current locale.  Note that on\n",
       "     Windows or other systems not running in a UTF-8 locale, this may\n",
       "     not be possible.\n",
       "\n",
       "_\bR_\be_\bf_\be_\br_\be_\bn_\bc_\be_\bs:\n",
       "\n",
       "     Chambers, J. M. (1992) _Data for models._ Chapter 3 of\n",
       "     _Statistical Models in S_ eds J. M. Chambers and T. J. Hastie,\n",
       "     Wadsworth & Brooks/Cole.\n",
       "\n",
       "_\bS_\be_\be _\bA_\bl_\bs_\bo:\n",
       "\n",
       "     The ‘R Data Import/Export’ manual.\n",
       "\n",
       "     ‘scan’, ‘type.convert’, ‘read.fwf’ for reading _f_ixed _w_idth\n",
       "     _f_ormatted input; ‘write.table’; ‘data.frame’.\n",
       "\n",
       "     ‘count.fields’ can be useful to determine problems with reading\n",
       "     files which result in reports of incorrect record lengths (see the\n",
       "     ‘Examples’ below).\n",
       "\n",
       "     <https://tools.ietf.org/html/rfc4180> for the IANA definition of\n",
       "     CSV files (which requires comma as separator and CRLF line\n",
       "     endings).\n",
       "\n",
       "_\bE_\bx_\ba_\bm_\bp_\bl_\be_\bs:\n",
       "\n",
       "     ## using count.fields to handle unknown maximum number of fields\n",
       "     ## when fill = TRUE\n",
       "     test1 <- c(1:5, \"6,7\", \"8,9,10\")\n",
       "     tf <- tempfile()\n",
       "     writeLines(test1, tf)\n",
       "     \n",
       "     read.csv(tf, fill = TRUE) # 1 column\n",
       "     ncol <- max(count.fields(tf, sep = \",\"))\n",
       "     read.csv(tf, fill = TRUE, header = FALSE,\n",
       "              col.names = paste0(\"V\", seq_len(ncol)))\n",
       "     unlink(tf)\n",
       "     \n",
       "     ## \"Inline\" data set, using text=\n",
       "     ## Notice that leading and trailing empty lines are auto-trimmed\n",
       "     \n",
       "     read.table(header = TRUE, text = \"\n",
       "     a b\n",
       "     1 2\n",
       "     3 4\n",
       "     \")\n",
       "     "
      ]
     },
     "metadata": {},
     "output_type": "display_data"
    }
   ],
   "source": [
    "help(read.csv)"
   ]
  },
  {
   "cell_type": "code",
   "execution_count": 47,
   "metadata": {
    "slideshow": {
     "slide_type": "fragment"
    },
    "vscode": {
     "languageId": "r"
    }
   },
   "outputs": [],
   "source": [
    "arrests_df2 <- read.csv(\"data/pvd_arrests_2021-10-03.csv\", \n",
    "                        na.strings = c(\"NA\", \"\", \" \", \"NULL\", \"Unknown\"))"
   ]
  },
  {
   "cell_type": "markdown",
   "metadata": {
    "slideshow": {
     "slide_type": "subslide"
    }
   },
   "source": [
    "## 6.1 Effects of  `na.strings`"
   ]
  },
  {
   "cell_type": "code",
   "execution_count": 49,
   "metadata": {
    "slideshow": {
     "slide_type": "fragment"
    },
    "vscode": {
     "languageId": "r"
    }
   },
   "outputs": [
    {
     "data": {
      "text/plain": [
       "\n",
       "                               American Indian/Alaskan Native \n",
       "                            24                             25 \n",
       "        Asian/Pacific Islander                          Black \n",
       "                           121                           5721 \n",
       "                          NULL                        Unknown \n",
       "                            41                            588 \n",
       "                         White            ZHispanic (FD only) \n",
       "                          6483                              9 "
      ]
     },
     "metadata": {},
     "output_type": "display_data"
    }
   ],
   "source": [
    "table(arrests_df$race)             # explore `race` in original dataframe"
   ]
  },
  {
   "cell_type": "code",
   "execution_count": 50,
   "metadata": {
    "slideshow": {
     "slide_type": "fragment"
    },
    "vscode": {
     "languageId": "r"
    }
   },
   "outputs": [
    {
     "data": {
      "text/plain": [
       "\n",
       "American Indian/Alaskan Native         Asian/Pacific Islander \n",
       "                            25                            121 \n",
       "                         Black                          White \n",
       "                          5721                           6483 \n",
       "           ZHispanic (FD only) \n",
       "                             9 "
      ]
     },
     "metadata": {},
     "output_type": "display_data"
    }
   ],
   "source": [
    "table(arrests_df2$race)           # dataframe after setting `na.strings`"
   ]
  },
  {
   "cell_type": "code",
   "execution_count": 51,
   "metadata": {
    "tags": [],
    "vscode": {
     "languageId": "r"
    }
   },
   "outputs": [
    {
     "data": {
      "text/html": [
       "<table class=\"dataframe\">\n",
       "<caption>A data.frame: 1 × 18</caption>\n",
       "<thead>\n",
       "\t<tr><th></th><th scope=col>arrest_date</th><th scope=col>year</th><th scope=col>month</th><th scope=col>gender</th><th scope=col>race</th><th scope=col>ethnicity</th><th scope=col>year_of_birth</th><th scope=col>age</th><th scope=col>from_address</th><th scope=col>from_city</th><th scope=col>from_state</th><th scope=col>statute_type</th><th scope=col>statute_code</th><th scope=col>statute_desc</th><th scope=col>counts</th><th scope=col>case_number</th><th scope=col>arresting_officers</th><th scope=col>id</th></tr>\n",
       "\t<tr><th></th><th scope=col>&lt;chr&gt;</th><th scope=col>&lt;int&gt;</th><th scope=col>&lt;int&gt;</th><th scope=col>&lt;chr&gt;</th><th scope=col>&lt;chr&gt;</th><th scope=col>&lt;chr&gt;</th><th scope=col>&lt;int&gt;</th><th scope=col>&lt;int&gt;</th><th scope=col>&lt;chr&gt;</th><th scope=col>&lt;chr&gt;</th><th scope=col>&lt;chr&gt;</th><th scope=col>&lt;chr&gt;</th><th scope=col>&lt;chr&gt;</th><th scope=col>&lt;chr&gt;</th><th scope=col>&lt;int&gt;</th><th scope=col>&lt;chr&gt;</th><th scope=col>&lt;chr&gt;</th><th scope=col>&lt;chr&gt;</th></tr>\n",
       "</thead>\n",
       "<tbody>\n",
       "\t<tr><th scope=row>1</th><td>2019-08-24T02:23:00.0</td><td>2019</td><td>8</td><td>Male</td><td>White</td><td>NonHispanic</td><td>1981</td><td>37</td><td>No Permanent Address</td><td>providence</td><td>Rhode Island</td><td></td><td></td><td></td><td>NA</td><td>2019-00084142</td><td> YGonzalez, LTaveras</td><td>pvd2218242150382148273</td></tr>\n",
       "</tbody>\n",
       "</table>\n"
      ],
      "text/latex": [
       "A data.frame: 1 × 18\n",
       "\\begin{tabular}{r|llllllllllllllllll}\n",
       "  & arrest\\_date & year & month & gender & race & ethnicity & year\\_of\\_birth & age & from\\_address & from\\_city & from\\_state & statute\\_type & statute\\_code & statute\\_desc & counts & case\\_number & arresting\\_officers & id\\\\\n",
       "  & <chr> & <int> & <int> & <chr> & <chr> & <chr> & <int> & <int> & <chr> & <chr> & <chr> & <chr> & <chr> & <chr> & <int> & <chr> & <chr> & <chr>\\\\\n",
       "\\hline\n",
       "\t1 & 2019-08-24T02:23:00.0 & 2019 & 8 & Male & White & NonHispanic & 1981 & 37 & No Permanent Address & providence & Rhode Island &  &  &  & NA & 2019-00084142 &  YGonzalez, LTaveras & pvd2218242150382148273\\\\\n",
       "\\end{tabular}\n"
      ],
      "text/markdown": [
       "\n",
       "A data.frame: 1 × 18\n",
       "\n",
       "| <!--/--> | arrest_date &lt;chr&gt; | year &lt;int&gt; | month &lt;int&gt; | gender &lt;chr&gt; | race &lt;chr&gt; | ethnicity &lt;chr&gt; | year_of_birth &lt;int&gt; | age &lt;int&gt; | from_address &lt;chr&gt; | from_city &lt;chr&gt; | from_state &lt;chr&gt; | statute_type &lt;chr&gt; | statute_code &lt;chr&gt; | statute_desc &lt;chr&gt; | counts &lt;int&gt; | case_number &lt;chr&gt; | arresting_officers &lt;chr&gt; | id &lt;chr&gt; |\n",
       "|---|---|---|---|---|---|---|---|---|---|---|---|---|---|---|---|---|---|---|\n",
       "| 1 | 2019-08-24T02:23:00.0 | 2019 | 8 | Male | White | NonHispanic | 1981 | 37 | No Permanent Address | providence | Rhode Island | <!----> | <!----> | <!----> | NA | 2019-00084142 |  YGonzalez, LTaveras | pvd2218242150382148273 |\n",
       "\n"
      ],
      "text/plain": [
       "  arrest_date           year month gender race  ethnicity   year_of_birth age\n",
       "1 2019-08-24T02:23:00.0 2019 8     Male   White NonHispanic 1981          37 \n",
       "  from_address         from_city  from_state   statute_type statute_code\n",
       "1 No Permanent Address providence Rhode Island                          \n",
       "  statute_desc counts case_number   arresting_officers   id                    \n",
       "1              NA     2019-00084142  YGonzalez, LTaveras pvd2218242150382148273"
      ]
     },
     "metadata": {},
     "output_type": "display_data"
    }
   ],
   "source": [
    "arrests_df[1, ]"
   ]
  },
  {
   "cell_type": "code",
   "execution_count": null,
   "metadata": {
    "vscode": {
     "languageId": "r"
    }
   },
   "outputs": [],
   "source": []
  }
 ],
 "metadata": {
  "@webio": {
   "lastCommId": null,
   "lastKernelId": null
  },
  "celltoolbar": "Slideshow",
  "kernelspec": {
   "display_name": "R",
   "language": "R",
   "name": "ir"
  },
  "language_info": {
   "codemirror_mode": "r",
   "file_extension": ".r",
   "mimetype": "text/x-r-source",
   "name": "R",
   "pygments_lexer": "r",
   "version": "4.3.1"
  }
 },
 "nbformat": 4,
 "nbformat_minor": 4
}
