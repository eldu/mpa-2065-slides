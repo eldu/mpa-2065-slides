{
 "cells": [
  {
   "cell_type": "markdown",
   "id": "98b4e3e9-3262-4f3e-b0d2-deeb06badbe9",
   "metadata": {
    "slideshow": {
     "slide_type": "slide"
    },
    "tags": []
   },
   "source": [
    "<center><h1>MPA 2065: Introduction to Data Science and Programming</h1></center>\n",
    "<center><h2>Syllabus Day, JupyterHub, Unix, Git</h1></center>\n",
    "<center><h3>Ellen Duong</h3></center>\n",
    "<center><h3>August Guang</h3></center>"
   ]
  },
  {
   "cell_type": "markdown",
   "id": "04e154b6-bd5d-4ba3-b1eb-6ea174dd5955",
   "metadata": {
    "slideshow": {
     "slide_type": "slide"
    }
   },
   "source": [
    "# 1 Agenda"
   ]
  },
  {
   "cell_type": "markdown",
   "id": "e20866aa-5043-4078-b8ee-779f45470c74",
   "metadata": {
    "slideshow": {
     "slide_type": "fragment"
    },
    "tags": []
   },
   "source": [
    "* Welcome\n",
    "* Syllabus\n",
    "* Questions\n",
    "* Setting Up Your Environment\n",
    "* Homework 1 Together"
   ]
  },
  {
   "cell_type": "markdown",
   "id": "8e5c2d72-b6fb-45ca-aafe-92f8f18f7279",
   "metadata": {
    "slideshow": {
     "slide_type": "slide"
    }
   },
   "source": [
    "# 2 Welcome"
   ]
  },
  {
   "cell_type": "markdown",
   "id": "0a35c33e-8021-4319-8333-eda3b76d2f3d",
   "metadata": {
    "slideshow": {
     "slide_type": "fragment"
    }
   },
   "source": [
    "* What is your coding experience?\n",
    "  * Familiarity with R, Python, Julia"
   ]
  },
  {
   "cell_type": "markdown",
   "id": "83e6a7d9-627f-450c-98da-df7fbb2558bc",
   "metadata": {
    "slideshow": {
     "slide_type": "fragment"
    }
   },
   "source": [
    "* Have you use Jupyter notebooks before?"
   ]
  },
  {
   "cell_type": "markdown",
   "id": "015c1673-4a58-44a2-93e7-63e685e118bb",
   "metadata": {
    "slideshow": {
     "slide_type": "fragment"
    },
    "tags": []
   },
   "source": [
    "* Have you used GitHub before?"
   ]
  },
  {
   "cell_type": "markdown",
   "id": "26340589-0410-42ca-91a9-4bb86be6927b",
   "metadata": {
    "slideshow": {
     "slide_type": "fragment"
    },
    "tags": []
   },
   "source": [
    "* What is your statistical background?"
   ]
  },
  {
   "cell_type": "markdown",
   "id": "c13376b3-f9eb-4307-804c-dd8a35dcb5fe",
   "metadata": {
    "slideshow": {
     "slide_type": "slide"
    },
    "tags": []
   },
   "source": [
    "# 3 Syllabus"
   ]
  },
  {
   "cell_type": "markdown",
   "id": "6ff609e0-053c-435d-bdf5-d7138bdb1eaa",
   "metadata": {
    "tags": []
   },
   "source": [
    "![Syllabus QR Code](./images/syllabus-2024-qr-code.png)"
   ]
  },
  {
   "cell_type": "markdown",
   "id": "6afa7177-d3a2-44f2-8af1-fdf325f06a47",
   "metadata": {
    "slideshow": {
     "slide_type": "fragment"
    }
   },
   "source": [
    "* [Link to Syllabus](https://docs.google.com/document/d/1J2KNnxOIlpfKJqbHL3M--6TY_LB5hWFmTyCtpL3qsg0/edit?usp=sharing)"
   ]
  },
  {
   "cell_type": "markdown",
   "id": "27669f21",
   "metadata": {
    "slideshow": {
     "slide_type": "slide"
    }
   },
   "source": [
    "# 4 Questions"
   ]
  },
  {
   "cell_type": "markdown",
   "id": "4737645f",
   "metadata": {
    "slideshow": {
     "slide_type": "fragment"
    }
   },
   "source": [
    "* [EdStem](https://edstem.org/us/courses/45691/discussion/)\n",
    "* Office Hours - Poll to be posted on EdStem\n",
    "* Email: ellen_duong1@brown.edu"
   ]
  },
  {
   "cell_type": "markdown",
   "id": "4b1df13e-0265-4248-b067-77e72e5e7400",
   "metadata": {
    "slideshow": {
     "slide_type": "slide"
    },
    "tags": []
   },
   "source": [
    "# 5 Setting up your environment"
   ]
  },
  {
   "cell_type": "markdown",
   "id": "e68b09d3",
   "metadata": {
    "slideshow": {
     "slide_type": "fragment"
    }
   },
   "source": [
    "* [Canvas](https://canvas.brown.edu/)"
   ]
  },
  {
   "cell_type": "markdown",
   "id": "3ab81597",
   "metadata": {
    "slideshow": {
     "slide_type": "fragment"
    }
   },
   "source": [
    "* [EdStem](https://edstem.org/us/courses/45691/discussion/)"
   ]
  },
  {
   "cell_type": "markdown",
   "id": "f81f31af-31a2-45b8-8d8f-89b71d32ecf6",
   "metadata": {
    "slideshow": {
     "slide_type": "fragment"
    }
   },
   "source": [
    "* [Github](https://github.com/)"
   ]
  },
  {
   "cell_type": "markdown",
   "id": "3ed03729-08d6-43a2-a8ef-95feacf41748",
   "metadata": {
    "slideshow": {
     "slide_type": "fragment"
    }
   },
   "source": [
    "* [JupyterHub](https://mpa2065.jupyter.brown.edu)"
   ]
  },
  {
   "cell_type": "markdown",
   "id": "3c8ecc09-ad4b-4314-8f92-9add552e1fb4",
   "metadata": {
    "slideshow": {
     "slide_type": "fragment"
    }
   },
   "source": [
    "* [Set Up Git in Jupyter Hub](https://docs.ccv.brown.edu/jupyterhub/git-basics/configure-git-and-github)"
   ]
  },
  {
   "cell_type": "markdown",
   "id": "2085d5fe-b800-4fe3-a043-31fef6a91458",
   "metadata": {
    "slideshow": {
     "slide_type": "slide"
    }
   },
   "source": [
    "# 5.1 Basic Git Commands"
   ]
  },
  {
   "cell_type": "markdown",
   "id": "f43b56e3-dd5c-4e60-b961-49468d323765",
   "metadata": {
    "slideshow": {
     "slide_type": "fragment"
    }
   },
   "source": [
    "| Action | Git Command |\n",
    "| -- | -- |\n",
    "| Check status | `git status` |\n",
    "| Add all files to staging | `git add --all` |\n",
    "| Remove file from staging | `git rm <filename>` |\n",
    "| Commit changes | `git commit -m '<commit message>'` |\n",
    "| Push changes | `git push` |\n",
    "| Clone a repo | `git clone <repo link>` |"
   ]
  }
 ],
 "metadata": {
  "celltoolbar": "Slideshow",
  "kernelspec": {
   "display_name": "R",
   "language": "R",
   "name": "ir"
  },
  "language_info": {
   "codemirror_mode": "r",
   "file_extension": ".r",
   "mimetype": "text/x-r-source",
   "name": "R",
   "pygments_lexer": "r",
   "version": "4.3.1"
  }
 },
 "nbformat": 4,
 "nbformat_minor": 5
}
