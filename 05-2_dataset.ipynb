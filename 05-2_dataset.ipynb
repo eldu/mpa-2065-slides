{
 "cells": [
  {
   "cell_type": "markdown",
   "id": "14e08352-8e08-4ad1-a8ca-44fa94bb7105",
   "metadata": {
    "tags": []
   },
   "source": [
    "# 05-2 Final Project Launch"
   ]
  },
  {
   "cell_type": "markdown",
   "id": "256fac6c-f708-4d56-a429-28bd9ae120e1",
   "metadata": {},
   "source": [
    "## Choose final project groups\n",
    "* 2-4 people per group\n",
    "* Think of some potential topic areas (e.g. climate, finance, policing, education)"
   ]
  },
  {
   "cell_type": "markdown",
   "id": "b6f30a32-6ed0-4fec-8976-d93af2fd3beb",
   "metadata": {},
   "source": [
    "## Approaching the final project\n",
    "* Choose a topic area\n",
    "* Find a dataset in that area\n",
    "* Develop some research questions from there"
   ]
  },
  {
   "cell_type": "markdown",
   "id": "5f6a6eb4-1332-4e62-bb18-f18c84c4b53f",
   "metadata": {
    "tags": []
   },
   "source": [
    "## Choosing a Dataset\n",
    "\n",
    "* [data.gov](https://data.gov/)\n",
    "* [kaggle](https://www.kaggle.com/datasets)\n",
    "* [Google's Dataset Search](https://datasetsearch.research.google.com/)\n",
    "* [RI Treasury Data](http://data.treasury.ri.gov/dataset)\n",
    "* [RI Department of Health Data](https://health.ri.gov/data/)\n",
    "* [Little Roady Autonomous Shuttle Data](https://ridot.municipal.systems/)"
   ]
  },
  {
   "cell_type": "markdown",
   "id": "11af269e-b25d-453b-a81e-50287baae06c",
   "metadata": {},
   "source": [
    "## Data Quality\n",
    "* Trust the data source?\n",
    "* Is the data accurate?\n",
    "  * There could be human error, typos, or unit inaccuracies. \n",
    "* Is the data complete?\n",
    "  * Check for null or missing values\n",
    "* Is the data reliable?\n",
    "* Is the data valid?\n",
    "  * Does the data fall within acceptable ranges or conform to specific criteria?\n",
    "* Is it up to date?"
   ]
  },
  {
   "cell_type": "markdown",
   "id": "95b43324-40bf-4a32-b7c9-4f362db0e672",
   "metadata": {},
   "source": [
    "## Policy Questions\n",
    "\n",
    "* Policy questions are focused on the action\n",
    "* Practical, not theoretical\n",
    "* Require an answer in the form of a statement on what should be done\n",
    "* Policy action should be informed and evidence-based\n"
   ]
  },
  {
   "cell_type": "markdown",
   "id": "69561614-8b69-411b-898e-c61f974e9ef9",
   "metadata": {
    "tags": []
   },
   "source": [
    "## Contructing a Policy Question\n",
    "* Problem Setting\n",
    "* Policy Formulation - Overarching goal and set of objectives for desired policy\n",
    "* Scenario Analysis\n",
    "* Decision Making\n",
    "\n",
    "[Table](https://05a0e658-0382-45bd-be34-80e9fa8750e9.filesusr.com/ugd/725ca8_81c6ac3313dc4023bd18ba9a1d5b1fd9.pdf)"
   ]
  },
  {
   "cell_type": "markdown",
   "id": "b6c5cc2d-7c5f-4935-8fb7-69225e816941",
   "metadata": {
    "tags": []
   },
   "source": [
    "## More Resources\n",
    "* [A Quick Guide to Policy Questions by Berkeley Law](https://www.law.berkeley.edu/wp-content/uploads/2021/06/A-Quick-Guide-to-Policy-Questions.pdf)\n",
    "* [The Research Question](https://politicalscienceguide.com/what-is-research/the-research-question-2/)"
   ]
  },
  {
   "cell_type": "code",
   "execution_count": null,
   "id": "babb3766-2dd6-45ec-94ba-2f7adfe572a1",
   "metadata": {},
   "outputs": [],
   "source": []
  }
 ],
 "metadata": {
  "kernelspec": {
   "display_name": "R",
   "language": "R",
   "name": "ir"
  },
  "language_info": {
   "codemirror_mode": "r",
   "file_extension": ".r",
   "mimetype": "text/x-r-source",
   "name": "R",
   "pygments_lexer": "r",
   "version": "4.3.1"
  }
 },
 "nbformat": 4,
 "nbformat_minor": 5
}
