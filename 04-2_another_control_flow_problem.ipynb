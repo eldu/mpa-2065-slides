{
 "cells": [
  {
   "cell_type": "markdown",
   "id": "4e9d7f5e",
   "metadata": {
    "slideshow": {
     "slide_type": "slide"
    }
   },
   "source": [
    "\n",
    "## Problem 1.\n",
    "\n",
    "\n",
    "\n",
    "The following iterative sequence is defined for the set of positive integers:\n",
    "\n",
    "    n → n/2 (n is even)\n",
    "    n → 3n + 1 (n is odd)\n",
    "\n",
    "Thus, using the rule above, and starting with 13, we generate the following sequence:\n",
    "    \n",
    "    13 → 40 → 20 → 10 → 5 → 16 → 8 → 4 → 2 → 1\n",
    "\n",
    "It can be seen that this sequence (starting at 13 and finishing at 1) contains 10 terms. Although it has not been proved yet (Collatz Conjecture), it is thought that _all_ starting numbers finish at 1.\n",
    "\n",
    "Which starting number, under one million, produces the longest chain?\n",
    "\n",
    "**Note**: Once the chain starts the terms in the sequence _are_ allowed to go above one million.\n"
   ]
  },
  {
   "cell_type": "code",
   "execution_count": null,
   "id": "19ffcb85",
   "metadata": {
    "slideshow": {
     "slide_type": "slide"
    }
   },
   "outputs": [],
   "source": [
    "next_hailstone_number <- function(n) {\n",
    "    # Fill in this function's body so that it returns \n",
    "    # the next number in the sequence. That is, if `n` \n",
    "    # is even, then we return `n/2` and if `n` is odd, then\n",
    "    # we return `3*n + 1`\n",
    "    if (n %% 2 == 0) {\n",
    "        return(n / 2)\n",
    "    } else {\n",
    "        return(3 * n + 1)\n",
    "    }\n",
    "}"
   ]
  },
  {
   "cell_type": "code",
   "execution_count": null,
   "id": "416b2650",
   "metadata": {},
   "outputs": [],
   "source": [
    "# These tests should all print `TRUE`\n",
    "\n",
    "next_hailstone_number(2) == 1          \n",
    "next_hailstone_number(4) == 2\n",
    "next_hailstone_number(13) == 40"
   ]
  },
  {
   "cell_type": "code",
   "execution_count": null,
   "id": "51554ae7",
   "metadata": {
    "slideshow": {
     "slide_type": "slide"
    }
   },
   "outputs": [],
   "source": [
    "hailstone_sequence <- function(n) {\n",
    "    # Create a vector called `sequence` that begins containing a single \n",
    "    # element `n`. Then use a while-loop that continues to  iterate while \n",
    "    # `n` is not equal to `1`. Recall that the `!=` operator is the \"not-equal-to\" \n",
    "    # operator. In the body of the while-loop we will do two things: (1.) use \n",
    "    # our `next_hailstone_number()` function to assign a new value to `n`, \n",
    "    # and (2.) use the `c()` to add our new `n` to end of the `sequence` vector. Note, \n",
    "    # this will be done by assigning `c(sequence, n)` to the existing `sequence` vector.\n",
    "    # Finally, we return the `sequence` vector.\n",
    "    \n",
    "    sequence <- c(n)\n",
    "    \n",
    "    while (n != 1) {\n",
    "        n <- next_hailstone_number(n)\n",
    "        sequence <- c(sequence, n)\n",
    "    }\n",
    "    \n",
    "    return(sequence)\n",
    "}\n"
   ]
  },
  {
   "cell_type": "code",
   "execution_count": null,
   "id": "0ffab5e9",
   "metadata": {},
   "outputs": [],
   "source": [
    "# These tests should all print `TRUE`\n",
    "\n",
    "hailstone_sequence(1) == 1\n",
    "hailstone_sequence(2) == c(2, 1)\n",
    "hailstone_sequence(3) == c(3, 10, 5, 16, 8, 4, 2, 1)\n",
    "hailstone_sequence(13) == c(13, 40, 20, 10, 5, 16, 8, 4, 2, 1)"
   ]
  },
  {
   "cell_type": "code",
   "execution_count": null,
   "id": "437f398c",
   "metadata": {
    "slideshow": {
     "slide_type": "slide"
    }
   },
   "outputs": [],
   "source": [
    "find_longest_sequence <- function(n_max) {\n",
    "    # We being by creating a vector of length `n_max` that we call `seq_lengths`. It \n",
    "    # will be filled with zeros. Recall this can be done using the `rep()` function. \n",
    "    # Next, we'll use a for-loop to iterate from `1` to `n_max`. In each iteration of \n",
    "    # the loop we will perform two operations: (1.) we will use our `hailstone_sequence()` \n",
    "    # function on the current value of `i` and store the resulting sequence in a vector we \n",
    "    # will call `seq`, and (2.) we'll use the `length()` function on the `seq` vector, and \n",
    "    # store the result as the i-ith element in our `seq_length` vector. Finally, after the\n",
    "    # for-loop has completed, we will use the `which.max()` function that is built in to R \n",
    "    # to get the position of the largest element in the vector. Let's store that in a \n",
    "    # variable named `solution`, and then return that object.\n",
    "    \n",
    "    seq_length <- rep(0, n_max)\n",
    "    \n",
    "    for (i in 1:n_max) {\n",
    "        seq <- hailstone_sequence(i)\n",
    "        seq_length[i] <- length(seq)\n",
    "    }  \n",
    "    \n",
    "    solution <- which.max(seq_length) # figure out how to use this\n",
    "    return(solution)\n",
    "}"
   ]
  },
  {
   "cell_type": "code",
   "execution_count": null,
   "id": "36ede91d",
   "metadata": {},
   "outputs": [],
   "source": [
    "# These tests should all print `TRUE`\n",
    "find_longest_sequence(100) == 97\n",
    "find_longest_sequence(1000) == 871\n",
    "find_longest_sequence(10000) == 6171"
   ]
  },
  {
   "cell_type": "code",
   "execution_count": null,
   "id": "04036611-0caa-4716-b41f-75baa7ac1efe",
   "metadata": {},
   "outputs": [],
   "source": []
  }
 ],
 "metadata": {
  "@webio": {
   "lastCommId": null,
   "lastKernelId": null
  },
  "celltoolbar": "Slideshow",
  "kernelspec": {
   "display_name": "R",
   "language": "R",
   "name": "ir"
  },
  "language_info": {
   "codemirror_mode": "r",
   "file_extension": ".r",
   "mimetype": "text/x-r-source",
   "name": "R",
   "pygments_lexer": "r",
   "version": "4.3.1"
  }
 },
 "nbformat": 4,
 "nbformat_minor": 5
}
