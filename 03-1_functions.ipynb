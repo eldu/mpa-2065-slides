{
 "cells": [
  {
   "cell_type": "markdown",
   "metadata": {
    "slideshow": {
     "slide_type": "slide"
    }
   },
   "source": [
    "<center><h1>Defining Functions in R</h1></center>\n",
    "<center><h3>Ellen Duong</h3></center>\n",
    "<center><h3>August Guang</h3></center>\n",
    "<center><h3>Paul Stey</h3></center>"
   ]
  },
  {
   "cell_type": "markdown",
   "metadata": {
    "slideshow": {
     "slide_type": "slide"
    }
   },
   "source": [
    "# 0.1 Review Unix (Terminal) Commands\n",
    "\n",
    "| Command | Description |\n",
    "| --- | --- |\n",
    "| cd | Change Directory |\n",
    "| ls | Lists the files and folders in the current directory |\n",
    "| pwd | Displays the full path of the current working directory |"
   ]
  },
  {
   "cell_type": "markdown",
   "metadata": {
    "slideshow": {
     "slide_type": "slide"
    }
   },
   "source": [
    "# Relative Paths\n",
    "\n",
    "Example Full Path: \"/Users/ellen/Documents/Projects/mpa2065-fall2023-assignments/homework-3\"\n",
    "\n",
    "| Path | Description | Result |\n",
    "| --- | --- | --- | \n",
    "| . | Current directory | \"/Users/ellen/Documents/Projects/mpa2065-fall2023-assignments/homework-3\" |\n",
    "| .. | Parent directory | \"/Users/ellen/Documents/Projects/mpa2065-fall2023-assignments\" |\n",
    "| ../../ | Grand-parent directory | \"/Users/ellen/Documents/Projects\" |"
   ]
  },
  {
   "cell_type": "markdown",
   "metadata": {
    "slideshow": {
     "slide_type": "slide"
    }
   },
   "source": [
    "# 0.2 Review Arthmetic Operators\n",
    "\n",
    "| Operator | Description | Example |\n",
    "| --- | --- | --- |\n",
    "| + | Addition | a + b |\n",
    "| - | Subtraction | a - b |\n",
    "| * | Multiplication | a * b |\n",
    "| / | Division | a / b |\n",
    "| ^ | Exponent | a ^ b |\n",
    "| %% | Modulus | a %% b |"
   ]
  },
  {
   "cell_type": "markdown",
   "metadata": {
    "slideshow": {
     "slide_type": "slide"
    }
   },
   "source": [
    "# 1. Functions in R\n",
    "  - Small, re-usable code chunks\n",
    "  - Take some input (arguments) and return some output \n",
    "    + Thus, similar to functions in mathematical sense"
   ]
  },
  {
   "cell_type": "markdown",
   "metadata": {
    "slideshow": {
     "slide_type": "subslide"
    }
   },
   "source": [
    "## 1.1 R Built-in Functions Examples\n",
    "\n",
    "  - `print()`\n",
    "  - `c()`\n",
    "  - `mean()`"
   ]
  },
  {
   "cell_type": "code",
   "execution_count": null,
   "metadata": {
    "slideshow": {
     "slide_type": "fragment"
    }
   },
   "outputs": [],
   "source": [
    "print(\"hey buddy!\")            # the \"hey buddy!\" is the argument passed to `print()`"
   ]
  },
  {
   "cell_type": "code",
   "execution_count": null,
   "metadata": {
    "slideshow": {
     "slide_type": "fragment"
    }
   },
   "outputs": [],
   "source": [
    "v <- c(4, 137, 151)            # pass 3 integers to c() function\n",
    "\n",
    "print(v)                       # pass `v` to print()"
   ]
  },
  {
   "cell_type": "markdown",
   "metadata": {
    "slideshow": {
     "slide_type": "subslide"
    }
   },
   "source": [
    "## 1.1.1 Functions with Optional Arguments"
   ]
  },
  {
   "cell_type": "code",
   "execution_count": null,
   "metadata": {
    "slideshow": {
     "slide_type": "fragment"
    }
   },
   "outputs": [],
   "source": [
    "v <- c(2, 5, 7)\n",
    "\n",
    "mean(v)"
   ]
  },
  {
   "cell_type": "code",
   "execution_count": null,
   "metadata": {
    "slideshow": {
     "slide_type": "fragment"
    }
   },
   "outputs": [],
   "source": [
    "u <- c(4, 5, NA)\n",
    "\n",
    "mean(u)"
   ]
  },
  {
   "cell_type": "code",
   "execution_count": null,
   "metadata": {
    "slideshow": {
     "slide_type": "fragment"
    }
   },
   "outputs": [],
   "source": [
    "mean(u, na.rm = TRUE)"
   ]
  },
  {
   "cell_type": "markdown",
   "metadata": {
    "slideshow": {
     "slide_type": "subslide"
    }
   },
   "source": [
    "# 2. Defining a Function\n",
    "\n",
    "  - Why?  \n",
    "    + Modularity, code clarity, re-usability, scope cleanliness\n",
    "    "
   ]
  },
  {
   "cell_type": "code",
   "execution_count": null,
   "metadata": {
    "slideshow": {
     "slide_type": "fragment"
    }
   },
   "outputs": [],
   "source": [
    "# Below we define a function that takes a single argument \n",
    "# which we call `n` and then returns the sum of `n` and 2\n",
    "\n",
    "add_two <- function(n) {\n",
    "    z <- n + 2\n",
    "    return(z)\n",
    "}"
   ]
  },
  {
   "cell_type": "code",
   "execution_count": null,
   "metadata": {
    "slideshow": {
     "slide_type": "fragment"
    }
   },
   "outputs": [],
   "source": [
    "bar <- 5021\n",
    "\n",
    "a <- add_two(bar)             # call our newly created function\n",
    "\n",
    "print(a)"
   ]
  },
  {
   "cell_type": "code",
   "execution_count": null,
   "metadata": {
    "slideshow": {
     "slide_type": "fragment"
    }
   },
   "outputs": [],
   "source": [
    "w <- add_two(137)\n",
    "\n",
    "print(w)"
   ]
  },
  {
   "cell_type": "markdown",
   "metadata": {
    "slideshow": {
     "slide_type": "subslide"
    }
   },
   "source": [
    "## 2.1 Defining a More Interesting Function\n",
    "  - Functions can have many arguments\n",
    "  - And even a variable-number of arguments"
   ]
  },
  {
   "cell_type": "code",
   "execution_count": null,
   "metadata": {
    "slideshow": {
     "slide_type": "fragment"
    }
   },
   "outputs": [],
   "source": [
    "area_of_square <- function(length, width) {\n",
    "    area <- length * width\n",
    "    return(area)\n",
    "}"
   ]
  },
  {
   "cell_type": "code",
   "execution_count": null,
   "metadata": {
    "slideshow": {
     "slide_type": "fragment"
    }
   },
   "outputs": [],
   "source": [
    "area_of_square(4, 5)         # run our newly-defined function"
   ]
  },
  {
   "cell_type": "code",
   "execution_count": null,
   "metadata": {
    "slideshow": {
     "slide_type": "fragment"
    }
   },
   "outputs": [],
   "source": [
    "# Returns a vector of strings containing all of the variables and functions defined in the current working directory\n",
    "ls()"
   ]
  },
  {
   "cell_type": "markdown",
   "metadata": {
    "slideshow": {
     "slide_type": "subslide"
    }
   },
   "source": [
    " ## 2.2 Functions with Default Values"
   ]
  },
  {
   "cell_type": "code",
   "execution_count": null,
   "metadata": {
    "slideshow": {
     "slide_type": "-"
    }
   },
   "outputs": [],
   "source": [
    "area_of_circle <- function(radius = 1) {\n",
    "    \n",
    "    area <- pi * radius^2\n",
    "    \n",
    "    return(area)\n",
    "}"
   ]
  },
  {
   "cell_type": "code",
   "execution_count": null,
   "metadata": {
    "slideshow": {
     "slide_type": "fragment"
    }
   },
   "outputs": [],
   "source": [
    "area_of_circle()       # call our function without `radius` argument"
   ]
  },
  {
   "cell_type": "code",
   "execution_count": null,
   "metadata": {
    "slideshow": {
     "slide_type": "fragment"
    }
   },
   "outputs": [],
   "source": [
    "area_of_circle(3)      # call function with `radius` equal to 3"
   ]
  },
  {
   "cell_type": "markdown",
   "metadata": {
    "slideshow": {
     "slide_type": "slide"
    },
    "tags": []
   },
   "source": [
    "## 2.3 Function Scope\n",
    "* A *local variable* is a variable in a given local scope (i.e. inside a function).\n",
    "* A *global variable* is a variable defined outside of a function\n",
    "* A *free variable* is a variable searched for in the environment that the function is defined."
   ]
  },
  {
   "cell_type": "code",
   "execution_count": null,
   "metadata": {
    "slideshow": {
     "slide_type": "slide"
    },
    "tags": []
   },
   "outputs": [],
   "source": [
    "a <- 5 # a is a global variable\n",
    "\n",
    "f <- function(x, y) {\n",
    "    # x and y are local variables that exist in the function body\n",
    "    x^2 + y / z  # z is a free variable\n",
    " }"
   ]
  },
  {
   "cell_type": "markdown",
   "metadata": {
    "slideshow": {
     "slide_type": "slide"
    }
   },
   "source": [
    "## 2.4 Function Scope -- Best Practices\n",
    "* To maintain modularity, a function should be given all the variables it needs as arguments.\n",
    "* Free variables are discouraged because they are hard to track down in code\n",
    "* When updating global variables, best practice is to use an assignment operator in it's largest scope. For example"
   ]
  },
  {
   "cell_type": "code",
   "execution_count": null,
   "metadata": {
    "slideshow": {
     "slide_type": "slide"
    },
    "tags": []
   },
   "outputs": [],
   "source": [
    "a <- 5 # Global Variable\n",
    "\n",
    "f <- function(x, y) {\n",
    "    return(x + y) # Returns x + y, with no mention of `a`. \n",
    "}\n",
    "a <- f(a, 2) # Update `a` as a result of the function\n",
    "\n",
    "print(a)"
   ]
  },
  {
   "cell_type": "markdown",
   "metadata": {
    "slideshow": {
     "slide_type": "slide"
    }
   },
   "source": [
    "## 2.5 Variable Shadowing\n",
    "Variable shadowing occurs when a variable is declared in a certain scope has the same name as a variable declared in an outer scope."
   ]
  },
  {
   "cell_type": "code",
   "execution_count": 2,
   "metadata": {
    "slideshow": {
     "slide_type": "subslide"
    },
    "tags": []
   },
   "outputs": [
    {
     "name": "stdout",
     "output_type": "stream",
     "text": [
      "[1] \"before assignment in inner: 1\"\n",
      "[1] \"inner: 2\"\n",
      "[1] \"outer: 1\"\n",
      "[1] \"global: 0\"\n"
     ]
    }
   ],
   "source": [
    "x <- 0 # Global Variable\n",
    "\n",
    "outer <- function() {\n",
    "    x <- 1 # outer x\n",
    "    \n",
    "    inner <- function() {\n",
    "        # print(paste(\"before assignment in inner:\", x))\n",
    "        \n",
    "        x <- 2 # inner x\n",
    "        print(paste(\"inner:\", x))\n",
    "    }\n",
    "    \n",
    "    inner() # Call function inner\n",
    "    \n",
    "    print(paste(\"outer:\", x))\n",
    "}\n",
    "\n",
    "outer() # Call function outer\n",
    "print(paste(\"global:\", x))"
   ]
  },
  {
   "cell_type": "markdown",
   "metadata": {
    "slideshow": {
     "slide_type": "slide"
    }
   },
   "source": [
    "<center><h1>Challenge Problem</h1></center>"
   ]
  },
  {
   "cell_type": "markdown",
   "metadata": {
    "slideshow": {
     "slide_type": "-"
    }
   },
   "source": [
    "In this problem we will write a function that computes the Euclidean (i.e., $L^2$) norm of a `vector` object. Recall the formula for the Euclidean norms below. \n",
    "\n",
    "Let's write a function called `l2_norm()` that takes a single argument, a vector, `v`, and computes the $L^2$ norm of that vector. The formula below describes the computation that our function should complete. Note that we will likely want to use the `sum()` and `sqrt()` functions as part of our function.  \n",
    "\n",
    "$$ \\left\\| v \\right\\|_2 = \\sqrt{v_1^2 + v_2^2 + v_3^2 + ... + v_n^2} $$"
   ]
  },
  {
   "cell_type": "code",
   "execution_count": 10,
   "metadata": {},
   "outputs": [],
   "source": [
    "l2_norm <- function(v) {\n",
    "    return(sqrt(sum(v ^ 2)))\n",
    "}"
   ]
  }
 ],
 "metadata": {
  "@webio": {
   "lastCommId": null,
   "lastKernelId": null
  },
  "celltoolbar": "Slideshow",
  "kernelspec": {
   "display_name": "R",
   "language": "R",
   "name": "ir"
  },
  "language_info": {
   "codemirror_mode": "r",
   "file_extension": ".r",
   "mimetype": "text/x-r-source",
   "name": "R",
   "pygments_lexer": "r",
   "version": "4.3.1"
  }
 },
 "nbformat": 4,
 "nbformat_minor": 4
}
