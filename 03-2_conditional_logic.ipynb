{
 "cells": [
  {
   "cell_type": "markdown",
   "metadata": {
    "slideshow": {
     "slide_type": "slide"
    }
   },
   "source": [
    "<center><h1>Conditional Logic in R</h1></center>\n",
    "<center><h3>Ellen Duong</h3></center>\n",
    "<center><h3>August Guang</h3></center>\n",
    "<center><h3>Paul Stey</h3></center>"
   ]
  },
  {
   "cell_type": "markdown",
   "metadata": {
    "slideshow": {
     "slide_type": "slide"
    }
   },
   "source": [
    "# 0. Comparison Operators\n",
    "Used to compare two values"
   ]
  },
  {
   "cell_type": "markdown",
   "metadata": {
    "slideshow": {
     "slide_type": "subslide"
    }
   },
   "source": [
    "| Operator | Description | Example |\n",
    "| --- | --- | --- |\n",
    "| == | Equal to | a == b |\n",
    "| != | Not equal | a != b |\n",
    "| > | Greater than | a > b |\n",
    "| < | Less than | a < b |\n",
    "| >= | Greater than or equal to | a >= b |\n",
    "| <= | Less than or equal to | a <= b |"
   ]
  },
  {
   "cell_type": "markdown",
   "metadata": {
    "slideshow": {
     "slide_type": "slide"
    }
   },
   "source": [
    "# 0.1 Logical Operators\n",
    "Used to combine conditional statements"
   ]
  },
  {
   "cell_type": "markdown",
   "metadata": {
    "slideshow": {
     "slide_type": "slide"
    }
   },
   "source": [
    "AND - return TRUE when both conditions are TRUE\n",
    "\n",
    "| P | Q | P AND Q |\n",
    "| --- | --- | --- |\n",
    "| 0 | 0 | 0 |\n",
    "| 0 | 1 | 0 |\n",
    "| 1 | 0 | 0 |\n",
    "| 1 | 1 | 1 |"
   ]
  },
  {
   "cell_type": "markdown",
   "metadata": {
    "slideshow": {
     "slide_type": "slide"
    }
   },
   "source": [
    "OR - return TRUE when either condition is TRUE\n",
    "\n",
    "| P | Q | P OR Q |\n",
    "| --- | --- | --- |\n",
    "| 0 | 0 | 0 |\n",
    "| 0 | 1 | 1 |\n",
    "| 1 | 0 | 1 |\n",
    "| 1 | 1 | 1 |"
   ]
  },
  {
   "cell_type": "markdown",
   "metadata": {
    "slideshow": {
     "slide_type": "slide"
    }
   },
   "source": [
    "NOT - return TRUE when the condition is FALSE\n",
    "\n",
    "| P | NOT P |\n",
    "| --- | --- |\n",
    "| 0 | 1 | \n",
    "| 1 | 0 |"
   ]
  },
  {
   "cell_type": "markdown",
   "metadata": {
    "slideshow": {
     "slide_type": "slide"
    }
   },
   "source": [
    "## 0.2 Combining Logical Operators\n",
    "\n",
    "In groups of 2, work on combining logical operators\n",
    "\n",
    "https://tinyurl.com/mpa2065-fa2023-br-3"
   ]
  },
  {
   "cell_type": "markdown",
   "metadata": {
    "slideshow": {
     "slide_type": "slide"
    }
   },
   "source": [
    "## Logical Operators in R\n",
    "\n",
    "| Operator | Description |\n",
    "| --- | --- |\n",
    "| & | Element-wise logical AND |\n",
    "| && | Logical AND. Compares two logical expressions and returns TRUE if both statements are TRUE | \n",
    "| &#124; | Element-wise logical OR |\n",
    "| &#124; &#124; | Logical OR. Compares two logical expressions and returns TRUE if one of the statement is TRUE |\n",
    "| ! | Logical NOT. Returns FALSE is the statement is TRUE |"
   ]
  },
  {
   "cell_type": "code",
   "execution_count": 21,
   "metadata": {
    "tags": []
   },
   "outputs": [
    {
     "data": {
      "text/html": [
       "<style>\n",
       ".list-inline {list-style: none; margin:0; padding: 0}\n",
       ".list-inline>li {display: inline-block}\n",
       ".list-inline>li:not(:last-child)::after {content: \"\\00b7\"; padding: 0 .5ex}\n",
       "</style>\n",
       "<ol class=list-inline><li>TRUE</li><li>FALSE</li><li>FALSE</li></ol>\n"
      ],
      "text/latex": [
       "\\begin{enumerate*}\n",
       "\\item TRUE\n",
       "\\item FALSE\n",
       "\\item FALSE\n",
       "\\end{enumerate*}\n"
      ],
      "text/markdown": [
       "1. TRUE\n",
       "2. FALSE\n",
       "3. FALSE\n",
       "\n",
       "\n"
      ],
      "text/plain": [
       "[1]  TRUE FALSE FALSE"
      ]
     },
     "metadata": {},
     "output_type": "display_data"
    }
   ],
   "source": [
    "c(TRUE, FALSE, TRUE) & c(TRUE, TRUE, FALSE)"
   ]
  },
  {
   "cell_type": "code",
   "execution_count": 22,
   "metadata": {
    "tags": []
   },
   "outputs": [
    {
     "name": "stdout",
     "output_type": "stream",
     "text": [
      "[1] FALSE FALSE  TRUE\n"
     ]
    }
   ],
   "source": [
    "a <- c(1, 2, 3) > 2\n",
    "print(a)"
   ]
  },
  {
   "cell_type": "code",
   "execution_count": 23,
   "metadata": {
    "tags": []
   },
   "outputs": [
    {
     "name": "stdout",
     "output_type": "stream",
     "text": [
      "[1]  TRUE FALSE FALSE\n"
     ]
    }
   ],
   "source": [
    "b <- c(3, 4, 5) < 4\n",
    "print(b)"
   ]
  },
  {
   "cell_type": "code",
   "execution_count": 24,
   "metadata": {
    "tags": []
   },
   "outputs": [
    {
     "data": {
      "text/html": [
       "<style>\n",
       ".list-inline {list-style: none; margin:0; padding: 0}\n",
       ".list-inline>li {display: inline-block}\n",
       ".list-inline>li:not(:last-child)::after {content: \"\\00b7\"; padding: 0 .5ex}\n",
       "</style>\n",
       "<ol class=list-inline><li>FALSE</li><li>FALSE</li><li>FALSE</li></ol>\n"
      ],
      "text/latex": [
       "\\begin{enumerate*}\n",
       "\\item FALSE\n",
       "\\item FALSE\n",
       "\\item FALSE\n",
       "\\end{enumerate*}\n"
      ],
      "text/markdown": [
       "1. FALSE\n",
       "2. FALSE\n",
       "3. FALSE\n",
       "\n",
       "\n"
      ],
      "text/plain": [
       "[1] FALSE FALSE FALSE"
      ]
     },
     "metadata": {},
     "output_type": "display_data"
    }
   ],
   "source": [
    "a & b"
   ]
  },
  {
   "cell_type": "code",
   "execution_count": 25,
   "metadata": {
    "tags": []
   },
   "outputs": [
    {
     "name": "stderr",
     "output_type": "stream",
     "text": [
      "Warning message in a && b:\n",
      "“'length(x) = 3 > 1' in coercion to 'logical(1)'”\n"
     ]
    },
    {
     "data": {
      "text/html": [
       "FALSE"
      ],
      "text/latex": [
       "FALSE"
      ],
      "text/markdown": [
       "FALSE"
      ],
      "text/plain": [
       "[1] FALSE"
      ]
     },
     "metadata": {},
     "output_type": "display_data"
    }
   ],
   "source": [
    "# Warning message in a && b:\n",
    "# “'length(x) = 3 > 1' in coercion to 'logical(1)'”\n",
    "a && b"
   ]
  },
  {
   "cell_type": "markdown",
   "metadata": {
    "tags": []
   },
   "source": [
    "## Order of Operations - Logical Operators\n",
    "\n",
    "The following is the order of operations from highest priority to lowest priority, use parentheses as necessary\n",
    "\n",
    "| Operator | Description |\n",
    "| --- | --- |\n",
    "| ! | Logical NOT |\n",
    "| &, && | Logical AND |\n",
    "| &#124;, &#124; &#124; | Logical OR |"
   ]
  },
  {
   "cell_type": "markdown",
   "metadata": {
    "slideshow": {
     "slide_type": "slide"
    }
   },
   "source": [
    "# 1. The `if` Statement\n",
    "\n",
    " - The `if` statement lets us execute code given that a condition is true. \n",
    " - Similar to many other languages and tools (e.g., Excel)"
   ]
  },
  {
   "cell_type": "code",
   "execution_count": 26,
   "metadata": {
    "slideshow": {
     "slide_type": "fragment"
    }
   },
   "outputs": [
    {
     "name": "stdout",
     "output_type": "stream",
     "text": [
      "[1] \"yep!!\"\n",
      "[1] 555\n"
     ]
    }
   ],
   "source": [
    "if (5 > 4) {\n",
    "    print(\"yep!!\")\n",
    "    x <- 555\n",
    "    print(x)\n",
    "}"
   ]
  },
  {
   "cell_type": "code",
   "execution_count": 27,
   "metadata": {
    "slideshow": {
     "slide_type": "fragment"
    }
   },
   "outputs": [
    {
     "name": "stdout",
     "output_type": "stream",
     "text": [
      "[1] \"Yes, this is a vector of length 3! Hooray!!\"\n"
     ]
    }
   ],
   "source": [
    "x <- c(\"foo\", \"bar\", \"baz\")\n",
    "\n",
    "if (length(x) == 3) {\n",
    "    print(\"Yes, this is a vector of length 3! Hooray!!\")\n",
    "}"
   ]
  },
  {
   "cell_type": "markdown",
   "metadata": {
    "slideshow": {
     "slide_type": "subslide"
    }
   },
   "source": [
    "## 1.1 When `if` \"fails\" "
   ]
  },
  {
   "cell_type": "code",
   "execution_count": 28,
   "metadata": {
    "slideshow": {
     "slide_type": "fragment"
    }
   },
   "outputs": [],
   "source": [
    "if (\"potato\" == \"fries\") {\n",
    "    print(\"you will never see this print\")      # this never gets executed\n",
    "}"
   ]
  },
  {
   "cell_type": "markdown",
   "metadata": {
    "slideshow": {
     "slide_type": "subslide"
    }
   },
   "source": [
    "## 1.2 Using `&&` to Test Multiple Conditions"
   ]
  },
  {
   "cell_type": "code",
   "execution_count": 31,
   "metadata": {
    "slideshow": {
     "slide_type": "fragment"
    }
   },
   "outputs": [
    {
     "name": "stdout",
     "output_type": "stream",
     "text": [
      "[1] 171\n"
     ]
    }
   ],
   "source": [
    "z <- 171\n",
    "\n",
    "if (z > 10 && z %% 2 != 0) {\n",
    "    print(z)\n",
    "}"
   ]
  },
  {
   "cell_type": "markdown",
   "metadata": {
    "slideshow": {
     "slide_type": "slide"
    }
   },
   "source": [
    "# 2. The `else` Statement\n",
    "  - `else` gives us a way to execute code when `if` block doesn't get executed"
   ]
  },
  {
   "cell_type": "code",
   "execution_count": 32,
   "metadata": {
    "slideshow": {
     "slide_type": "fragment"
    }
   },
   "outputs": [
    {
     "name": "stdout",
     "output_type": "stream",
     "text": [
      "[1] \"both are delicious\"\n",
      " [1]  0.203588116 -0.004069187 -0.544309143  0.604663966 -0.920926788\n",
      " [6] -0.598511931 -0.992327171  0.420509953  0.389283796 -0.030583657\n"
     ]
    }
   ],
   "source": [
    "if (\"potato\" == \"fries\") {\n",
    "    print(\"you will never see this print\")      # this never gets executed\n",
    "} else {\n",
    "    print(\"both are delicious\")                 # this DOES get executec\n",
    "    v <- rnorm(10)\n",
    "    print(v)\n",
    "}       "
   ]
  },
  {
   "cell_type": "markdown",
   "metadata": {
    "slideshow": {
     "slide_type": "subslide"
    }
   },
   "source": [
    "## 2.1 Combining `else` and `if`\n",
    "  - We can use `else` and `if` together in sequence "
   ]
  },
  {
   "cell_type": "code",
   "execution_count": 33,
   "metadata": {
    "slideshow": {
     "slide_type": "fragment"
    }
   },
   "outputs": [
    {
     "name": "stdout",
     "output_type": "stream",
     "text": [
      "[1] \"jefferson\"\n"
     ]
    }
   ],
   "source": [
    "coin_value <- 5\n",
    "\n",
    "if (coin_value == 25) {\n",
    "    print(\"washington\")\n",
    "} else if (coin_value == 10) {\n",
    "    print(\"fdr\")\n",
    "} else if (coin_value == 5) {\n",
    "    print(\"jefferson\")\n",
    "} else {\n",
    "    print(\"lincoln\")\n",
    "}"
   ]
  },
  {
   "cell_type": "markdown",
   "metadata": {
    "slideshow": {
     "slide_type": "slide"
    }
   },
   "source": [
    "# 3. Using `if` and `else` in Functions\n",
    "\n",
    "  - Like most other language features, `if` and `else` can be used in fuctions"
   ]
  },
  {
   "cell_type": "code",
   "execution_count": 34,
   "metadata": {
    "slideshow": {
     "slide_type": "fragment"
    }
   },
   "outputs": [],
   "source": [
    "is_even <- function(n) {\n",
    "    \n",
    "    if (n %% 2 == 0) {       # Use `%%` to check if n/2 has remainder equal to 0\n",
    "        res <- TRUE \n",
    "    } else {\n",
    "        res <- FALSE \n",
    "    }\n",
    "    return(res)\n",
    "}"
   ]
  },
  {
   "cell_type": "code",
   "execution_count": 36,
   "metadata": {
    "tags": []
   },
   "outputs": [],
   "source": [
    "is_even <- function(n) {\n",
    "    return(n %% 2 == 0)\n",
    "}"
   ]
  },
  {
   "cell_type": "code",
   "execution_count": 37,
   "metadata": {
    "slideshow": {
     "slide_type": "fragment"
    }
   },
   "outputs": [
    {
     "data": {
      "text/html": [
       "TRUE"
      ],
      "text/latex": [
       "TRUE"
      ],
      "text/markdown": [
       "TRUE"
      ],
      "text/plain": [
       "[1] TRUE"
      ]
     },
     "metadata": {},
     "output_type": "display_data"
    }
   ],
   "source": [
    "is_even(1234)                 # use our newly defined function"
   ]
  },
  {
   "cell_type": "markdown",
   "metadata": {
    "slideshow": {
     "slide_type": "subslide"
    }
   },
   "source": [
    "## 3.1 Nesting `if` Statements\n",
    " \n",
    " - We can also nest our `if` statments in other `if` statements"
   ]
  },
  {
   "cell_type": "code",
   "execution_count": 38,
   "metadata": {
    "slideshow": {
     "slide_type": "fragment"
    }
   },
   "outputs": [
    {
     "ename": "ERROR",
     "evalue": "Error in n%%2: non-numeric argument to binary operator\n",
     "output_type": "error",
     "traceback": [
      "Error in n%%2: non-numeric argument to binary operator\nTraceback:\n",
      "1. is_even(\"potato\")"
     ]
    }
   ],
   "source": [
    "is_even(\"potato\")           # is the string \"potato\" even? "
   ]
  },
  {
   "cell_type": "markdown",
   "metadata": {
    "slideshow": {
     "slide_type": "subslide"
    }
   },
   "source": [
    "### 3.1.1 Solve \"Potato Problem\"\n",
    " - Recal our original `is_even()` function"
   ]
  },
  {
   "cell_type": "code",
   "execution_count": 39,
   "metadata": {
    "slideshow": {
     "slide_type": "fragment"
    }
   },
   "outputs": [],
   "source": [
    "is_even <- function(n) {\n",
    "    \n",
    "    if (is.numeric(n)) {\n",
    "        if (n %% 2 == 0) {       # Use `%%` to check if n/2 has remainder equal to 0\n",
    "            res <- TRUE \n",
    "        } else {\n",
    "            res <- FALSE \n",
    "        }\n",
    "    } else {\n",
    "        res <- \"Are you sure n is numeric?\"\n",
    "    }\n",
    "    return(res)\n",
    "}"
   ]
  },
  {
   "cell_type": "code",
   "execution_count": 40,
   "metadata": {
    "slideshow": {
     "slide_type": "fragment"
    }
   },
   "outputs": [
    {
     "data": {
      "text/html": [
       "'Are you sure n is numeric?'"
      ],
      "text/latex": [
       "'Are you sure n is numeric?'"
      ],
      "text/markdown": [
       "'Are you sure n is numeric?'"
      ],
      "text/plain": [
       "[1] \"Are you sure n is numeric?\""
      ]
     },
     "metadata": {},
     "output_type": "display_data"
    }
   ],
   "source": [
    "is_even(\"potato soup\")"
   ]
  },
  {
   "cell_type": "markdown",
   "metadata": {
    "slideshow": {
     "slide_type": "slide"
    }
   },
   "source": [
    "<center><h1>Challenge Problems</h1></center>"
   ]
  },
  {
   "cell_type": "markdown",
   "metadata": {
    "slideshow": {
     "slide_type": "-"
    }
   },
   "source": [
    "## Question 1\n",
    "Use the ```sample()``` function to create a vector of 15 integers. Use this to create a 5-by-3 matrix (i.e., 5 rows, 3 columns). Call this matrix ```mat1```. \n",
    "\n",
    "Now, use boolean indexing to create a matrix ```mat2``` that includes only the rows from ```mat1``` that have a value greater than ```5``` in column 3. As a hint for this portion, recall that we can create a vector of booleans using ```mat1[, 3] > 5```.\n",
    "\n"
   ]
  },
  {
   "cell_type": "code",
   "execution_count": 49,
   "metadata": {
    "tags": []
   },
   "outputs": [
    {
     "name": "stdout",
     "output_type": "stream",
     "text": [
      "     [,1] [,2] [,3]\n",
      "[1,]   14   13    8\n",
      "[2,]    2    6    5\n",
      "[3,]   12    4    1\n",
      "[4,]   11    9   10\n",
      "[5,]    3   15    7\n",
      "[1] \"----\"\n",
      "[1]  TRUE FALSE FALSE  TRUE  TRUE\n",
      "     [,1] [,2] [,3]\n",
      "[1,]   14   13    8\n",
      "[2,]   11    9   10\n",
      "[3,]    3   15    7\n"
     ]
    }
   ],
   "source": [
    "v <- sample(15)\n",
    "mat1 <- matrix(v, nrow=5, ncol=3)\n",
    "print(mat1)\n",
    "print(\"----\")\n",
    "\n",
    "temp <- mat1[, 3] > 5\n",
    "print(temp)\n",
    "\n",
    "mat2 <- mat1[temp, ]\n",
    "print(mat2)"
   ]
  },
  {
   "cell_type": "markdown",
   "metadata": {
    "slideshow": {
     "slide_type": "-"
    }
   },
   "source": [
    "## Question 2\n",
    "Write a function that calculates the hypotenuse of a right triangle. Let's call the function ```hypotenuse()```. Recall that the formula for the hypotenuse of a right triangle is $\\sqrt{a^{2} + b^{2}}$, where $a$ and $b$ are the legs of the triangle.\n"
   ]
  },
  {
   "cell_type": "code",
   "execution_count": 50,
   "metadata": {},
   "outputs": [],
   "source": [
    "hypotenuse <- function(a, b) {\n",
    "    return(sqrt(a^2 + b^2))\n",
    "}"
   ]
  },
  {
   "cell_type": "code",
   "execution_count": 51,
   "metadata": {
    "tags": []
   },
   "outputs": [
    {
     "data": {
      "text/html": [
       "2.23606797749979"
      ],
      "text/latex": [
       "2.23606797749979"
      ],
      "text/markdown": [
       "2.23606797749979"
      ],
      "text/plain": [
       "[1] 2.236068"
      ]
     },
     "metadata": {},
     "output_type": "display_data"
    }
   ],
   "source": [
    "hypotenuse(1, 2)"
   ]
  },
  {
   "cell_type": "code",
   "execution_count": null,
   "metadata": {},
   "outputs": [],
   "source": []
  }
 ],
 "metadata": {
  "@webio": {
   "lastCommId": null,
   "lastKernelId": null
  },
  "celltoolbar": "Slideshow",
  "kernelspec": {
   "display_name": "R",
   "language": "R",
   "name": "ir"
  },
  "language_info": {
   "codemirror_mode": "r",
   "file_extension": ".r",
   "mimetype": "text/x-r-source",
   "name": "R",
   "pygments_lexer": "r",
   "version": "4.3.1"
  }
 },
 "nbformat": 4,
 "nbformat_minor": 4
}
