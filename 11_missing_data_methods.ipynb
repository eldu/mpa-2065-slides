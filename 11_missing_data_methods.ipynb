{
 "cells": [
  {
   "cell_type": "markdown",
   "id": "ef9e96f3",
   "metadata": {
    "slideshow": {
     "slide_type": "slide"
    }
   },
   "source": [
    "<center><h1>Missing Data Methods & Mechanisms</h1></center>\n",
    "<center><h3>Ellen Duong</h3></center>\n",
    "<center><h3>August Guang</h3></center>\n",
    "<center><h3>Paul Stey</h3></center>"
   ]
  },
  {
   "cell_type": "markdown",
   "id": "83a5be78",
   "metadata": {
    "slideshow": {
     "slide_type": "slide"
    }
   },
   "source": [
    "# 1. Missing Data Methods\n",
    "\n",
    "  * Entire field of research in statistics\n",
    "  * Two canonical textbooks\n",
    "    - _Statistical Analysis with Missing Data_, Little \\& Rubin\n",
    "    - _Applied Missing Data Analysis_, Enders"
   ]
  },
  {
   "cell_type": "markdown",
   "id": "76ef7d87",
   "metadata": {
    "slideshow": {
     "slide_type": "subslide"
    }
   },
   "source": [
    "## 1.1 Missing Data\n",
    "\n",
    "In general, missing data refers to any instance in which we have a variable for which one or more of our observations is not present.\n",
    "\n",
    "<br>\n",
    "<br>\n",
    "<center>¯\\_(ツ)_/¯</center>"
   ]
  },
  {
   "cell_type": "markdown",
   "id": "d55d5730",
   "metadata": {
    "slideshow": {
     "slide_type": "subslide"
    }
   },
   "source": [
    "### 1.1.1 Why are data missing?\n",
    "    \n",
    "Missing data may arise for any number of reasons. For example,\n",
    " 1. Patient left our clinical trial early\n",
    " 2. Survey respondent failed to complete all items on the questionnaire\n",
    " 3. Hard drive failure on server storing data\n",
    " 4. Respondent declined to answer question"
   ]
  },
  {
   "cell_type": "markdown",
   "id": "a24a3ccf",
   "metadata": {
    "slideshow": {
     "slide_type": "subslide"
    }
   },
   "source": [
    "### 1.2.1 Mechanisms of Missingness\n",
    "\n",
    "There are a few recognized forms of missingness, often called _missingness mechanisms_\n",
    "\n",
    "\n",
    "* Missing completely at random (MCAR)\n",
    "* Missing at random (MAR)\n",
    "* Missing not at random (MNAR)"
   ]
  },
  {
   "cell_type": "markdown",
   "id": "c8b41378",
   "metadata": {
    "slideshow": {
     "slide_type": "subslide"
    }
   },
   "source": [
    "### 1.2.2 Missing Completely At Random (MCAR)\n",
    "\n",
    "The designation \"missing completely at random\" is used when the probability of missing data on a variable, $Y$, is _not_ related to other measured variables, nor to $Y$ itself.\n",
    "\n",
    "Examples:\n",
    "- Weather Data: If the temperature recording equipment fails randomly without any relation to the temperature or other factors\n",
    "- Lab Measurements: If some instruments fail to record data and the failued is not related to the actual values being measured"
   ]
  },
  {
   "cell_type": "markdown",
   "id": "6531c9d9",
   "metadata": {
    "slideshow": {
     "slide_type": "subslide"
    }
   },
   "source": [
    "### 1.2.3 Missing at Random (MAR)\n",
    "\n",
    "Data are said to be \"missing at random\" when the probability of missing data on a variable, say $Y$, is related to some other measured variable(s) in the model, but not $Y$ itself.\n",
    "\n",
    "Examples:\n",
    "- Educational Testing: If students are more likely to skip certain types of questions on a standardized test based on their level of familiarity with the topic being tests, and this skipping behavior can be predicted by their performance on other parts of the test\n",
    "- Income Reporting Survey: If individuals with high incomes are less likely to disclose their exact income and this likelihood can be predicted based on other observable factos such as education level, employment status, or age."
   ]
  },
  {
   "cell_type": "markdown",
   "id": "928f25c1",
   "metadata": {
    "slideshow": {
     "slide_type": "subslide"
    }
   },
   "source": [
    "### 1.2.4 Missing Not at Random (MNAR)\n",
    "\n",
    "Data are described as \"missing not at random\" when the probability of missing data on a variable, $Y$, is related to the variable $Y$ itself.\n",
    "\n",
    "Examples:\n",
    "- Patient Follow-up in a Clinical Trial: If patients who experience severe side effects are more likely to drop out of the study, the the missing data on the outcomes is not at random.\n",
    "- Social Surverys on Illegal Activities: If those who are actively involved in illegal behaviors are less likely to participate in the survey, and this decision is related to thier involvement in illegal activities (unobserved variable), then the missing data on illegal behaviors is not at random"
   ]
  },
  {
   "cell_type": "markdown",
   "id": "c58528ce",
   "metadata": {
    "slideshow": {
     "slide_type": "slide"
    }
   },
   "source": [
    "# 2. Methods of Addressing Missingness\n",
    "\n",
    "\n",
    "Many approaches to dealing with missingness. They differ quite substantially in the properties and when they can be used (if at all)."
   ]
  },
  {
   "cell_type": "markdown",
   "id": "4cc7fa0f",
   "metadata": {
    "slideshow": {
     "slide_type": "subslide"
    }
   },
   "source": [
    "## 2.1 Listwise Deletion\n",
    "\n",
    "* Delete all data from observations with missing values\n",
    "* Not a good idea\n",
    "* But very commonly done, nonetheless"
   ]
  },
  {
   "cell_type": "markdown",
   "id": "5d82e7fa",
   "metadata": {
    "slideshow": {
     "slide_type": "subslide"
    }
   },
   "source": [
    "### 2.1.1. Listwise Deletion Example"
   ]
  },
  {
   "cell_type": "code",
   "execution_count": 1,
   "id": "52b17977",
   "metadata": {
    "slideshow": {
     "slide_type": "-"
    }
   },
   "outputs": [
    {
     "data": {
      "text/html": [
       "<style>\n",
       ".list-inline {list-style: none; margin:0; padding: 0}\n",
       ".list-inline>li {display: inline-block}\n",
       ".list-inline>li:not(:last-child)::after {content: \"\\00b7\"; padding: 0 .5ex}\n",
       "</style>\n",
       "<ol class=list-inline><li>13012</li><li>18</li></ol>\n"
      ],
      "text/latex": [
       "\\begin{enumerate*}\n",
       "\\item 13012\n",
       "\\item 18\n",
       "\\end{enumerate*}\n"
      ],
      "text/markdown": [
       "1. 13012\n",
       "2. 18\n",
       "\n",
       "\n"
      ],
      "text/plain": [
       "[1] 13012    18"
      ]
     },
     "metadata": {},
     "output_type": "display_data"
    }
   ],
   "source": [
    "arrests_df <- read.csv(\"data/pvd_arrests_2021-10-03.csv\")\n",
    "\n",
    "dim(arrests_df)"
   ]
  },
  {
   "cell_type": "code",
   "execution_count": 2,
   "id": "5ddbb121",
   "metadata": {
    "slideshow": {
     "slide_type": "-"
    }
   },
   "outputs": [
    {
     "data": {
      "text/html": [
       "<style>\n",
       ".list-inline {list-style: none; margin:0; padding: 0}\n",
       ".list-inline>li {display: inline-block}\n",
       ".list-inline>li:not(:last-child)::after {content: \"\\00b7\"; padding: 0 .5ex}\n",
       "</style>\n",
       "<ol class=list-inline><li>10029</li><li>18</li></ol>\n"
      ],
      "text/latex": [
       "\\begin{enumerate*}\n",
       "\\item 10029\n",
       "\\item 18\n",
       "\\end{enumerate*}\n"
      ],
      "text/markdown": [
       "1. 10029\n",
       "2. 18\n",
       "\n",
       "\n"
      ],
      "text/plain": [
       "[1] 10029    18"
      ]
     },
     "metadata": {},
     "output_type": "display_data"
    }
   ],
   "source": [
    "is_complete_obs <- complete.cases(arrests_df)\n",
    "\n",
    "arrests_comp <- arrests_df[is_complete_obs, ]\n",
    "\n",
    "dim(arrests_comp)"
   ]
  },
  {
   "cell_type": "markdown",
   "id": "dd1e9683",
   "metadata": {
    "slideshow": {
     "slide_type": "subslide"
    }
   },
   "source": [
    "## 2.2 Single Imputation\n",
    "\n",
    "* Examples: mean imputation, regression imputation, simple random sample (\"hot-deck\") imputation\n",
    "* Better than deletion, but introduces bias\n",
    "* Some single imputation methods reduce variance in our variables\n"
   ]
  },
  {
   "cell_type": "markdown",
   "id": "34049c21",
   "metadata": {
    "slideshow": {
     "slide_type": "subslide"
    }
   },
   "source": [
    "<img src=\"images/mean_impute.png\"></img>"
   ]
  },
  {
   "cell_type": "markdown",
   "id": "c67b3ae2",
   "metadata": {
    "slideshow": {
     "slide_type": "subslide"
    }
   },
   "source": [
    "<img src=\"images/regression_impute.png\"></img>\n"
   ]
  },
  {
   "cell_type": "markdown",
   "id": "038bf435",
   "metadata": {
    "slideshow": {
     "slide_type": "subslide"
    }
   },
   "source": [
    "### 2.1.1 Simple Random Sample (\"hot-deck\") Imputation\n",
    "\n",
    "* Replaces missing values with random sample of observed values\n",
    "* Preserve distributional properties"
   ]
  },
  {
   "cell_type": "code",
   "execution_count": 3,
   "id": "73b24a69",
   "metadata": {
    "slideshow": {
     "slide_type": "-"
    }
   },
   "outputs": [],
   "source": [
    "hotdeck <- function(v) {\n",
    "    obs_values <- v[!is.na(v)]\n",
    "    n <- length(v)\n",
    "    \n",
    "    for (i in 1:n) {\n",
    "        if (is.na(v[i])) {\n",
    "            v[i] <- sample(obs_values, 1)\n",
    "        }\n",
    "    }\n",
    "    return(v)\n",
    "}"
   ]
  },
  {
   "cell_type": "markdown",
   "id": "a567c3d9",
   "metadata": {
    "slideshow": {
     "slide_type": "subslide"
    }
   },
   "source": [
    "### 2.1.2 Running \"Hot-Deck\" Example"
   ]
  },
  {
   "cell_type": "code",
   "execution_count": 7,
   "id": "2ae99aed",
   "metadata": {
    "slideshow": {
     "slide_type": "-"
    }
   },
   "outputs": [
    {
     "data": {
      "text/plain": [
       "animals\n",
       "bird  cat  dog \n",
       "   1    2    3 "
      ]
     },
     "metadata": {},
     "output_type": "display_data"
    }
   ],
   "source": [
    "animals <- c(\"cat\", \"dog\", \"cat\", NA, NA, \"dog\", \"bird\", NA, \"dog\", NA)\n",
    "\n",
    "table(animals)"
   ]
  },
  {
   "cell_type": "code",
   "execution_count": 8,
   "id": "23447d89",
   "metadata": {
    "slideshow": {
     "slide_type": "-"
    }
   },
   "outputs": [
    {
     "name": "stdout",
     "output_type": "stream",
     "text": [
      " [1] \"cat\"  \"dog\"  \"cat\"  \"cat\"  \"cat\"  \"dog\"  \"bird\" \"dog\"  \"dog\"  \"dog\" \n"
     ]
    },
    {
     "data": {
      "text/plain": [
       "animals_comp\n",
       "bird  cat  dog \n",
       "   1    4    5 "
      ]
     },
     "metadata": {},
     "output_type": "display_data"
    }
   ],
   "source": [
    "animals_comp <- hotdeck(animals)\n",
    "print(animals_comp)\n",
    "\n",
    "table(animals_comp)"
   ]
  },
  {
   "cell_type": "markdown",
   "id": "a9e006eb",
   "metadata": {
    "slideshow": {
     "slide_type": "subslide"
    }
   },
   "source": [
    "## 2.3 Multiple Imputation\n",
    "\n",
    "* Current \"gold-standard\" in missing data methods\n",
    "* Statistical technique used to handle missing data by creating multiple plausible imputed datasets. Each imputed dataset is analyzed separately, and the results are then combined to provide more robust reliable estimates.\n",
    "* Preserves variance-covariance matrix of data set\n",
    "* Implemented in _mice_ package in R also in the _Amelia_ package"
   ]
  },
  {
   "cell_type": "code",
   "execution_count": 12,
   "id": "0b76e26e-ab2c-4ac9-b714-995b69bf3733",
   "metadata": {},
   "outputs": [
    {
     "name": "stderr",
     "output_type": "stream",
     "text": [
      "Loading required package: Rcpp\n",
      "\n",
      "## \n",
      "## Amelia II: Multiple Imputation\n",
      "## (Version 1.8.1, built: 2022-11-18)\n",
      "## Copyright (C) 2005-2023 James Honaker, Gary King and Matthew Blackwell\n",
      "## Refer to http://gking.harvard.edu/amelia/ for more information\n",
      "## \n",
      "\n",
      "Warning message in amelia.prep(x = x, m = m, idvars = idvars, empri = empri, ts = ts, :\n",
      "“You have a small number of observations, relative to the number, of variables in the imputation model.  Consider removing some variables, or reducing the order of time polynomials to reduce the number of parameters.”\n"
     ]
    },
    {
     "name": "stdout",
     "output_type": "stream",
     "text": [
      "-- Imputation 1 --\n",
      "\n",
      "  1  2  3  4  5  6  7  8  9 10 11 12 13 14 15 16 17 18 19 20\n",
      " 21 22 23 24 25 26 27 28 29 30 31 32 33 34\n",
      "\n",
      "-- Imputation 2 --\n",
      "\n",
      "  1  2  3  4  5  6  7  8  9 10 11 12 13 14 15 16 17 18 19 20\n",
      " 21 22 23 24 25 26 27 28 29 30 31 32 33 34 35 36 37 38 39 40\n",
      " 41 42 43 44 45 46 47 48 49 50 51 52 53 54 55 56 57 58 59 60\n",
      " 61 62 63 64 65 66 67 68 69 70 71 72 73 74 75 76 77 78 79 80\n",
      " 81 82 83 84 85 86 87 88 89 90 91 92 93 94 95 96 97 98 99 100\n",
      " 101 102 103 104 105 106 107 108 109 110 111 112 113 114 115 116 117 118 119 120\n",
      " 121 122 123 124 125 126 127 128 129 130 131 132 133 134 135 136 137 138 139 140\n",
      " 141 142 143 144 145 146 147 148 149 150 151 152 153 154 155 156 157 158 159 160\n",
      " 161 162 163 164 165 166 167 168 169 170 171 172 173 174 175 176 177 178 179 180\n",
      " 181 182 183 184 185 186 187 188 189 190 191 192 193 194 195 196 197 198 199 200\n",
      " 201 202 203 204 205 206 207 208 209 210 211 212 213 214 215 216 217 218 219 220\n",
      " 221 222 223 224 225 226 227 228 229 230 231 232 233 234 235 236 237 238 239 240\n",
      " 241 242 243 244 245 246 247 248 249 250 251 252 253 254 255 256 257 258 259 260\n",
      " 261 262 263 264 265 266 267 268 269 270 271 272 273 274 275 276 277 278 279 280\n",
      " 281 282 283 284 285 286 287 288 289 290 291 292 293 294 295 296 297 298 299 300\n",
      " 301 302 303 304 305 306 307 308 309 310 311 312 313 314 315 316 317 318 319 320\n",
      " 321 322 323 324 325 326 327 328 329 330 331 332 333 334 335 336 337 338 339 340\n",
      " 341 342 343 344 345 346 347 348 349 350 351 352 353 354 355 356 357 358 359 360\n",
      " 361 362 363 364 365 366 367 368 369 370 371 372 373 374 375 376 377 378 379 380\n",
      " 381 382 383 384 385 386 387 388 389 390 391 392 393 394 395 396 397 398 399 400\n",
      " 401 402 403 404 405 406 407 408 409 410 411 412 413 414 415 416 417 418 419 420\n",
      " 421 422 423 424 425 426 427 428 429 430 431 432 433 434 435 436 437 438 439 440\n",
      " 441 442 443 444 445 446 447 448 449 450 451 452 453 454 455 456 457 458 459 460\n",
      " 461 462 463 464 465 466 467 468 469 470 471 472 473 474 475 476 477 478 479 480\n",
      " 481 482 483 484 485\n",
      "\n",
      "-- Imputation 3 --\n",
      "\n",
      "  1  2  3  4  5  6  7  8  9 10 11 12 13 14 15 16 17 18 19 20\n",
      " 21 22 23 24 25 26 27 28 29 30 31 32 33 34 35 36 37 38 39 40\n",
      " 41 42 43 44 45 46 47 48 49 50 51 52 53 54 55 56 57 58 59 60\n",
      " 61 62 63 64 65 66 67 68\n",
      "\n",
      "-- Imputation 4 --\n",
      "\n",
      "  1  2  3  4  5  6  7  8  9 10 11 12 13 14 15 16 17 18 19 20\n",
      " 21 22 23 24 25 26 27 28 29 30 31 32 33 34 35 36 37 38 39 40\n",
      " 41 42 43 44 45 46 47 48 49 50 51 52 53 54 55 56 57 58 59 60\n",
      " 61 62 63 64 65 66 67 68 69 70 71 72 73 74 75 76 77 78 79 80\n",
      " 81 82 83 84 85 86 87 88 89 90 91 92 93 94 95 96 97 98 99 100\n",
      " 101 102 103 104 105 106 107 108 109 110 111 112 113 114 115 116 117 118 119 120\n",
      " 121 122 123 124 125 126 127 128 129 130 131 132 133 134 135 136 137 138 139 140\n",
      " 141 142 143 144 145 146 147 148 149 150 151 152 153 154 155 156 157 158 159 160\n",
      " 161 162 163 164 165 166 167 168 169 170 171 172 173 174 175 176 177 178 179 180\n",
      " 181 182 183 184 185 186 187 188 189 190 191 192 193 194 195 196 197 198 199 200\n",
      " 201 202 203 204 205 206 207 208 209 210 211 212 213 214 215 216 217 218 219 220\n",
      " 221 222 223 224 225 226 227 228 229 230 231 232 233 234 235 236 237 238 239 240\n",
      " 241 242 243 244 245 246 247 248 249 250 251 252 253 254 255 256 257 258 259 260\n",
      " 261 262 263 264 265 266 267 268 269 270 271 272 273 274 275 276 277 278 279 280\n",
      " 281 282 283 284 285 286 287 288 289 290 291 292 293 294 295 296 297 298 299 300\n",
      " 301 302 303 304 305 306 307 308 309 310 311 312 313 314\n",
      "\n",
      "-- Imputation 5 --\n",
      "\n",
      "  1  2  3  4  5  6  7  8  9 10 11\n",
      "\n",
      "[1] \"Imputed datasets:\"\n",
      "   ID       Age   Income Education\n",
      "1   1  25.00000 50000.00         1\n",
      "2   2  30.00000 55821.29         2\n",
      "3   3  34.95741 60000.00         2\n",
      "4   4  22.00000 75000.00         1\n",
      "5   5  35.00000 74253.67         3\n",
      "6   6  32.89418 80000.00         2\n",
      "7   7  28.00000 90000.00         3\n",
      "8   8  40.00000 87978.53         1\n",
      "9   9 134.55346 55000.00         2\n",
      "10 10  32.00000 70000.00         3\n"
     ]
    }
   ],
   "source": [
    "# Install and load the Amelia package\n",
    "library(Amelia)\n",
    "\n",
    "# Create a sample dataset with missing values\n",
    "set.seed(123)\n",
    "data <- data.frame(\n",
    "  ID = 1:10,\n",
    "  Age = c(25, 30, NA, 22, 35, NA, 28, 40, NA, 32),\n",
    "  Income = c(50000, NA, 60000, 75000, NA, 80000, 90000, NA, 55000, 70000),\n",
    "  Education = c(\"High School\", \"College\", \"College\", \"High School\", \"Graduate\", \"College\", \"Graduate\", \"High School\", \"College\", \"Graduate\")\n",
    ")\n",
    "\n",
    "# Convert the character variable 'Education' to numeric\n",
    "data$Education <- as.numeric(factor(data$Education, levels = unique(data$Education)))\n",
    "\n",
    "# Impute missing values using Amelia\n",
    "imputed_data <- amelia(data, m = 5, ty = \"mix\")\n",
    "\n",
    "# View imputed datasets\n",
    "print(\"Imputed datasets:\")\n",
    "print(imputed_data$imputations$imp1)  # View the first imputed dataset\n"
   ]
  },
  {
   "cell_type": "markdown",
   "id": "f519e528-1f5d-47b1-84d7-50421e991e76",
   "metadata": {},
   "source": [
    "## 3. Implications and Considerations when Dealing with Missing Data\n",
    "\n",
    "- Bias in Results: Ignoring or mishandling missing data may lead to inaccurate or misleading conclusions\n",
    "- Reduced Sample Size\n",
    "- Selective bias can occur when the missing data is related to specific characteristics or outcomes.\n",
    "- Deleting missing data can lead to loss of potentially valuable information\n",
    "- Imputation methods can introduce bias. It's crucial to understand the assumptions underlying these methods and their potential impact on the results.\n",
    "- Be transparent and report how you handle missing data"
   ]
  },
  {
   "cell_type": "markdown",
   "id": "783e01dc-6f2a-4f6e-8a5a-bc75bc110e6a",
   "metadata": {
    "tags": []
   },
   "source": [
    "## 4. Summary of strategies"
   ]
  },
  {
   "cell_type": "markdown",
   "id": "b8b50714-0198-4a1e-ae05-0873f6acbf78",
   "metadata": {},
   "source": [
    "| **Strategy**                       | **Description**                                                                                                                                                                   | **Pros**                                                     | **Cons**                                                                                                           |\n",
    "| ---------------------------------- | --------------------------------------------------------------------------------------------------------------------------------------------------------------------------------- | ------------------------------------------------------------ | ------------------------------------------------------------------------------------------------------------------- |\n",
    "| **Complete Case Analysis**          | Exclude observations with missing values.                                                                         | Simple and easy to implement.                                | May lead to biased results if missingness is not completely at random (MCAR). Reduces sample size.                |\n",
    "| **Mean/Median Imputation**         | Replace missing values with the mean or median of the observed values for that variable.                           | Easy and quick. Can work well if missingness is MCAR.       | May distort variable distributions. Ignores relationships.                                                            |\n",
    "| **Regression Imputation**           | Predict missing values using regression models based on other observed variables.                                | Captures relationships between variables.                  | Assumes a linear relationship. Sensitive to model assumptions.                                                       |\n",
    "| **Multiple Imputation**            | Generate multiple datasets with imputed values and pool results.                                                   | Accounts for uncertainty. Preserves variability.            | Requires more advanced methods. Can be computationally intensive.                                                   |\n",
    "| **Last Observation Carried Forward**| Use the last available observation to impute missing values.                                                      | Simple, suitable for time-series data.                     | Assumes values are stable over time. May not be suitable for all types of data.                                    |\n",
    "| **Interpolation/Extrapolation**    | Estimate missing values based on trends in the observed data.                                                      | Useful for time-series data.                               | Assumes a consistent pattern. May not be suitable for all types of data.                                           |\n",
    "| **Dummy Variable Indicators**       | Create dummy variables indicating missingness.                                                                   | Preserves information about missingness.                  | Adds complexity to the model. May require careful interpretation.                                                 |\n"
   ]
  }
 ],
 "metadata": {
  "@webio": {
   "lastCommId": null,
   "lastKernelId": null
  },
  "celltoolbar": "Slideshow",
  "kernelspec": {
   "display_name": "R",
   "language": "R",
   "name": "ir"
  },
  "language_info": {
   "codemirror_mode": "r",
   "file_extension": ".r",
   "mimetype": "text/x-r-source",
   "name": "R",
   "pygments_lexer": "r",
   "version": "4.3.1"
  }
 },
 "nbformat": 4,
 "nbformat_minor": 5
}
